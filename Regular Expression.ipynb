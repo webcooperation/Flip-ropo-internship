{
 "cells": [
  {
   "cell_type": "markdown",
   "id": "3bcc85e0",
   "metadata": {},
   "source": [
    "Question 1- Write a Python program to check that a string contains only a certain set of characters (in this case a-z, A-Z and 0-9)."
   ]
  },
  {
   "cell_type": "code",
   "execution_count": 5,
   "id": "180458cb",
   "metadata": {},
   "outputs": [
    {
     "name": "stdout",
     "output_type": "stream",
     "text": [
      "The string contains only a-z, A-Z, and 0-9.\n"
     ]
    }
   ],
   "source": [
    "import re\n",
    "string=\"RegularExpression123\"\n",
    "pattern=r'^[a-zA-Z0-9]+$' #^[a-zA-Z0-9]+$ specifies that the string should start (^) and end ($) with one or more (+) characters from the set a-z, A-Z, and 0-9\n",
    "match=re.match(pattern,string)\n",
    "if match:\n",
    "        print(\"The string contains only a-z, A-Z, and 0-9.\")\n",
    "else:\n",
    "        print(\"Enter only a-z,A-Z and 0-9\")\n",
    " "
   ]
  },
  {
   "cell_type": "markdown",
   "id": "fcc3326a",
   "metadata": {},
   "source": [
    "Question 2- Create a function in python that matches a string that has an a followed by zero or more b's"
   ]
  },
  {
   "cell_type": "code",
   "execution_count": 9,
   "id": "9090ce88",
   "metadata": {},
   "outputs": [
    {
     "name": "stdout",
     "output_type": "stream",
     "text": [
      "The string matches the pattern.\n",
      "The string matches the pattern.\n",
      "The string does not match the pattern.\n"
     ]
    }
   ],
   "source": [
    "import re\n",
    "\n",
    "def Strings_matched(strings):\n",
    "    Pattern = r'^ab*$'  # should start (^) with an 'a', followed by zero or more (*) 'b's, and then end\n",
    "    match = re.match(Pattern, strings)\n",
    "    if match:\n",
    "        print(\"The string matches the pattern.\")\n",
    "    else:\n",
    "        print(\"The string does not match the pattern.\")\n",
    "\n",
    "# Test the function\n",
    "Value_1 = \"a\"\n",
    "Value_2 = \"abb\"\n",
    "Value_3 = \"ab0c\"\n",
    "Strings_matched(Value_1)\n",
    "Strings_matched(Value_2)\n",
    "Strings_matched(Value_3)"
   ]
  },
  {
   "cell_type": "markdown",
   "id": "1d507aaf",
   "metadata": {},
   "source": [
    "Question 3-  Create a function in python that matches a string that has an a followed by one or more b's"
   ]
  },
  {
   "cell_type": "code",
   "execution_count": 10,
   "id": "b814370e",
   "metadata": {},
   "outputs": [
    {
     "name": "stdout",
     "output_type": "stream",
     "text": [
      "The string does not match the pattern.\n",
      "The string matches the pattern.\n",
      "The string does not match the pattern.\n"
     ]
    }
   ],
   "source": [
    "import re\n",
    "\n",
    "def Strings_matched(strings):\n",
    "    Pattern = r'^ab+$' # pecifies that the string should start (^) with an 'a', followed by one or more (+) 'b's, and then end\n",
    "    match = re.match(Pattern, strings)\n",
    "    if match:\n",
    "        print(\"The string matches the pattern.\")\n",
    "    else:\n",
    "        print(\"The string does not match the pattern.\")\n",
    "\n",
    "# Test the function\n",
    "Value_1 = \"a\"\n",
    "Value_2 = \"abb\"\n",
    "Value_3 = \"ab0c\"\n",
    "Strings_matched(Value_1)\n",
    "Strings_matched(Value_2)\n",
    "Strings_matched(Value_3)"
   ]
  },
  {
   "cell_type": "markdown",
   "id": "e58661e0",
   "metadata": {},
   "source": [
    "Question 4- Create a function in Python and use RegEx that matches a string that has an a followed by zero or one 'b'."
   ]
  },
  {
   "cell_type": "code",
   "execution_count": 13,
   "id": "bd058f7c",
   "metadata": {},
   "outputs": [
    {
     "name": "stdout",
     "output_type": "stream",
     "text": [
      "The string matches the pattern.\n",
      "The string does not match the pattern.\n",
      "The string does not match the pattern.\n"
     ]
    }
   ],
   "source": [
    "import re\n",
    "\n",
    "def Strings_matched(strings):\n",
    "    Pattern = r'^ab?$'  # should start (^) with an 'a', followed  by zero or one 'b, and then end\n",
    "    match = re.match(Pattern, strings)\n",
    "    if match:\n",
    "        print(\"The string matches the pattern.\")\n",
    "    else:\n",
    "        print(\"The string does not match the pattern.\")\n",
    "\n",
    "# Test the function\n",
    "Value_1 = \"a\"\n",
    "Value_2 = \"abb\"\n",
    "Value_3 = \"ab0c\"\n",
    "Strings_matched(Value_1)\n",
    "Strings_matched(Value_2)\n",
    "Strings_matched(Value_3)"
   ]
  },
  {
   "cell_type": "markdown",
   "id": "7e441352",
   "metadata": {},
   "source": [
    "Question 5- Write a Python program that matches a string that has an a followed by three 'b'."
   ]
  },
  {
   "cell_type": "code",
   "execution_count": 15,
   "id": "4f234e70",
   "metadata": {},
   "outputs": [
    {
     "name": "stdout",
     "output_type": "stream",
     "text": [
      "The string does not match the pattern.\n",
      "The string does not match the pattern.\n",
      "The string matches the pattern.\n"
     ]
    }
   ],
   "source": [
    "import re\n",
    "\n",
    "def Strings_matched(strings):\n",
    "    Pattern = r'^abbb$'  # should start (^) with an 'a', followed by  followed by three 'b, and then end\n",
    "    match = re.match(Pattern, strings)\n",
    "    if match:\n",
    "        print(\"The string matches the pattern.\")\n",
    "    else:\n",
    "        print(\"The string does not match the pattern.\")\n",
    "\n",
    "# Test the function\n",
    "Value_1 = \"accbbb\"\n",
    "Value_2 = \"abb\"\n",
    "Value_3 = \"abbb\"\n",
    "Strings_matched(Value_1)\n",
    "Strings_matched(Value_2)\n",
    "Strings_matched(Value_3)"
   ]
  },
  {
   "cell_type": "markdown",
   "id": "fa0efe6a",
   "metadata": {},
   "source": [
    "Question 6- Write a regular expression in Python to split a string into uppercase letters."
   ]
  },
  {
   "cell_type": "code",
   "execution_count": 17,
   "id": "01acc76c",
   "metadata": {},
   "outputs": [
    {
     "name": "stdout",
     "output_type": "stream",
     "text": [
      "\n",
      "Regular\n",
      "Expression\n",
      "For\n",
      "Python\n"
     ]
    }
   ],
   "source": [
    "import re\n",
    "string=\"RegularExpressionForPython\"\n",
    "pattern=r'(?=[A-Z])'\n",
    "match=re.split(pattern,string)\n",
    "for result in match:\n",
    "    print(result)\n"
   ]
  },
  {
   "cell_type": "markdown",
   "id": "a5470c70",
   "metadata": {},
   "source": [
    "Question 7- Write a Python program that matches a string that has an a followed by two to three 'b'."
   ]
  },
  {
   "cell_type": "code",
   "execution_count": 19,
   "id": "a0695657",
   "metadata": {},
   "outputs": [
    {
     "name": "stdout",
     "output_type": "stream",
     "text": [
      "The string does not match the pattern.\n",
      "The string matches the pattern.\n",
      "The string matches the pattern.\n"
     ]
    }
   ],
   "source": [
    "import re\n",
    "\n",
    "def Strings_matched(strings):\n",
    "    Pattern = r'^ab{2,3}$'  # should start (^) with an 'a', ollowed by two to three b, and then end\n",
    "    match = re.match(Pattern, strings)\n",
    "    if match:\n",
    "        print(\"The string matches the pattern.\")\n",
    "    else:\n",
    "        print(\"The string does not match the pattern.\")\n",
    "\n",
    "# Test the function\n",
    "Value_1 = \"ac\"\n",
    "Value_2 = \"abb\"\n",
    "Value_3 = \"abbb\"\n",
    "Strings_matched(Value_1)\n",
    "Strings_matched(Value_2)\n",
    "Strings_matched(Value_3)"
   ]
  },
  {
   "cell_type": "markdown",
   "id": "2a836915",
   "metadata": {},
   "source": [
    "Question 8- Write a Python program to find sequences of lowercase letters joined with a underscore."
   ]
  },
  {
   "cell_type": "code",
   "execution_count": 25,
   "id": "e3b39d7b",
   "metadata": {},
   "outputs": [
    {
     "name": "stdout",
     "output_type": "stream",
     "text": [
      "hello_world\n",
      "first_program\n",
      "visual_basic\n"
     ]
    }
   ],
   "source": [
    "import re\n",
    "string=\"hello_world is the first_program written by me in visual_basic\"\n",
    "pattern=r'[a-z]+_[a-z]+'\n",
    "match=re.findall(pattern,string)\n",
    "for result in match:\n",
    "    print(result)"
   ]
  },
  {
   "cell_type": "markdown",
   "id": "16025a6b",
   "metadata": {},
   "source": [
    "Question 9- Write a Python program that matches a string that has an 'a' followed by anything, ending in 'b'."
   ]
  },
  {
   "cell_type": "code",
   "execution_count": 26,
   "id": "90b7d1ff",
   "metadata": {},
   "outputs": [
    {
     "name": "stdout",
     "output_type": "stream",
     "text": [
      "The string does not match the pattern.\n",
      "The string matches the pattern.\n",
      "The string matches the pattern.\n"
     ]
    }
   ],
   "source": [
    "import re\n",
    "\n",
    "def Strings_matched(strings):\n",
    "    Pattern = r'^a.*b$'  # should start (^) with an 'a', a' followed by anything, ending in 'b'\n",
    "    match = re.match(Pattern, strings)\n",
    "    if match:\n",
    "        print(\"The string matches the pattern.\")\n",
    "    else:\n",
    "        print(\"The string does not match the pattern.\")\n",
    "\n",
    "# Test the function\n",
    "Value_1 = \"ac\"\n",
    "Value_2 = \"abb\"\n",
    "Value_3 = \"abbb\"\n",
    "Strings_matched(Value_1)\n",
    "Strings_matched(Value_2)\n",
    "Strings_matched(Value_3)"
   ]
  },
  {
   "cell_type": "markdown",
   "id": "b8821f97",
   "metadata": {},
   "source": [
    "Question 10- Write a Python program that matches a word at the beginning of a string."
   ]
  },
  {
   "cell_type": "code",
   "execution_count": 35,
   "id": "7e108407",
   "metadata": {},
   "outputs": [
    {
     "name": "stdout",
     "output_type": "stream",
     "text": [
      "The word 'Is' is found at the beginning of the string. 'IS Python lovely?'.\n"
     ]
    }
   ],
   "source": [
    "import re\n",
    "word=\"Is\"\n",
    "string1=\"IS Python lovely?\"\n",
    "#string2=\"Is Aresene a Great Coach?\"\n",
    "pattern=rf'^{re.escape(string)}'\n",
    "match=re.match(pattern,string)\n",
    "if match:\n",
    "        print(f\"The word '{word}' is found at the beginning of the string. '{string1}'.\")\n",
    "else:\n",
    "        print(f\"The word '{word}' is not found at the beginning of the string .'{string1}''.\")"
   ]
  },
  {
   "cell_type": "markdown",
   "id": "fcf68dcb",
   "metadata": {},
   "source": [
    "Question 11- Write a Python program to match a string that contains only upper and lowercase letters, numbers, and underscores"
   ]
  },
  {
   "cell_type": "code",
   "execution_count": 39,
   "id": "9dc9b3c8",
   "metadata": {},
   "outputs": [
    {
     "name": "stdout",
     "output_type": "stream",
     "text": [
      "The string contains only upper and lowercase letters, numbers, and underscores.\n",
      "The string does not contains only upper and lowercase letters, numbers, and underscores.\n",
      "The string contains only upper and lowercase letters, numbers, and underscores.\n"
     ]
    }
   ],
   "source": [
    "import re\n",
    "\n",
    "def Strings_matched(strings):\n",
    "    Pattern = r'^[a-zA-Z0-9_]+$'  # should  match a string that contains only upper and lowercase letters, numbers, and underscores\n",
    "    match = re.match(Pattern, strings)\n",
    "    if match:\n",
    "        print(\"The string contains only upper and lowercase letters, numbers, and underscores.\")\n",
    "    else:\n",
    "        print(\"The string does not contains only upper and lowercase letters, numbers, and underscores.\")\n",
    "\n",
    "# Test the function\n",
    "Value_1 = \"AyobamiOmisore_gmailcom\"\n",
    "Value_2 = \"MyLovely123&&\"\n",
    "Value_3 = \"abbb\"\n",
    "Strings_matched(Value_1)\n",
    "Strings_matched(Value_2)\n",
    "Strings_matched(Value_3)"
   ]
  },
  {
   "cell_type": "markdown",
   "id": "95a161a2",
   "metadata": {},
   "source": [
    "Question 12- Write a Python program where a string will start with a specific number. "
   ]
  },
  {
   "cell_type": "code",
   "execution_count": 8,
   "id": "5632c690",
   "metadata": {},
   "outputs": [
    {
     "name": "stdout",
     "output_type": "stream",
     "text": [
      "Enter the number to start with 567\n",
      "True\n"
     ]
    }
   ],
   "source": [
    "import re\n",
    "\n",
    "def Specific_number(strings,number):\n",
    "    number=str(int(input(\"Enter the number to start with \")))\n",
    "   # Check if the string starts with the number\n",
    "    if strings.startswith(number):\n",
    "        return True\n",
    "    else:\n",
    "        return False\n",
    "# Test the function\n",
    "Value_1 = \"567ABB\"\n",
    "number1 = 567\n",
    "print(Specific_number(Value_1,number1))"
   ]
  },
  {
   "cell_type": "markdown",
   "id": "e4b48133",
   "metadata": {},
   "source": [
    "Question 13- Write a Python program to remove leading zeros from an IP address"
   ]
  },
  {
   "cell_type": "code",
   "execution_count": 11,
   "id": "8d6a4246",
   "metadata": {},
   "outputs": [
    {
     "name": "stdout",
     "output_type": "stream",
     "text": [
      "192.168.1.1\n"
     ]
    }
   ],
   "source": [
    "ip=\"192.168.001.001\"\n",
    "ip_part=ip.split('.') # splitting ip address into component\n",
    "ip_part_without_zero=[str(int(component)) for component in ip_part]\n",
    " # Join the components back into an IP address string\n",
    "cleaned_ip_address = '.'.join(ip_part_without_zero)\n",
    "print(cleaned_ip_address)"
   ]
  },
  {
   "cell_type": "markdown",
   "id": "4a392678",
   "metadata": {},
   "source": [
    "Question 14- Write a regular expression in python to match a date string in the form of Month name followed by day number and year stored in a text file."
   ]
  },
  {
   "cell_type": "code",
   "execution_count": 29,
   "id": "5db17d26",
   "metadata": {},
   "outputs": [
    {
     "name": "stdout",
     "output_type": "stream",
     "text": [
      "15/08/1947\n"
     ]
    }
   ],
   "source": [
    "import re\n",
    "\n",
    "# open a text file\n",
    "f = open(\"minute.txt\", 'r')\n",
    "\n",
    "# extract the file's content\n",
    "content = f.read()\n",
    "\n",
    "# a regular expression pattern to match dates\n",
    "pattern = \"\\d{2}[/-]\\d{2}[/-]\\d{4}\"\n",
    "\n",
    "# find all the strings that match the pattern\n",
    "dates = re.findall(pattern, content)\n",
    "\n",
    "for date in dates:\n",
    "    print(date)\n",
    "\n",
    "f.close()"
   ]
  },
  {
   "cell_type": "markdown",
   "id": "9713664f",
   "metadata": {},
   "source": [
    "Question 15- Write a Python program to search some literals strings in a string. Go to the editor"
   ]
  },
  {
   "cell_type": "code",
   "execution_count": 33,
   "id": "35b4dd55",
   "metadata": {},
   "outputs": [
    {
     "name": "stdout",
     "output_type": "stream",
     "text": [
      "['fox', 'dog']\n"
     ]
    }
   ],
   "source": [
    "def searching_lit(string, literals):\n",
    "    found = []\n",
    "\n",
    "    for literal in literals:\n",
    "        if literal in string:\n",
    "            found.append(literal)\n",
    "\n",
    "    return found\n",
    "\n",
    "# Test the searchin_lit function\n",
    "text = \"The quick brown fox jumps over the lazy dog.\"\n",
    "search_list = [\"fox\", \"dog\", \"horse\"]\n",
    "\n",
    "found = searching_lit(text, search_list)\n",
    "print(found)"
   ]
  },
  {
   "cell_type": "markdown",
   "id": "0bd582cc",
   "metadata": {},
   "source": [
    "Question 16- Write a Python program to search a literals string in a string and also find the location within the original string where the pattern occurs\n",
    "Sample text : 'The quick brown fox jumps over the lazy dog.'\n",
    "Searched words : 'fox'"
   ]
  },
  {
   "cell_type": "code",
   "execution_count": 38,
   "id": "697df1ec",
   "metadata": {},
   "outputs": [
    {
     "name": "stdout",
     "output_type": "stream",
     "text": [
      "[('fox', 16), ('dog', 40), ('horse', -1)]\n"
     ]
    }
   ],
   "source": [
    "def searching_lit(string, literals):\n",
    "    found = []\n",
    "\n",
    "    for literal in literals:\n",
    "        position=string.find(literal)\n",
    "        if position !=1:\n",
    "            found.append((literal,position))\n",
    "\n",
    "    return found\n",
    "\n",
    "# Test the searchin_lit function\n",
    "text = \"The quick brown fox jumps over the lazy dog.\"\n",
    "search_list = [\"fox\", \"dog\", \"horse\"]\n",
    "\n",
    "found = searching_lit(text, search_list)\n",
    "print(found)"
   ]
  },
  {
   "cell_type": "markdown",
   "id": "41451980",
   "metadata": {},
   "source": [
    "Question 17- Write a Python program to find the substrings within a string."
   ]
  },
  {
   "cell_type": "code",
   "execution_count": 44,
   "id": "42d4269a",
   "metadata": {},
   "outputs": [
    {
     "name": "stdout",
     "output_type": "stream",
     "text": [
      "Substrings: ['exercise', 'exercise', 'exercise']\n"
     ]
    }
   ],
   "source": [
    "def fsubstrings(string,pattern):\n",
    "    substr = []\n",
    "\n",
    "    position = string.find(pattern)\n",
    "    while position != -1:\n",
    "        substr.append(pattern)\n",
    "        position= string.find(pattern, position + 1)\n",
    "\n",
    "    return substr\n",
    "\n",
    "# Testing the function\n",
    "text = 'Python exercises, PHP exercises, C# exercises'\n",
    "pattern='exercise'\n",
    "substrings = fsubstrings(text,pattern)\n",
    "print(\"Substrings:\", substrings)"
   ]
  },
  {
   "cell_type": "markdown",
   "id": "4ca0bb8b",
   "metadata": {},
   "source": [
    "Question 18- Write a Python program to find the occurrence and position of the substrings within a string."
   ]
  },
  {
   "cell_type": "code",
   "execution_count": 50,
   "id": "610035ff",
   "metadata": {},
   "outputs": [
    {
     "name": "stdout",
     "output_type": "stream",
     "text": [
      "Occurrences of 'exercise': 3\n",
      "Positions: [7, 22, 36]\n"
     ]
    }
   ],
   "source": [
    "def fsubstrings(string,pattern):\n",
    "    substr = []\n",
    "    position=[]\n",
    "    start=0\n",
    "\n",
    "    while True :\n",
    "        index = string.find(pattern, start)\n",
    "        if index == -1:\n",
    "            break\n",
    "        position.append(index)\n",
    "        start = index + len(pattern)\n",
    "\n",
    "    return position\n",
    "\n",
    "# Testing the function\n",
    "text = 'Python exercises, PHP exercises, C# exercises'\n",
    "pattern='exercise'\n",
    "substrings_pos = fsubstrings(text,pattern)\n",
    "print(f\"Occurrences of '{pattern}': {len(substrings_pos)}\")\n",
    "print(f\"Positions: {substrings_pos}\")"
   ]
  },
  {
   "cell_type": "markdown",
   "id": "2a75de13",
   "metadata": {},
   "source": [
    "Question 19- Write a Python program to convert a date of yyyy-mm-dd format to dd-mm-yyyy format."
   ]
  },
  {
   "cell_type": "code",
   "execution_count": 52,
   "id": "8f0d296b",
   "metadata": {},
   "outputs": [
    {
     "name": "stdout",
     "output_type": "stream",
     "text": [
      "Converted date: 31-12-2022\n"
     ]
    }
   ],
   "source": [
    "import re\n",
    "\n",
    "def convert_date_format(date):\n",
    "    pattern = r\"(\\d{4})-(\\d{2})-(\\d{2})\"\n",
    "    match = re.match(pattern, date)\n",
    "\n",
    "    if match:\n",
    "        year = match.group(1)\n",
    "        month = match.group(2)\n",
    "        day = match.group(3)\n",
    "        converted_date = f\"{day}-{month}-{year}\"\n",
    "        return converted_date\n",
    "    else:\n",
    "        return \"Invalid date format.\"\n",
    "\n",
    "# Example usage\n",
    "date = \"2022-12-31\"\n",
    "converted_date = convert_date_format(date)\n",
    "print(f\"Converted date: {converted_date}\")\n"
   ]
  },
  {
   "cell_type": "markdown",
   "id": "453d5084",
   "metadata": {},
   "source": [
    "Question 20- Write a Python program to find all words starting with 'a' or 'e' in a given string."
   ]
  },
  {
   "cell_type": "code",
   "execution_count": 57,
   "id": "08d42f15",
   "metadata": {},
   "outputs": [
    {
     "name": "stdout",
     "output_type": "stream",
     "text": [
      "Words starting with 'a' or 'e': ['A', 'always', 'a', 'Espirinto']\n"
     ]
    }
   ],
   "source": [
    "import re\n",
    "\n",
    "def word_starting_with_a_e(strings):\n",
    "    Pattern = r\"\\b[ae]\\w*\\b\" # pattern for starting with a or e \n",
    "    match = re.findall(Pattern, strings,re.IGNORECASE)\n",
    "    return match\n",
    "\n",
    "# Test the function\n",
    "text = \"A good Team always win a trophy irrespective of the coach like Espirinto.\"\n",
    "words = word_starting_with_a_e(text)\n",
    "print(\"Words starting with 'a' or 'e':\", words)"
   ]
  },
  {
   "cell_type": "markdown",
   "id": "be6a570b",
   "metadata": {},
   "source": [
    "Question 21- Write a Python program to separate and print the numbers and their position of a given string."
   ]
  },
  {
   "cell_type": "code",
   "execution_count": 4,
   "id": "d10ed9e7",
   "metadata": {},
   "outputs": [
    {
     "name": "stdout",
     "output_type": "stream",
     "text": [
      "Enter the stringabc123def456ghi875\n",
      "Numbers: 123456875\n",
      "Positions: 3 4 5 9 10 11 15 16 17\n"
     ]
    }
   ],
   "source": [
    "import re\n",
    "string=input(\"Enter the string\")\n",
    "nums=\"\"   # create empty string for number \n",
    "pos=\"\"    # create empty set for number position\n",
    "\n",
    "for i in range(len(string)): # loop through the entered string\n",
    "        if string[i].isdigit(): # check if the string is numerical\n",
    "            nums += string[i] # append it to num list\n",
    "            pos += str(i) + \" \"\n",
    "\n",
    "print(\"Numbers:\", nums)\n",
    "print(\"Positions:\", pos.strip())"
   ]
  },
  {
   "cell_type": "markdown",
   "id": "9a0703fe",
   "metadata": {},
   "source": [
    "Question 22- Write a regular expression in python program to extract maximum numeric value from a string"
   ]
  },
  {
   "cell_type": "code",
   "execution_count": 8,
   "id": "6f44550e",
   "metadata": {},
   "outputs": [
    {
     "name": "stdout",
     "output_type": "stream",
     "text": [
      "Enter the stringabc123def456ghi8759\n",
      "Max Numeric Value: 8759\n"
     ]
    }
   ],
   "source": [
    "import re\n",
    "string=input(\"Enter the string\")\n",
    "pattern=r'\\d+'\n",
    "match=re.findall(pattern,string)\n",
    "if match :\n",
    "    maximum = max(map(int, match))\n",
    "    print(\"Max Numeric Value:\", maximum)\n",
    "else:\n",
    "    print(\"Max Numeric Value:. None\" )\n"
   ]
  },
  {
   "cell_type": "markdown",
   "id": "62691976",
   "metadata": {},
   "source": [
    "Question 23- Write a Regex in Python to put spaces between words starting with capital letters"
   ]
  },
  {
   "cell_type": "code",
   "execution_count": 11,
   "id": "14476aec",
   "metadata": {},
   "outputs": [
    {
     "name": "stdout",
     "output_type": "stream",
     "text": [
      "Enter the stringILoveWatchingArsenalGame\n",
      "Putting spaces between words: I Love Watching Arsenal Game\n"
     ]
    }
   ],
   "source": [
    "import re\n",
    "string=input(\"Enter the string\")\n",
    "pattern1=r'(?<=.)([A-Z])'\n",
    "pattern2=r' \\1'\n",
    "match=re.sub(pattern1,pattern2,string)\n",
    "if match :\n",
    "     print(\"Putting spaces between words:\", match)\n",
    "else:\n",
    "    print(\"Putting spaces between words:. None\" )\n"
   ]
  },
  {
   "cell_type": "markdown",
   "id": "77b2b34d",
   "metadata": {},
   "source": [
    "Question 24- Python regex to find sequences of one upper case letter followed by lower case letters"
   ]
  },
  {
   "cell_type": "code",
   "execution_count": 13,
   "id": "3bab8c09",
   "metadata": {},
   "outputs": [
    {
     "name": "stdout",
     "output_type": "stream",
     "text": [
      "sequences of one upper case letter followed by lower case letters: ['Arsene', 'Wenger', 'Fantastic', 'Coach', 'Coached', 'Fantastic', 'Team']\n"
     ]
    }
   ],
   "source": [
    "import re\n",
    "string=\"ArseneWenger isaFantasticCoach andheCoached aFantasticTeam\"\n",
    "pattern=r'[A-Z][a-z]+' # matches an uppercase letter ([A-Z]) followed by one or more lowercase letters ([a-z]+).\n",
    "match=re.findall(pattern,string)\n",
    "if match :\n",
    "     print(\"sequences of one upper case letter followed by lower case letters:\", match)\n",
    "else:\n",
    "    print(\"sequences of one upper case letter followed by lower case letters:. None\" )"
   ]
  },
  {
   "cell_type": "markdown",
   "id": "5f6592de",
   "metadata": {},
   "source": [
    "Question 25- Write a Python program to remove duplicate words from Sentence using Regular Expression"
   ]
  },
  {
   "cell_type": "code",
   "execution_count": 16,
   "id": "19be1106",
   "metadata": {},
   "outputs": [
    {
     "name": "stdout",
     "output_type": "stream",
     "text": [
      "Removing the duplicated values: Arsenal is the only team that    without losing, other teams played all season losing\n"
     ]
    }
   ],
   "source": [
    "import re\n",
    "string=\"Arsenal is the only team that played all season without losing, other teams played all season losing\"\n",
    "pattern1=r'\\b(\\w+)\\b\\s+(?=.*\\b\\1\\b)'\n",
    "pattern2=\" \"\n",
    "match=re.sub(pattern1,pattern2,string)\n",
    "if match :\n",
    "     print(\"Removing the duplicated values:\", match)\n",
    "else:\n",
    "    print(\"Removing the duplicated values:. None\" )"
   ]
  },
  {
   "cell_type": "markdown",
   "id": "70a7130d",
   "metadata": {},
   "source": [
    "Question 26-  Write a python program using RegEx to accept string ending with alphanumeric character."
   ]
  },
  {
   "cell_type": "code",
   "execution_count": 19,
   "id": "ec9c6346",
   "metadata": {},
   "outputs": [
    {
     "name": "stdout",
     "output_type": "stream",
     "text": [
      "Enter the string123gfgf\n",
      "Return Match is Found:\n"
     ]
    }
   ],
   "source": [
    "import re\n",
    "string=input(\"Enter the string\")\n",
    "pattern=r'^.*[a-zA-Z0-9]$'\n",
    "match=re.match(pattern,string)\n",
    "if match :\n",
    "    print(\"Return Match is Found:\")\n",
    "else:\n",
    "    print(\"Return Match is not found\" )"
   ]
  },
  {
   "cell_type": "markdown",
   "id": "5933e43c",
   "metadata": {},
   "source": [
    "Question 29- Write a python program to extract dates from the text stored in the text file."
   ]
  },
  {
   "cell_type": "code",
   "execution_count": 21,
   "id": "b53b75f1",
   "metadata": {},
   "outputs": [
    {
     "name": "stdout",
     "output_type": "stream",
     "text": [
      "The date in the files are 12-09-1992\n",
      "The date in the files are 15-12-1999\n"
     ]
    }
   ],
   "source": [
    "import re\n",
    "\n",
    "# open a text file\n",
    "f = open(\"Minutes.txt\", 'r')\n",
    "\n",
    "# extract the file's content\n",
    "content = f.read()\n",
    "\n",
    "# a regular expression pattern to match dates\n",
    "pattern = \"\\d{2}[/-]\\d{2}[/-]\\d{4}\"\n",
    "\n",
    "# find all the strings that match the pattern\n",
    "dates = re.findall(pattern, content)\n",
    "\n",
    "for date in dates:\n",
    "    print(\"The date in the files are\",date)\n",
    "\n",
    "f.close()"
   ]
  },
  {
   "cell_type": "code",
   "execution_count": null,
   "id": "061213cf",
   "metadata": {},
   "outputs": [],
   "source": []
  }
 ],
 "metadata": {
  "kernelspec": {
   "display_name": "Python 3 (ipykernel)",
   "language": "python",
   "name": "python3"
  },
  "language_info": {
   "codemirror_mode": {
    "name": "ipython",
    "version": 3
   },
   "file_extension": ".py",
   "mimetype": "text/x-python",
   "name": "python",
   "nbconvert_exporter": "python",
   "pygments_lexer": "ipython3",
   "version": "3.9.12"
  }
 },
 "nbformat": 4,
 "nbformat_minor": 5
}
