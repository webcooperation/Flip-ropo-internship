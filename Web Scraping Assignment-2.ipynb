{
 "cells": [
  {
   "cell_type": "markdown",
   "id": "88c61922",
   "metadata": {},
   "source": [
    "Q1: Write a python program to scrape data for “Data Analyst” Job position in “Bangalore” location. You \n",
    "have to scrape the job-title, job-location, company_name, experience_required. You have to scrape first 10 \n",
    "jobs data.\n",
    "This task will be done in following steps:\n",
    "1. First get the webpage https://www.naukri.com/\n",
    "2. Enter “Data Analyst” in “Skill, Designations, Companies” field and enter “Bangalore” in “enter the \n",
    "location” field.\n",
    "3. Then click the searchbutton.\n",
    "4. Then scrape the data for the first 10 jobs results youget.\n",
    "5. Finally create a dataframe of the scraped data."
   ]
  },
  {
   "cell_type": "code",
   "execution_count": 1,
   "id": "3327da53",
   "metadata": {},
   "outputs": [],
   "source": [
    "# Importing the libraries\n",
    "import selenium\n",
    "import pandas as pd\n",
    "from selenium import webdriver\n",
    "import warnings\n",
    "warnings.filterwarnings('ignore')\n",
    "from selenium.webdriver.common.by import By\n",
    "from selenium.webdriver.common.keys import Keys\n",
    "import time\n"
   ]
  },
  {
   "cell_type": "code",
   "execution_count": 8,
   "id": "7aac293a",
   "metadata": {},
   "outputs": [],
   "source": [
    "# Specify the path to the web driver executable\n",
    "driver=webdriver.Chrome(r\"C:\\Users\\ayoba\\Desktop\\Flip Robo Internship\\chromedriver_win32\\chromedriver.exe\")\n",
    "\n",
    "# connect to the driver\n",
    "driver=webdriver.Chrome(r\"chromedriver.exe\")\n",
    "\n",
    "\n",
    "\n",
    "# opening the Naukuri page on automated chrome browser\n",
    "driver.get(\"https://www.naukri.com/\")"
   ]
  },
  {
   "cell_type": "code",
   "execution_count": 9,
   "id": "d462b236",
   "metadata": {},
   "outputs": [],
   "source": [
    "# Entering designation as required in the question\n",
    "designation=driver.find_element(By.CLASS_NAME,\"suggestor-input\")\n",
    "designation.send_keys(\"data Analyst\")\n",
    "\n",
    "# Entering location as required in the question\n",
    "location=driver.find_element(By.XPATH,\"/html/body/div[1]/div[7]/div/div/div[5]/div/div/div/div[1]/div/input\")\n",
    "location.send_keys(\"Bangalore\")"
   ]
  },
  {
   "cell_type": "code",
   "execution_count": 10,
   "id": "f693e7e1",
   "metadata": {},
   "outputs": [],
   "source": [
    "driver.implicitly_wait(10)\n",
    "# Delete all cookies\n",
    "driver.delete_all_cookies()\n",
    "search=driver.find_element(By.CLASS_NAME,\"qsbSubmit\")\n",
    "search.click() # Click the search button"
   ]
  },
  {
   "cell_type": "code",
   "execution_count": 11,
   "id": "13bf1eef",
   "metadata": {},
   "outputs": [],
   "source": [
    "# Scrapping the data for the first 10 jobs\n",
    "\n",
    "job_title=[]  # empty list for the job titles\n",
    "job_location=[] # empty list for the job location\n",
    "company_name=[] # empty list for the company name\n",
    "experience_required=[] # empty list for experience required\n",
    "\n",
    "# Scraping job title from the given page\n",
    "title_tags=driver.find_elements(By.XPATH,'//a[@class=\"title ellipsis\"]')\n",
    "for i in title_tags[0:10]:\n",
    "    title=i.text\n",
    "    job_title.append(title)\n",
    "    \n",
    "# Scraping job location from the given page\n",
    "location_tags=driver.find_elements(By.XPATH,'//span[@class=\"ellipsis fleft locWdth\"]')\n",
    "for i in location_tags[0:10]:\n",
    "    location=i.text\n",
    "    job_location.append(location)\n",
    "    \n",
    "# Scraping Company name from the given page\n",
    "company_tags=driver.find_elements(By.XPATH,'//a[@class=\"subTitle ellipsis fleft\"]')\n",
    "for i in title_tags[0:10]:\n",
    "    company=i.text\n",
    "    company_name.append(company)\n",
    "    \n",
    "# Scraping job experience from the given page\n",
    "experience_tags=driver.find_elements(By.XPATH,'//span[@class=\"ellipsis fleft expwdth\"]')\n",
    "for i in experience_tags[0:10]:\n",
    "    experience=i.text\n",
    "    experience_required.append(experience)\n",
    "    \n"
   ]
  },
  {
   "cell_type": "code",
   "execution_count": 12,
   "id": "6c74977b",
   "metadata": {},
   "outputs": [
    {
     "data": {
      "text/html": [
       "<div>\n",
       "<style scoped>\n",
       "    .dataframe tbody tr th:only-of-type {\n",
       "        vertical-align: middle;\n",
       "    }\n",
       "\n",
       "    .dataframe tbody tr th {\n",
       "        vertical-align: top;\n",
       "    }\n",
       "\n",
       "    .dataframe thead th {\n",
       "        text-align: right;\n",
       "    }\n",
       "</style>\n",
       "<table border=\"1\" class=\"dataframe\">\n",
       "  <thead>\n",
       "    <tr style=\"text-align: right;\">\n",
       "      <th></th>\n",
       "      <th>Title</th>\n",
       "      <th>Location</th>\n",
       "      <th>Company name</th>\n",
       "      <th>Experience</th>\n",
       "    </tr>\n",
       "  </thead>\n",
       "  <tbody>\n",
       "    <tr>\n",
       "      <th>0</th>\n",
       "      <td>Data Analyst</td>\n",
       "      <td>Bangalore/Bengaluru</td>\n",
       "      <td>Data Analyst</td>\n",
       "      <td>2-4 Yrs</td>\n",
       "    </tr>\n",
       "    <tr>\n",
       "      <th>1</th>\n",
       "      <td>Tech Data Analyst</td>\n",
       "      <td>Hybrid - Bangalore/ Bengaluru, Karnataka, Gurg...</td>\n",
       "      <td>Tech Data Analyst</td>\n",
       "      <td>3-6 Yrs</td>\n",
       "    </tr>\n",
       "    <tr>\n",
       "      <th>2</th>\n",
       "      <td>Data Analyst</td>\n",
       "      <td>Bangalore/ Bengaluru, Karnataka</td>\n",
       "      <td>Data Analyst</td>\n",
       "      <td>5-8 Yrs</td>\n",
       "    </tr>\n",
       "    <tr>\n",
       "      <th>3</th>\n",
       "      <td>Data Analyst</td>\n",
       "      <td>Bangalore/Bengaluru</td>\n",
       "      <td>Data Analyst</td>\n",
       "      <td>4-6 Yrs</td>\n",
       "    </tr>\n",
       "    <tr>\n",
       "      <th>4</th>\n",
       "      <td>Celonis &amp; Salesforce Data Analyst</td>\n",
       "      <td>Bangalore/Bengaluru, Chennai</td>\n",
       "      <td>Celonis &amp; Salesforce Data Analyst</td>\n",
       "      <td>3-6 Yrs</td>\n",
       "    </tr>\n",
       "    <tr>\n",
       "      <th>5</th>\n",
       "      <td>Celonis &amp; Salesforce Data Analyst</td>\n",
       "      <td>Bangalore/Bengaluru</td>\n",
       "      <td>Celonis &amp; Salesforce Data Analyst</td>\n",
       "      <td>2-7 Yrs</td>\n",
       "    </tr>\n",
       "    <tr>\n",
       "      <th>6</th>\n",
       "      <td>Data Analyst</td>\n",
       "      <td>Hybrid - Bangalore/Bengaluru</td>\n",
       "      <td>Data Analyst</td>\n",
       "      <td>3-5 Yrs</td>\n",
       "    </tr>\n",
       "    <tr>\n",
       "      <th>7</th>\n",
       "      <td>Data Analyst</td>\n",
       "      <td>Hybrid - Bangalore/Bengaluru, Delhi / NCR</td>\n",
       "      <td>Data Analyst</td>\n",
       "      <td>6-9 Yrs</td>\n",
       "    </tr>\n",
       "    <tr>\n",
       "      <th>8</th>\n",
       "      <td>Data Analyst</td>\n",
       "      <td>Hybrid - Bangalore/Bengaluru, Delhi / NCR</td>\n",
       "      <td>Data Analyst</td>\n",
       "      <td>6-9 Yrs</td>\n",
       "    </tr>\n",
       "    <tr>\n",
       "      <th>9</th>\n",
       "      <td>Data Analyst</td>\n",
       "      <td>Bangalore/Bengaluru, Kolkata, Hyderabad/Secund...</td>\n",
       "      <td>Data Analyst</td>\n",
       "      <td>5-10 Yrs</td>\n",
       "    </tr>\n",
       "  </tbody>\n",
       "</table>\n",
       "</div>"
      ],
      "text/plain": [
       "                               Title  \\\n",
       "0                       Data Analyst   \n",
       "1                  Tech Data Analyst   \n",
       "2                       Data Analyst   \n",
       "3                       Data Analyst   \n",
       "4  Celonis & Salesforce Data Analyst   \n",
       "5  Celonis & Salesforce Data Analyst   \n",
       "6                       Data Analyst   \n",
       "7                       Data Analyst   \n",
       "8                       Data Analyst   \n",
       "9                       Data Analyst   \n",
       "\n",
       "                                            Location  \\\n",
       "0                                Bangalore/Bengaluru   \n",
       "1  Hybrid - Bangalore/ Bengaluru, Karnataka, Gurg...   \n",
       "2                    Bangalore/ Bengaluru, Karnataka   \n",
       "3                                Bangalore/Bengaluru   \n",
       "4                       Bangalore/Bengaluru, Chennai   \n",
       "5                                Bangalore/Bengaluru   \n",
       "6                       Hybrid - Bangalore/Bengaluru   \n",
       "7          Hybrid - Bangalore/Bengaluru, Delhi / NCR   \n",
       "8          Hybrid - Bangalore/Bengaluru, Delhi / NCR   \n",
       "9  Bangalore/Bengaluru, Kolkata, Hyderabad/Secund...   \n",
       "\n",
       "                        Company name Experience  \n",
       "0                       Data Analyst    2-4 Yrs  \n",
       "1                  Tech Data Analyst    3-6 Yrs  \n",
       "2                       Data Analyst    5-8 Yrs  \n",
       "3                       Data Analyst    4-6 Yrs  \n",
       "4  Celonis & Salesforce Data Analyst    3-6 Yrs  \n",
       "5  Celonis & Salesforce Data Analyst    2-7 Yrs  \n",
       "6                       Data Analyst    3-5 Yrs  \n",
       "7                       Data Analyst    6-9 Yrs  \n",
       "8                       Data Analyst    6-9 Yrs  \n",
       "9                       Data Analyst   5-10 Yrs  "
      ]
     },
     "execution_count": 12,
     "metadata": {},
     "output_type": "execute_result"
    }
   ],
   "source": [
    "# Converting the scrapped data to data frame\n",
    "df=pd.DataFrame({'Title':job_title,'Location':job_location,'Company name':company_name,'Experience':experience_required})\n",
    "df"
   ]
  },
  {
   "cell_type": "markdown",
   "id": "4c41ead6",
   "metadata": {},
   "source": [
    "Q2:Write a python program to scrape data for “Data Scientist” Job position in “Bangalore” location. You \n",
    "have to scrape the job-title, job-location, company_name. You have to scrape first 10 jobs data.\n",
    "This task will be done in following steps:\n",
    "1. First get the webpage https://www.naukri.com/\n",
    "2. Enter “Data Scientist” in “Skill, Designations, Companies” field and enter “Bangalore” in “enter the \n",
    "location” field.\n",
    "3. Then click the searchbutton.\n",
    "4. Then scrape the data for the first 10 jobs results youget.\n",
    "5. Finally create a dataframe of the scraped data."
   ]
  },
  {
   "cell_type": "code",
   "execution_count": 13,
   "id": "3dbb7f6f",
   "metadata": {},
   "outputs": [],
   "source": [
    "# Specify the path to the web driver executable\n",
    "driver=webdriver.Chrome(r\"C:\\Users\\ayoba\\Desktop\\Flip Robo Internship\\chromedriver_win32\\chromedriver.exe\")\n",
    "\n",
    "# connect to the driver\n",
    "driver=webdriver.Chrome(r\"chromedriver.exe\")\n",
    "\n",
    "# opening the Naukuri page on automated chrome browser\n",
    "driver.get(\"https://www.naukri.com/\")"
   ]
  },
  {
   "cell_type": "code",
   "execution_count": 14,
   "id": "bf65423e",
   "metadata": {},
   "outputs": [],
   "source": [
    "# Entering designation as required in the question\n",
    "designation=driver.find_element(By.CLASS_NAME,\"suggestor-input\")\n",
    "designation.send_keys(\"data Scientist\")\n",
    "\n",
    "# Entering location as required in the question suggestor-input \n",
    "location=driver.find_element(By.XPATH,\"//html/body//div[7]/div/div/div[5]/div/div/div/div[1]/div/input\")\n",
    "location.send_keys(\"Bangalore\")  "
   ]
  },
  {
   "cell_type": "code",
   "execution_count": 15,
   "id": "e8ab118b",
   "metadata": {},
   "outputs": [],
   "source": [
    "driver.implicitly_wait(10)\n",
    "# Delete all cookies\n",
    "driver.delete_all_cookies()\n",
    "search=driver.find_element(By.XPATH,\"/html/body/div[1]/div[7]/div/div/div[6]\")\n",
    "search.click() # Click the search button"
   ]
  },
  {
   "cell_type": "code",
   "execution_count": 16,
   "id": "373e6307",
   "metadata": {},
   "outputs": [],
   "source": [
    "# Scrapping the data for the first 10 jobs\n",
    "\n",
    "job_title=[]  # empty list for the job titles\n",
    "job_location=[] # empty list for the job location\n",
    "company_name=[] # empty list for the company name\n",
    "\n",
    "\n",
    "# Scraping job title from the given page\n",
    "title_tags=driver.find_elements(By.XPATH,'//a[@class=\"title ellipsis\"]')\n",
    "for i in title_tags[0:10]:\n",
    "    title=i.text\n",
    "    job_title.append(title)\n",
    "    \n",
    "# Scraping job location from the given page\n",
    "location_tags=driver.find_elements(By.XPATH,'//span[@class=\"ellipsis fleft locWdth\"]')\n",
    "for i in location_tags[0:10]:\n",
    "    location=i.text\n",
    "    job_location.append(location)\n",
    "    \n",
    "# Scraping Company name from the given page\n",
    "company_tags=driver.find_elements(By.XPATH,'//a[@class=\"subTitle ellipsis fleft\"]')\n",
    "for i in title_tags[0:10]:\n",
    "    company=i.text\n",
    "    company_name.append(company)\n",
    "    \n"
   ]
  },
  {
   "cell_type": "code",
   "execution_count": 17,
   "id": "cda18b0b",
   "metadata": {},
   "outputs": [
    {
     "data": {
      "text/html": [
       "<div>\n",
       "<style scoped>\n",
       "    .dataframe tbody tr th:only-of-type {\n",
       "        vertical-align: middle;\n",
       "    }\n",
       "\n",
       "    .dataframe tbody tr th {\n",
       "        vertical-align: top;\n",
       "    }\n",
       "\n",
       "    .dataframe thead th {\n",
       "        text-align: right;\n",
       "    }\n",
       "</style>\n",
       "<table border=\"1\" class=\"dataframe\">\n",
       "  <thead>\n",
       "    <tr style=\"text-align: right;\">\n",
       "      <th></th>\n",
       "      <th>Title</th>\n",
       "      <th>Location</th>\n",
       "      <th>Company name</th>\n",
       "    </tr>\n",
       "  </thead>\n",
       "  <tbody>\n",
       "    <tr>\n",
       "      <th>0</th>\n",
       "      <td>Permanent Opportunity - Data Scientist(Snaplog...</td>\n",
       "      <td>Hybrid - Bangalore/Bengaluru, Kolkata, Hyderab...</td>\n",
       "      <td>Permanent Opportunity - Data Scientist(Snaplog...</td>\n",
       "    </tr>\n",
       "    <tr>\n",
       "      <th>1</th>\n",
       "      <td>Analystics &amp; Modeling Specialist</td>\n",
       "      <td>Bangalore/Bengaluru, Kolkata, Mumbai, Hyderaba...</td>\n",
       "      <td>Analystics &amp; Modeling Specialist</td>\n",
       "    </tr>\n",
       "    <tr>\n",
       "      <th>2</th>\n",
       "      <td>Machine Learning (AI) Architect</td>\n",
       "      <td>Bangalore/Bengaluru, Kolkata, Mumbai, New Delh...</td>\n",
       "      <td>Machine Learning (AI) Architect</td>\n",
       "    </tr>\n",
       "    <tr>\n",
       "      <th>3</th>\n",
       "      <td>Staff Data Scientist</td>\n",
       "      <td>Bangalore/Bengaluru</td>\n",
       "      <td>Staff Data Scientist</td>\n",
       "    </tr>\n",
       "    <tr>\n",
       "      <th>4</th>\n",
       "      <td>Data Scientist</td>\n",
       "      <td>Bangalore/ Bengaluru, Karnataka</td>\n",
       "      <td>Data Scientist</td>\n",
       "    </tr>\n",
       "    <tr>\n",
       "      <th>5</th>\n",
       "      <td>Hiring For Data Scientist</td>\n",
       "      <td>Hybrid - Bangalore/ Bengaluru, Karnataka, Hyde...</td>\n",
       "      <td>Hiring For Data Scientist</td>\n",
       "    </tr>\n",
       "    <tr>\n",
       "      <th>6</th>\n",
       "      <td>Data Scientist</td>\n",
       "      <td>Hybrid - Bangalore/Bengaluru, Pune, Delhi / NC...</td>\n",
       "      <td>Data Scientist</td>\n",
       "    </tr>\n",
       "    <tr>\n",
       "      <th>7</th>\n",
       "      <td>Director/Senior Director - Data Science</td>\n",
       "      <td>Bangalore/Bengaluru, Noida, Hyderabad/Secunder...</td>\n",
       "      <td>Director/Senior Director - Data Science</td>\n",
       "    </tr>\n",
       "    <tr>\n",
       "      <th>8</th>\n",
       "      <td>Manager/Senior Manager - Data Science</td>\n",
       "      <td>Bangalore/Bengaluru, Noida, Hyderabad/Secunder...</td>\n",
       "      <td>Manager/Senior Manager - Data Science</td>\n",
       "    </tr>\n",
       "    <tr>\n",
       "      <th>9</th>\n",
       "      <td>Data Scientist</td>\n",
       "      <td>Bangalore/Bengaluru</td>\n",
       "      <td>Data Scientist</td>\n",
       "    </tr>\n",
       "  </tbody>\n",
       "</table>\n",
       "</div>"
      ],
      "text/plain": [
       "                                               Title  \\\n",
       "0  Permanent Opportunity - Data Scientist(Snaplog...   \n",
       "1                   Analystics & Modeling Specialist   \n",
       "2                    Machine Learning (AI) Architect   \n",
       "3                               Staff Data Scientist   \n",
       "4                                     Data Scientist   \n",
       "5                          Hiring For Data Scientist   \n",
       "6                                     Data Scientist   \n",
       "7            Director/Senior Director - Data Science   \n",
       "8              Manager/Senior Manager - Data Science   \n",
       "9                                     Data Scientist   \n",
       "\n",
       "                                            Location  \\\n",
       "0  Hybrid - Bangalore/Bengaluru, Kolkata, Hyderab...   \n",
       "1  Bangalore/Bengaluru, Kolkata, Mumbai, Hyderaba...   \n",
       "2  Bangalore/Bengaluru, Kolkata, Mumbai, New Delh...   \n",
       "3                                Bangalore/Bengaluru   \n",
       "4                    Bangalore/ Bengaluru, Karnataka   \n",
       "5  Hybrid - Bangalore/ Bengaluru, Karnataka, Hyde...   \n",
       "6  Hybrid - Bangalore/Bengaluru, Pune, Delhi / NC...   \n",
       "7  Bangalore/Bengaluru, Noida, Hyderabad/Secunder...   \n",
       "8  Bangalore/Bengaluru, Noida, Hyderabad/Secunder...   \n",
       "9                                Bangalore/Bengaluru   \n",
       "\n",
       "                                        Company name  \n",
       "0  Permanent Opportunity - Data Scientist(Snaplog...  \n",
       "1                   Analystics & Modeling Specialist  \n",
       "2                    Machine Learning (AI) Architect  \n",
       "3                               Staff Data Scientist  \n",
       "4                                     Data Scientist  \n",
       "5                          Hiring For Data Scientist  \n",
       "6                                     Data Scientist  \n",
       "7            Director/Senior Director - Data Science  \n",
       "8              Manager/Senior Manager - Data Science  \n",
       "9                                     Data Scientist  "
      ]
     },
     "execution_count": 17,
     "metadata": {},
     "output_type": "execute_result"
    }
   ],
   "source": [
    "# Converting the scrapped data to data frame\n",
    "df=pd.DataFrame({'Title':job_title,'Location':job_location,'Company name':company_name})\n",
    "df"
   ]
  },
  {
   "cell_type": "markdown",
   "id": "992b52e7",
   "metadata": {},
   "source": [
    "Q3. You have to use the location and salary filter.\n",
    "You have to scrape data for “Data Scientist” designation for first 10 job results.\n",
    "You have to scrape the job-title, job-location, company name, experience required. \n",
    "The location filter to be used is “Delhi/NCR”. The salary filter to be used is “3-6” lakhs\n",
    "The task will be done as shown in the below steps:\n",
    "1. first get thewebpage https://www.naukri.com/\n",
    "2. Enter “Data Scientist” in “Skill, Designations, and Companies” field.\n",
    "3. Then click the searchbutton.\n",
    "4. Then apply the location filter and salary filter by checking the respectiveboxes\n",
    "5. Then scrape the data for the first 10 jobs results youget.\n",
    "6. Finally create a dataframe of the scrapeddata."
   ]
  },
  {
   "cell_type": "code",
   "execution_count": 230,
   "id": "0e0c38dc",
   "metadata": {},
   "outputs": [],
   "source": [
    "# Specify the path to the web driver executable\n",
    "driver=webdriver.Chrome(r\"C:\\Users\\ayoba\\Desktop\\Flip Robo Internship\\chromedriver_win32\\chromedriver.exe\")\n",
    "\n",
    "# connect to the driver\n",
    "driver=webdriver.Chrome(r\"chromedriver.exe\")\n",
    "\n",
    "# opening the Naukuri page on automated chrome browser\n",
    "driver.get(\"https://www.naukri.com/\")"
   ]
  },
  {
   "cell_type": "code",
   "execution_count": 231,
   "id": "93085b0c",
   "metadata": {},
   "outputs": [],
   "source": [
    "# Entering designation as required in the question\n",
    "designation=driver.find_element(By.CLASS_NAME,\"suggestor-input\")\n",
    "designation.send_keys(\"data Scientist\")\n",
    "driver.implicitly_wait(10)\n",
    "# Delete all cookies\n",
    "driver.delete_all_cookies()\n",
    "search=driver.find_element(By.XPATH,\"/html/body/div[1]/div[7]/div/div/div[6]\")\n",
    "search.click() # Click the search button"
   ]
  },
  {
   "cell_type": "code",
   "execution_count": 233,
   "id": "855810f8",
   "metadata": {},
   "outputs": [
    {
     "ename": "NoSuchElementException",
     "evalue": "Message: no such element: Unable to locate element: {\"method\":\"css selector\",\"selector\":\".fleft naukicon naukicon-checkbox\"}\n  (Session info: chrome=114.0.5735.91)\nStacktrace:\nBacktrace:\n\tGetHandleVerifier [0x0027A813+48355]\n\t(No symbol) [0x0020C4B1]\n\t(No symbol) [0x00115358]\n\t(No symbol) [0x001409A5]\n\t(No symbol) [0x00140B3B]\n\t(No symbol) [0x0016E232]\n\t(No symbol) [0x0015A784]\n\t(No symbol) [0x0016C922]\n\t(No symbol) [0x0015A536]\n\t(No symbol) [0x001382DC]\n\t(No symbol) [0x001393DD]\n\tGetHandleVerifier [0x004DAABD+2539405]\n\tGetHandleVerifier [0x0051A78F+2800735]\n\tGetHandleVerifier [0x0051456C+2775612]\n\tGetHandleVerifier [0x003051E0+616112]\n\t(No symbol) [0x00215F8C]\n\t(No symbol) [0x00212328]\n\t(No symbol) [0x0021240B]\n\t(No symbol) [0x00204FF7]\n\tBaseThreadInitThunk [0x77567D59+25]\n\tRtlInitializeExceptionChain [0x77C1B74B+107]\n\tRtlClearBits [0x77C1B6CF+191]\n\t(No symbol) [0x00000000]\n",
     "output_type": "error",
     "traceback": [
      "\u001b[1;31m---------------------------------------------------------------------------\u001b[0m",
      "\u001b[1;31mNoSuchElementException\u001b[0m                    Traceback (most recent call last)",
      "Input \u001b[1;32mIn [233]\u001b[0m, in \u001b[0;36m<cell line: 4>\u001b[1;34m()\u001b[0m\n\u001b[0;32m      2\u001b[0m \u001b[38;5;28;01mfrom\u001b[39;00m \u001b[38;5;21;01mselenium\u001b[39;00m\u001b[38;5;21;01m.\u001b[39;00m\u001b[38;5;21;01mwebdriver\u001b[39;00m\u001b[38;5;21;01m.\u001b[39;00m\u001b[38;5;21;01msupport\u001b[39;00m\u001b[38;5;21;01m.\u001b[39;00m\u001b[38;5;21;01mui\u001b[39;00m \u001b[38;5;28;01mimport\u001b[39;00m WebDriverWait\n\u001b[0;32m      3\u001b[0m \u001b[38;5;28;01mfrom\u001b[39;00m \u001b[38;5;21;01mselenium\u001b[39;00m\u001b[38;5;21;01m.\u001b[39;00m\u001b[38;5;21;01mwebdriver\u001b[39;00m\u001b[38;5;21;01m.\u001b[39;00m\u001b[38;5;21;01msupport\u001b[39;00m \u001b[38;5;28;01mimport\u001b[39;00m expected_conditions \u001b[38;5;28;01mas\u001b[39;00m EC\n\u001b[1;32m----> 4\u001b[0m location_checkbox\u001b[38;5;241m=\u001b[39m\u001b[43mdriver\u001b[49m\u001b[38;5;241;43m.\u001b[39;49m\u001b[43mfind_element\u001b[49m\u001b[43m(\u001b[49m\u001b[43mBy\u001b[49m\u001b[38;5;241;43m.\u001b[39;49m\u001b[43mCLASS_NAME\u001b[49m\u001b[43m,\u001b[49m\u001b[38;5;124;43m'\u001b[39;49m\u001b[38;5;124;43mfleft naukicon naukicon-checkbox\u001b[39;49m\u001b[38;5;124;43m'\u001b[39;49m\u001b[43m)\u001b[49m\n",
      "File \u001b[1;32m~\\anaconda3\\lib\\site-packages\\selenium\\webdriver\\remote\\webdriver.py:831\u001b[0m, in \u001b[0;36mWebDriver.find_element\u001b[1;34m(self, by, value)\u001b[0m\n\u001b[0;32m    828\u001b[0m     by \u001b[38;5;241m=\u001b[39m By\u001b[38;5;241m.\u001b[39mCSS_SELECTOR\n\u001b[0;32m    829\u001b[0m     value \u001b[38;5;241m=\u001b[39m \u001b[38;5;124mf\u001b[39m\u001b[38;5;124m'\u001b[39m\u001b[38;5;124m[name=\u001b[39m\u001b[38;5;124m\"\u001b[39m\u001b[38;5;132;01m{\u001b[39;00mvalue\u001b[38;5;132;01m}\u001b[39;00m\u001b[38;5;124m\"\u001b[39m\u001b[38;5;124m]\u001b[39m\u001b[38;5;124m'\u001b[39m\n\u001b[1;32m--> 831\u001b[0m \u001b[38;5;28;01mreturn\u001b[39;00m \u001b[38;5;28;43mself\u001b[39;49m\u001b[38;5;241;43m.\u001b[39;49m\u001b[43mexecute\u001b[49m\u001b[43m(\u001b[49m\u001b[43mCommand\u001b[49m\u001b[38;5;241;43m.\u001b[39;49m\u001b[43mFIND_ELEMENT\u001b[49m\u001b[43m,\u001b[49m\u001b[43m \u001b[49m\u001b[43m{\u001b[49m\u001b[38;5;124;43m\"\u001b[39;49m\u001b[38;5;124;43musing\u001b[39;49m\u001b[38;5;124;43m\"\u001b[39;49m\u001b[43m:\u001b[49m\u001b[43m \u001b[49m\u001b[43mby\u001b[49m\u001b[43m,\u001b[49m\u001b[43m \u001b[49m\u001b[38;5;124;43m\"\u001b[39;49m\u001b[38;5;124;43mvalue\u001b[39;49m\u001b[38;5;124;43m\"\u001b[39;49m\u001b[43m:\u001b[49m\u001b[43m \u001b[49m\u001b[43mvalue\u001b[49m\u001b[43m}\u001b[49m\u001b[43m)\u001b[49m[\u001b[38;5;124m\"\u001b[39m\u001b[38;5;124mvalue\u001b[39m\u001b[38;5;124m\"\u001b[39m]\n",
      "File \u001b[1;32m~\\anaconda3\\lib\\site-packages\\selenium\\webdriver\\remote\\webdriver.py:440\u001b[0m, in \u001b[0;36mWebDriver.execute\u001b[1;34m(self, driver_command, params)\u001b[0m\n\u001b[0;32m    438\u001b[0m response \u001b[38;5;241m=\u001b[39m \u001b[38;5;28mself\u001b[39m\u001b[38;5;241m.\u001b[39mcommand_executor\u001b[38;5;241m.\u001b[39mexecute(driver_command, params)\n\u001b[0;32m    439\u001b[0m \u001b[38;5;28;01mif\u001b[39;00m response:\n\u001b[1;32m--> 440\u001b[0m     \u001b[38;5;28;43mself\u001b[39;49m\u001b[38;5;241;43m.\u001b[39;49m\u001b[43merror_handler\u001b[49m\u001b[38;5;241;43m.\u001b[39;49m\u001b[43mcheck_response\u001b[49m\u001b[43m(\u001b[49m\u001b[43mresponse\u001b[49m\u001b[43m)\u001b[49m\n\u001b[0;32m    441\u001b[0m     response[\u001b[38;5;124m\"\u001b[39m\u001b[38;5;124mvalue\u001b[39m\u001b[38;5;124m\"\u001b[39m] \u001b[38;5;241m=\u001b[39m \u001b[38;5;28mself\u001b[39m\u001b[38;5;241m.\u001b[39m_unwrap_value(response\u001b[38;5;241m.\u001b[39mget(\u001b[38;5;124m\"\u001b[39m\u001b[38;5;124mvalue\u001b[39m\u001b[38;5;124m\"\u001b[39m, \u001b[38;5;28;01mNone\u001b[39;00m))\n\u001b[0;32m    442\u001b[0m     \u001b[38;5;28;01mreturn\u001b[39;00m response\n",
      "File \u001b[1;32m~\\anaconda3\\lib\\site-packages\\selenium\\webdriver\\remote\\errorhandler.py:245\u001b[0m, in \u001b[0;36mErrorHandler.check_response\u001b[1;34m(self, response)\u001b[0m\n\u001b[0;32m    243\u001b[0m         alert_text \u001b[38;5;241m=\u001b[39m value[\u001b[38;5;124m\"\u001b[39m\u001b[38;5;124malert\u001b[39m\u001b[38;5;124m\"\u001b[39m]\u001b[38;5;241m.\u001b[39mget(\u001b[38;5;124m\"\u001b[39m\u001b[38;5;124mtext\u001b[39m\u001b[38;5;124m\"\u001b[39m)\n\u001b[0;32m    244\u001b[0m     \u001b[38;5;28;01mraise\u001b[39;00m exception_class(message, screen, stacktrace, alert_text)  \u001b[38;5;66;03m# type: ignore[call-arg]  # mypy is not smart enough here\u001b[39;00m\n\u001b[1;32m--> 245\u001b[0m \u001b[38;5;28;01mraise\u001b[39;00m exception_class(message, screen, stacktrace)\n",
      "\u001b[1;31mNoSuchElementException\u001b[0m: Message: no such element: Unable to locate element: {\"method\":\"css selector\",\"selector\":\".fleft naukicon naukicon-checkbox\"}\n  (Session info: chrome=114.0.5735.91)\nStacktrace:\nBacktrace:\n\tGetHandleVerifier [0x0027A813+48355]\n\t(No symbol) [0x0020C4B1]\n\t(No symbol) [0x00115358]\n\t(No symbol) [0x001409A5]\n\t(No symbol) [0x00140B3B]\n\t(No symbol) [0x0016E232]\n\t(No symbol) [0x0015A784]\n\t(No symbol) [0x0016C922]\n\t(No symbol) [0x0015A536]\n\t(No symbol) [0x001382DC]\n\t(No symbol) [0x001393DD]\n\tGetHandleVerifier [0x004DAABD+2539405]\n\tGetHandleVerifier [0x0051A78F+2800735]\n\tGetHandleVerifier [0x0051456C+2775612]\n\tGetHandleVerifier [0x003051E0+616112]\n\t(No symbol) [0x00215F8C]\n\t(No symbol) [0x00212328]\n\t(No symbol) [0x0021240B]\n\t(No symbol) [0x00204FF7]\n\tBaseThreadInitThunk [0x77567D59+25]\n\tRtlInitializeExceptionChain [0x77C1B74B+107]\n\tRtlClearBits [0x77C1B6CF+191]\n\t(No symbol) [0x00000000]\n"
     ]
    }
   ],
   "source": [
    "# Apply location filter (Delhi/NCR)\n",
    "from selenium.webdriver.support.ui import WebDriverWait\n",
    "from selenium.webdriver.support import expected_conditions as EC\n",
    "location_checkbox=driver.find_element(By.CLASS_NAME,'fleft naukicon naukicon-checkbox')\n",
    "#location_checkbox = WebDriverWait(driver, 10).until(EC.element_to_be_clickable((By.ID,'location-checkbox-id')))  # Replace 'location-checkbox-id' with the actual ID of the checkbox"
   ]
  },
  {
   "cell_type": "code",
   "execution_count": 234,
   "id": "bf135770",
   "metadata": {},
   "outputs": [
    {
     "ename": "NoSuchElementException",
     "evalue": "Message: no such element: Unable to locate element: {\"method\":\"css selector\",\"selector\":\".fleft naukicon naukicon-checkbox\"}\n  (Session info: chrome=114.0.5735.91)\nStacktrace:\nBacktrace:\n\tGetHandleVerifier [0x0027A813+48355]\n\t(No symbol) [0x0020C4B1]\n\t(No symbol) [0x00115358]\n\t(No symbol) [0x001409A5]\n\t(No symbol) [0x00140B3B]\n\t(No symbol) [0x0016E232]\n\t(No symbol) [0x0015A784]\n\t(No symbol) [0x0016C922]\n\t(No symbol) [0x0015A536]\n\t(No symbol) [0x001382DC]\n\t(No symbol) [0x001393DD]\n\tGetHandleVerifier [0x004DAABD+2539405]\n\tGetHandleVerifier [0x0051A78F+2800735]\n\tGetHandleVerifier [0x0051456C+2775612]\n\tGetHandleVerifier [0x003051E0+616112]\n\t(No symbol) [0x00215F8C]\n\t(No symbol) [0x00212328]\n\t(No symbol) [0x0021240B]\n\t(No symbol) [0x00204FF7]\n\tBaseThreadInitThunk [0x77567D59+25]\n\tRtlInitializeExceptionChain [0x77C1B74B+107]\n\tRtlClearBits [0x77C1B6CF+191]\n\t(No symbol) [0x00000000]\n",
     "output_type": "error",
     "traceback": [
      "\u001b[1;31m---------------------------------------------------------------------------\u001b[0m",
      "\u001b[1;31mNoSuchElementException\u001b[0m                    Traceback (most recent call last)",
      "Input \u001b[1;32mIn [234]\u001b[0m, in \u001b[0;36m<cell line: 2>\u001b[1;34m()\u001b[0m\n\u001b[0;32m      1\u001b[0m \u001b[38;5;66;03m# Apply Salary filter (0-3 lahks)\u001b[39;00m\n\u001b[1;32m----> 2\u001b[0m salary_checkbox\u001b[38;5;241m=\u001b[39m\u001b[43mdriver\u001b[49m\u001b[38;5;241;43m.\u001b[39;49m\u001b[43mfind_element\u001b[49m\u001b[43m(\u001b[49m\u001b[43mBy\u001b[49m\u001b[38;5;241;43m.\u001b[39;49m\u001b[43mCLASS_NAME\u001b[49m\u001b[43m,\u001b[49m\u001b[38;5;124;43m'\u001b[39;49m\u001b[38;5;124;43mfleft naukicon naukicon-checkbox\u001b[39;49m\u001b[38;5;124;43m'\u001b[39;49m\u001b[43m)\u001b[49m\u001b[38;5;241m.\u001b[39mclick()\n\u001b[0;32m      3\u001b[0m driver\u001b[38;5;241m.\u001b[39mimplicitly_wait(\u001b[38;5;241m10\u001b[39m)\n\u001b[0;32m      4\u001b[0m \u001b[38;5;66;03m# Delete all cookies\u001b[39;00m\n",
      "File \u001b[1;32m~\\anaconda3\\lib\\site-packages\\selenium\\webdriver\\remote\\webdriver.py:831\u001b[0m, in \u001b[0;36mWebDriver.find_element\u001b[1;34m(self, by, value)\u001b[0m\n\u001b[0;32m    828\u001b[0m     by \u001b[38;5;241m=\u001b[39m By\u001b[38;5;241m.\u001b[39mCSS_SELECTOR\n\u001b[0;32m    829\u001b[0m     value \u001b[38;5;241m=\u001b[39m \u001b[38;5;124mf\u001b[39m\u001b[38;5;124m'\u001b[39m\u001b[38;5;124m[name=\u001b[39m\u001b[38;5;124m\"\u001b[39m\u001b[38;5;132;01m{\u001b[39;00mvalue\u001b[38;5;132;01m}\u001b[39;00m\u001b[38;5;124m\"\u001b[39m\u001b[38;5;124m]\u001b[39m\u001b[38;5;124m'\u001b[39m\n\u001b[1;32m--> 831\u001b[0m \u001b[38;5;28;01mreturn\u001b[39;00m \u001b[38;5;28;43mself\u001b[39;49m\u001b[38;5;241;43m.\u001b[39;49m\u001b[43mexecute\u001b[49m\u001b[43m(\u001b[49m\u001b[43mCommand\u001b[49m\u001b[38;5;241;43m.\u001b[39;49m\u001b[43mFIND_ELEMENT\u001b[49m\u001b[43m,\u001b[49m\u001b[43m \u001b[49m\u001b[43m{\u001b[49m\u001b[38;5;124;43m\"\u001b[39;49m\u001b[38;5;124;43musing\u001b[39;49m\u001b[38;5;124;43m\"\u001b[39;49m\u001b[43m:\u001b[49m\u001b[43m \u001b[49m\u001b[43mby\u001b[49m\u001b[43m,\u001b[49m\u001b[43m \u001b[49m\u001b[38;5;124;43m\"\u001b[39;49m\u001b[38;5;124;43mvalue\u001b[39;49m\u001b[38;5;124;43m\"\u001b[39;49m\u001b[43m:\u001b[49m\u001b[43m \u001b[49m\u001b[43mvalue\u001b[49m\u001b[43m}\u001b[49m\u001b[43m)\u001b[49m[\u001b[38;5;124m\"\u001b[39m\u001b[38;5;124mvalue\u001b[39m\u001b[38;5;124m\"\u001b[39m]\n",
      "File \u001b[1;32m~\\anaconda3\\lib\\site-packages\\selenium\\webdriver\\remote\\webdriver.py:440\u001b[0m, in \u001b[0;36mWebDriver.execute\u001b[1;34m(self, driver_command, params)\u001b[0m\n\u001b[0;32m    438\u001b[0m response \u001b[38;5;241m=\u001b[39m \u001b[38;5;28mself\u001b[39m\u001b[38;5;241m.\u001b[39mcommand_executor\u001b[38;5;241m.\u001b[39mexecute(driver_command, params)\n\u001b[0;32m    439\u001b[0m \u001b[38;5;28;01mif\u001b[39;00m response:\n\u001b[1;32m--> 440\u001b[0m     \u001b[38;5;28;43mself\u001b[39;49m\u001b[38;5;241;43m.\u001b[39;49m\u001b[43merror_handler\u001b[49m\u001b[38;5;241;43m.\u001b[39;49m\u001b[43mcheck_response\u001b[49m\u001b[43m(\u001b[49m\u001b[43mresponse\u001b[49m\u001b[43m)\u001b[49m\n\u001b[0;32m    441\u001b[0m     response[\u001b[38;5;124m\"\u001b[39m\u001b[38;5;124mvalue\u001b[39m\u001b[38;5;124m\"\u001b[39m] \u001b[38;5;241m=\u001b[39m \u001b[38;5;28mself\u001b[39m\u001b[38;5;241m.\u001b[39m_unwrap_value(response\u001b[38;5;241m.\u001b[39mget(\u001b[38;5;124m\"\u001b[39m\u001b[38;5;124mvalue\u001b[39m\u001b[38;5;124m\"\u001b[39m, \u001b[38;5;28;01mNone\u001b[39;00m))\n\u001b[0;32m    442\u001b[0m     \u001b[38;5;28;01mreturn\u001b[39;00m response\n",
      "File \u001b[1;32m~\\anaconda3\\lib\\site-packages\\selenium\\webdriver\\remote\\errorhandler.py:245\u001b[0m, in \u001b[0;36mErrorHandler.check_response\u001b[1;34m(self, response)\u001b[0m\n\u001b[0;32m    243\u001b[0m         alert_text \u001b[38;5;241m=\u001b[39m value[\u001b[38;5;124m\"\u001b[39m\u001b[38;5;124malert\u001b[39m\u001b[38;5;124m\"\u001b[39m]\u001b[38;5;241m.\u001b[39mget(\u001b[38;5;124m\"\u001b[39m\u001b[38;5;124mtext\u001b[39m\u001b[38;5;124m\"\u001b[39m)\n\u001b[0;32m    244\u001b[0m     \u001b[38;5;28;01mraise\u001b[39;00m exception_class(message, screen, stacktrace, alert_text)  \u001b[38;5;66;03m# type: ignore[call-arg]  # mypy is not smart enough here\u001b[39;00m\n\u001b[1;32m--> 245\u001b[0m \u001b[38;5;28;01mraise\u001b[39;00m exception_class(message, screen, stacktrace)\n",
      "\u001b[1;31mNoSuchElementException\u001b[0m: Message: no such element: Unable to locate element: {\"method\":\"css selector\",\"selector\":\".fleft naukicon naukicon-checkbox\"}\n  (Session info: chrome=114.0.5735.91)\nStacktrace:\nBacktrace:\n\tGetHandleVerifier [0x0027A813+48355]\n\t(No symbol) [0x0020C4B1]\n\t(No symbol) [0x00115358]\n\t(No symbol) [0x001409A5]\n\t(No symbol) [0x00140B3B]\n\t(No symbol) [0x0016E232]\n\t(No symbol) [0x0015A784]\n\t(No symbol) [0x0016C922]\n\t(No symbol) [0x0015A536]\n\t(No symbol) [0x001382DC]\n\t(No symbol) [0x001393DD]\n\tGetHandleVerifier [0x004DAABD+2539405]\n\tGetHandleVerifier [0x0051A78F+2800735]\n\tGetHandleVerifier [0x0051456C+2775612]\n\tGetHandleVerifier [0x003051E0+616112]\n\t(No symbol) [0x00215F8C]\n\t(No symbol) [0x00212328]\n\t(No symbol) [0x0021240B]\n\t(No symbol) [0x00204FF7]\n\tBaseThreadInitThunk [0x77567D59+25]\n\tRtlInitializeExceptionChain [0x77C1B74B+107]\n\tRtlClearBits [0x77C1B6CF+191]\n\t(No symbol) [0x00000000]\n"
     ]
    }
   ],
   "source": [
    "# Apply Salary filter (0-3 lahks)\n",
    "salary_checkbox=driver.find_element(By.CLASS_NAME,'fleft naukicon naukicon-checkbox').click()\n",
    "driver.implicitly_wait(10)\n",
    "# Delete all cookies\n",
    "driver.delete_all_cookies()\n",
    "search=driver.find_element(By.XPATH,\"/html/body/div[1]/div[7]/div/div/div[6]\")\n",
    "search.click() # Click the search button"
   ]
  },
  {
   "cell_type": "code",
   "execution_count": 235,
   "id": "31792b52",
   "metadata": {},
   "outputs": [],
   "source": [
    "# Scrapping the data for the first 10 jobs\n",
    "\n",
    "job_salary=[]  # empty list for the job titles\n",
    "job_location=[] # empty list for the job location\n",
    "\n",
    "\n",
    "\n",
    "# Scraping job title from the given page\n",
    "title_tags=driver.find_elements(By.XPATH,'//a[@class=\"title ellipsis\"]')\n",
    "for i in title_tags[0:10]:\n",
    "    title=i.text\n",
    "    job_title.append(title)\n",
    "    \n",
    "# Scraping job location from the given page\n",
    "location_tags=driver.find_elements(By.XPATH,'//span[@class=\"ellipsis fleft locWdth\"]')\n",
    "for i in location_tags[0:10]:\n",
    "    location=i.text\n",
    "    job_location.append(location)\n",
    "    \n"
   ]
  },
  {
   "cell_type": "code",
   "execution_count": null,
   "id": "49322331",
   "metadata": {},
   "outputs": [],
   "source": [
    "# i am not able to finalise question 3 "
   ]
  },
  {
   "cell_type": "code",
   "execution_count": null,
   "id": "d0490e3f",
   "metadata": {},
   "outputs": [],
   "source": []
  },
  {
   "cell_type": "markdown",
   "id": "3949cb37",
   "metadata": {},
   "source": [
    "Q4: Scrape data of first 100 sunglasses listings on flipkart.com. You have to scrape four attributes:\n",
    "1. Brand\n",
    "2. ProductDescription\n",
    "3. Price"
   ]
  },
  {
   "cell_type": "code",
   "execution_count": 236,
   "id": "97ea6afb",
   "metadata": {},
   "outputs": [],
   "source": [
    "from selenium import webdriver\n",
    "import time\n",
    "\n",
    "# Set up Selenium WebDriver\n",
    "driver = webdriver.Chrome('path_to_chromedriver')  # Replace with the path to your chromedriver executable\n",
    "\n",
    "# Navigate to Flipkart sunglasses page\n",
    "driver.get('https://www.flipkart.com/')\n",
    "\n"
   ]
  },
  {
   "cell_type": "code",
   "execution_count": 113,
   "id": "881605f7",
   "metadata": {},
   "outputs": [],
   "source": [
    "# Wait for the page to load and show results\n",
    "time.sleep(2)\n",
    "driver.implicitly_wait(20)\n",
    " # Entering designation as required in the question\n",
    "designation=driver.find_element(By.CLASS_NAME,\"_3704LK\")\n",
    "designation.send_keys(\"sunglasses\") # L0Z3Pu\n",
    "\n",
    "driver.implicitly_wait(20)\n",
    "# Delete all cookies\n",
    "driver.delete_all_cookies()\n",
    "search=driver.find_element(By.CLASS_NAME,\"L0Z3Pu\")\n",
    "search.click() # Click the search button\n"
   ]
  },
  {
   "cell_type": "code",
   "execution_count": 238,
   "id": "219ddd6a",
   "metadata": {},
   "outputs": [
    {
     "name": "stdout",
     "output_type": "stream",
     "text": [
      "[{'Brand': ['VINCENT CHASE', 'VINCENT CHASE', 'Fastrack', 'Resist', 'AISLIN', 'Elligator', 'VINCENT CHASE', 'VINCENT CHASE', 'ROYAL SON', 'NuVew', 'METRONAUT', 'Singco India', 'PROVOGUE', 'PIRASO', 'ROYAL SON', 'RESIST EYEWEAR', 'Fastrack', 'SUNBEE', 'ROZZETTA CRAFT', 'NuVew', 'SRPM', 'ROZZETTA CRAFT', 'Fastrack', 'ROYAL SON', 'LIZA ANGEL', 'VINCENT CHASE', 'HRX by Hrithik Roshan', 'Royaltail', 'ROZZETTA CRAFT', 'Ray-Ban', 'Fastrack', 'style guru', 'GANSTA', 'VINCENT CHASE', 'NuVew', 'LOUIS KOUROS', 'ROZZETTA CRAFT', 'VINCENT CHASE', 'OAKLEY', 'AISLIN', 'NuVew', 'SRPM', 'PIRASO', 'VINCENT CHASE', 'PIRASO', 'PIRASO', 'Fastrack', 'ARICKS', 'PIRASO', 'Fastrack', 'PIRASO', 'VINCENT CHASE', 'Fastrack', 'SUNBEE', 'Fastrack', 'VINCENT CHASE', 'NuVew', 'GANSTA', 'Rich Club', 'Silver Kartz', 'PIRASO', 'Elligator', 'Fastrack', 'VINCENT CHASE', 'Rich Club', 'VINCENT CHASE', 'epic ink', 'ROYAL SON', 'PIRASO', 'ROYAL SON', 'PIRASO', 'ROYAL SON', 'elegante', 'ROZZETTA CRAFT', 'SUNBEE', 'ROZZETTA CRAFT', 'METRONAUT', 'ROZZETTA CRAFT', 'Ray-Ban', 'VINCENT CHASE', 'LIZA ANGEL', 'kingsunglasses', 'NuVew', 'AISLIN', 'Ray-Ban', 'Ray-Ban', 'NuVew', 'ROYAL SON', 'VINCENT CHASE', 'SUNBEE', 'PIRASO', 'AISLIN', 'PIRASO', 'VINCENT CHASE', 'VINCENT CHASE', 'AISLIN', 'VINCENT CHASE', 'EYELLUSION', 'Rich Club', 'AISLIN', 'ROYAL SON', 'PIRASO', 'VINCENT CHASE', 'LOUIS KOUROS', 'AISLIN', 'NuVew', 'NuVew', 'Eyewearlabs', 'Fastrack', 'ROYAL SON', 'Fastrack', 'Eyewearlabs', 'VINCENT CHASE', 'ROYAL SON', 'VINCENT CHASE', 'AISLIN', 'HRX by Hrithik Roshan', 'HRX by Hrithik Roshan', 'VINCENT CHASE', 'AISLIN'], 'Description': ['Polarized, UV Protection Round Sunglasses (50)', 'by Lenskart Polarized, UV Protection Rectangular Sungla...', 'Mirrored Aviator Sunglasses (Free Size)', 'Polarized Wayfarer Sunglasses (Free Size)', 'UV Protection, Gradient Cat-eye Sunglasses (61)', 'UV Protection Wayfarer Sunglasses (53)', 'Polarized, UV Protection Round Sunglasses (50)', 'UV Protection Wayfarer Sunglasses (62)', 'UV Protection Over-sized, Retro Square Sunglasses (61)', 'UV Protection, Mirrored Wayfarer Sunglasses (57)', 'UV Protection, Gradient Sunglass', 'Riding Glasses, UV Protection Clubmaster, Wayfarer Sung...', 'UV Protection Round Sunglasses (Free Size)', 'UV Protection Butterfly Sunglasses (60)', 'UV Protection Rectangular, Retro Square Sunglasses (58)', 'Polarized, Riding Glasses, UV Protection Wayfarer Sungl...', 'UV Protection Wayfarer Sunglasses (Free Size)', 'UV Protection Rectangular Sunglasses (Free Size)', 'UV Protection, Gradient Rectangular Sunglasses (Free Si...', 'UV Protection Sports Sunglasses (65)', 'Night Vision, UV Protection Round Sunglasses (54)', 'UV Protection Retro Square Sunglasses (Free Size)', 'UV Protection Aviator Sunglasses (Free Size)', 'Polarized, UV Protection Retro Square Sunglasses (61)', 'Toughened Glass Lens, UV Protection, Riding Glasses, Ni...', 'by Lenskart Polarized, UV Protection Wayfarer Sunglasse...', 'UV Protection Wayfarer Sunglasses (57)', 'Polarized Rectangular Sunglasses (58)', 'UV Protection, Gradient Rectangular Sunglasses (Free Si...', 'Polarized Aviator Sunglasses (63)', 'Gradient, UV Protection Wayfarer Sunglasses (Free Size)', 'Mirrored, Night Vision, UV Protection Wayfarer, Aviator...', 'Riding Glasses, UV Protection Aviator Sunglasses (57)', 'UV Protection, Polarized Round Sunglasses (47)', 'UV Protection, Mirrored Aviator Sunglasses (58)', 'UV Protection, Riding Glasses, Mirrored Aviator Sunglas...', 'UV Protection Cat-eye Sunglasses (45)', 'Polarized, UV Protection Round Sunglasses (51)', 'Latch Beta Retro Square Sunglass', 'Toughened Glass Lens, UV Protection Wayfarer, Rectangul...', 'UV Protection, Night Vision, Riding Glasses Aviator Sun...', 'UV Protection Wayfarer Sunglasses (53)', 'UV Protection Rectangular Sunglasses (52)', 'by Lenskart Polarized, UV Protection Wayfarer Sunglasse...', 'UV Protection Cat-eye Sunglasses (55)', 'UV Protection Aviator Sunglasses (58)', 'UV Protection Aviator Sunglasses (58)', 'UV Protection, Polarized, Mirrored Rectangular, Retro S...', 'UV Protection Butterfly Sunglasses (60)', 'UV Protection Wayfarer Sunglasses (Free Size)', 'UV Protection Aviator Sunglasses (55)', 'by Lenskart Polarized, UV Protection Wayfarer Sunglasse...', 'UV Protection Aviator Sunglasses (Free Size)', 'UV Protection, Polarized Wayfarer Sunglasses (Free Size...', 'UV Protection Aviator Sunglasses (57)', 'by Lenskart Polarized, UV Protection Round Sunglasses (...', 'UV Protection, Mirrored Aviator Sunglasses (57)', 'UV Protection, Riding Glasses Aviator Sunglasses (57)', 'UV Protection Rectangular Sunglasses (52)', 'UV Protection Wayfarer Sunglasses (Free Size)', 'UV Protection Over-sized Sunglasses (64)', 'UV Protection Round Sunglasses (54)', 'Polarized Wayfarer Sunglasses (55)', 'UV Protection Round Sunglasses (47)', 'UV Protection Round Sunglasses (50)', 'by Lenskart Polarized, UV Protection Aviator Sunglasses...', 'UV Protection Aviator, Wayfarer Sunglasses (Free Size)', 'Polarized, UV Protection Retro Square Sunglasses (55)', 'UV Protection Butterfly Sunglasses (60)', 'Polarized, UV Protection Retro Square Sunglasses (62)', 'UV Protection Aviator Sunglasses (54)', 'UV Protection Rectangular, Retro Square Sunglasses (58)', 'UV Protection Wayfarer Sunglasses (Free Size)', 'UV Protection Retro Square Sunglasses (Free Size)', 'UV Protection Cat-eye Sunglasses (Free Size)', 'Polarized, UV Protection Aviator Sunglasses (55)', 'Gradient, UV Protection Sunglass', 'UV Protection, Gradient Butterfly, Shield Sunglasses (6...', 'UV Protection Round Sunglasses (58)', 'by Lenskart UV Protection Clubmaster Sunglasses (55)', 'UV Protection Rectangular Sunglasses (Free Size)', 'UV Protection Rectangular Sunglasses (55)', 'UV Protection, Night Vision, Riding Glasses Sports Sung...', 'Polarized, UV Protection Wayfarer, Over-sized Sunglasse...', 'UV Protection Aviator Sunglasses (58)', 'UV Protection Aviator Sunglasses (62)', 'UV Protection, Mirrored Aviator Sunglasses (58)', 'Polarized Clubmaster Sunglasses (58)', 'UV Protection, Polarized Over-sized Sunglasses (50)', 'UV Protection Cat-eye Sunglasses (Free Size)', 'UV Protection Oval Sunglasses (54)', 'Toughened Glass Lens, UV Protection Wayfarer, Rectangul...', 'UV Protection Retro Square Sunglasses (Free Size)', 'by Lenskart Polarized, UV Protection Wayfarer Sunglasse...', 'by Lenskart Polarized, UV Protection Round Sunglasses (...', 'Polarized, UV Protection Rectangular Sunglasses (56)', 'by Lenskart Polarized, UV Protection Wayfarer Sunglasse...', 'UV Protection, Polarized, Gradient, Riding Glasses Retr...', 'UV Protection Retro Square Sunglasses (54)', 'Photochromatic Lens, UV Protection Aviator Sunglasses (...', 'UV Protection, Gradient Butterfly Sunglasses (62)', 'Polarized Retro Square Sunglasses (45)', 'by Lenskart UV Protection Clubmaster Sunglasses (55)', 'UV Protection, Riding Glasses, Mirrored Retro Square Su...', 'UV Protection, Gradient Cat-eye Sunglasses (61)', 'UV Protection Sports Sunglasses (62)', 'UV Protection, Mirrored, Night Vision, Riding Glasses S...', 'Polarized, UV Protection Rectangular Sunglasses (55)', 'UV Protection Wayfarer Sunglasses (Free Size)', 'Polarized, UV Protection Retro Square Sunglasses (55)', 'UV Protection Wayfarer Sunglasses (Free Size)', 'Polarized, UV Protection Retro Square Sunglasses (56)', 'by Lenskart Polarized, UV Protection Round Sunglasses (...', 'UV Protection Over-sized, Retro Square Sunglasses (61)', 'by Lenskart Polarized, UV Protection Round Sunglasses (...', 'Toughened Glass Lens, UV Protection Rectangular, Aviato...', 'Polarized Aviator Sunglasses (59)', 'UV Protection Retro Square Sunglasses (Free Size)', 'Polarized, UV Protection Round Sunglasses (51)', 'UV Protection Oval Sunglasses (60)'], 'Price': ['₹873₹1,99956% off\\nFree delivery', '₹661₹1,99966% off\\nFree delivery', '₹1,887₹2,09910% off\\nFree delivery', '₹1,599₹3,99960% off\\nFree delivery', '₹415₹1,70075% off\\nFree delivery', '₹221₹1,29982% off\\nFree delivery', '₹781₹1,99960% off\\nFree delivery', '₹688₹1,99965% off\\nFree delivery', '₹524₹1,99973% off\\nFree delivery', '₹125₹84585% off\\nFree delivery', '₹259₹1,29980% off\\nFree delivery', '₹296₹1,99985% off\\nFree delivery', '₹699₹2,55572% off\\nFree delivery', '₹406₹2,59984% off\\nFree delivery', '₹471₹1,49968% off\\nFree delivery', '₹1,599₹4,99968% off\\nFree delivery', '₹1,099\\nFree delivery', '₹195₹99980% off\\nFree delivery', '₹377₹1,99981% off\\nFree delivery', '₹121₹94587% off\\nFree delivery', '₹238₹99976% off\\nFree delivery', '₹489₹2,25278% off\\nFree delivery', '₹849₹8995% off\\nFree delivery', '₹594₹1,49960% off\\nFree delivery', '₹249₹49950% off\\nFree delivery', '₹663₹1,99966% off\\nFree delivery', '₹879₹2,94970% off\\nFree delivery', '₹1,274₹4,99974% off\\nFree delivery', '₹423₹1,99978% off\\nFree delivery', '₹5,359₹8,79039% off\\nFree delivery', '₹599₹1,09945% off\\nFree delivery', '₹899₹1,99955% off\\nFree delivery', '₹224₹1,29982% off\\nFree delivery', '₹529₹1,99973% off\\nFree delivery', '₹124₹87585% off\\nFree delivery', '₹1,379₹2,70048% off\\nFree delivery', '₹399₹1,12564% off\\nFree delivery', '₹965₹1,99951% off\\nFree delivery', '₹5,299₹10,59049% off\\nFree delivery', '₹745₹3,69979% off\\nFree delivery', '₹129₹75082% off\\nFree delivery', '₹199₹99880% off\\nFree delivery', '₹192₹1,99990% off\\nFree delivery', '₹688₹2,50072% off\\nFree delivery', '₹194₹1,59987% off\\nFree delivery', '₹352₹2,59986% off\\nFree delivery', '₹869₹1,39937% off\\nFree delivery', '₹244₹2,49990% off\\nFree delivery', '₹373₹2,59985% off\\nFree delivery', '₹609₹99939% off\\nFree delivery', '₹216₹1,59986% off\\nFree delivery', '₹636₹1,99968% off\\nFree delivery', '₹599₹99940% off\\nFree delivery', '₹315₹1,29975% off\\nFree delivery', '₹519₹89942% off\\nFree delivery', '₹749₹1,99962% off\\nFree delivery', '₹125₹75083% off\\nFree delivery', '₹311₹1,99984% off\\nFree delivery', '₹399₹1,99980% off\\nFree delivery', '₹284₹1,49981% off\\nFree delivery', '₹373₹2,59985% off\\nFree delivery', '₹306₹2,49587% off\\nFree delivery', '₹539₹89940% off\\nFree delivery', '₹569₹1,99971% off\\nFree delivery', '₹359₹99964% off\\nFree delivery', '₹673₹1,99966% off\\nFree delivery', '₹149₹1,47689% off\\nFree delivery', '₹551₹1,99972% off\\nFree delivery', '₹372₹2,59985% off\\nFree delivery', '₹674₹1,99966% off\\nFree delivery', '₹208₹1,59986% off\\nFree delivery', '₹471₹1,49968% off\\nFree delivery', '₹399₹1,99980% off\\nFree delivery', '₹489₹2,22578% off\\nFree delivery', '₹195₹99980% off\\nFree delivery', '₹471₹1,99976% off\\nFree delivery', '₹259₹1,29980% off\\nFree delivery', '₹399₹2,84485% off\\nFree delivery', '₹4,019₹6,59039% off\\nFree delivery', '₹749₹2,50070% off\\nFree delivery', '₹224₹69967% off\\nFree delivery', '₹199₹1,29884% off\\nFree delivery', '₹225₹78571% off\\nFree delivery', '₹593₹2,40075% off\\nFree delivery', '₹4,199₹6,89039% off\\nFree delivery', '₹5,729₹9,39038% off\\nFree delivery', '₹115₹87586% off\\nFree delivery', '₹764₹2,59970% off\\nFree delivery', '₹869₹1,99956% off\\nFree delivery', '₹179₹59970% off\\nFree delivery', '₹269₹1,59983% off\\nFree delivery', '₹730₹3,69980% off\\nFree delivery', '₹249₹2,59990% off\\nFree delivery', '₹636₹1,99968% off\\nFree delivery', '₹719₹1,99964% off\\nFree delivery', '₹593₹2,40075% off\\nFree delivery', '₹688₹2,50072% off\\nFree delivery', '₹206₹99979% off\\nFree delivery', '₹479₹1,29963% off\\nFree delivery', '₹785₹3,69978% off\\nFree delivery', '₹594₹1,99970% off\\nFree delivery', '₹482₹2,49980% off\\nFree delivery', '₹749₹2,50070% off\\nFree delivery', '₹1,379₹2,70048% off\\nFree delivery', '₹415₹1,70075% off\\nFree delivery', '₹302₹1,24575% off\\nFree delivery', '₹275₹92570% off\\nFree delivery', '₹1,999₹3,59944% off\\nFree delivery', '₹569₹99943% off\\nFree delivery', '₹551₹1,99972% off\\nFree delivery', '₹529₹89941% off\\nFree delivery', '₹2,099₹3,59941% off\\nFree delivery', '₹669₹1,99966% off\\nFree delivery', '₹524₹1,99973% off\\nFree delivery', '₹873₹1,99956% off\\nFree delivery', '₹745₹3,69979% off\\nFree delivery', '₹1,049₹3,49970% off\\nFree delivery', '₹1,418₹2,69947% off\\nFree delivery', '₹870₹1,99956% off\\nFree delivery', '₹598₹2,47575% off\\nFree delivery']}, {'Brand': ['VINCENT CHASE', 'VINCENT CHASE', 'Fastrack', 'Resist', 'AISLIN', 'Elligator', 'VINCENT CHASE', 'VINCENT CHASE', 'ROYAL SON', 'NuVew', 'METRONAUT', 'Singco India', 'PROVOGUE', 'PIRASO', 'ROYAL SON', 'RESIST EYEWEAR', 'Fastrack', 'SUNBEE', 'ROZZETTA CRAFT', 'NuVew', 'SRPM', 'ROZZETTA CRAFT', 'Fastrack', 'ROYAL SON', 'LIZA ANGEL', 'VINCENT CHASE', 'HRX by Hrithik Roshan', 'Royaltail', 'ROZZETTA CRAFT', 'Ray-Ban', 'Fastrack', 'style guru', 'GANSTA', 'VINCENT CHASE', 'NuVew', 'LOUIS KOUROS', 'ROZZETTA CRAFT', 'VINCENT CHASE', 'OAKLEY', 'AISLIN', 'NuVew', 'SRPM', 'PIRASO', 'VINCENT CHASE', 'PIRASO', 'PIRASO', 'Fastrack', 'ARICKS', 'PIRASO', 'Fastrack', 'PIRASO', 'VINCENT CHASE', 'Fastrack', 'SUNBEE', 'Fastrack', 'VINCENT CHASE', 'NuVew', 'GANSTA', 'Rich Club', 'Silver Kartz', 'PIRASO', 'Elligator', 'Fastrack', 'VINCENT CHASE', 'Rich Club', 'VINCENT CHASE', 'epic ink', 'ROYAL SON', 'PIRASO', 'ROYAL SON', 'PIRASO', 'ROYAL SON', 'elegante', 'ROZZETTA CRAFT', 'SUNBEE', 'ROZZETTA CRAFT', 'METRONAUT', 'ROZZETTA CRAFT', 'Ray-Ban', 'VINCENT CHASE', 'LIZA ANGEL', 'kingsunglasses', 'NuVew', 'AISLIN', 'Ray-Ban', 'Ray-Ban', 'NuVew', 'ROYAL SON', 'VINCENT CHASE', 'SUNBEE', 'PIRASO', 'AISLIN', 'PIRASO', 'VINCENT CHASE', 'VINCENT CHASE', 'AISLIN', 'VINCENT CHASE', 'EYELLUSION', 'Rich Club', 'AISLIN', 'ROYAL SON', 'PIRASO', 'VINCENT CHASE', 'LOUIS KOUROS', 'AISLIN', 'NuVew', 'NuVew', 'Eyewearlabs', 'Fastrack', 'ROYAL SON', 'Fastrack', 'Eyewearlabs', 'VINCENT CHASE', 'ROYAL SON', 'VINCENT CHASE', 'AISLIN', 'HRX by Hrithik Roshan', 'HRX by Hrithik Roshan', 'VINCENT CHASE', 'AISLIN'], 'Description': ['Polarized, UV Protection Round Sunglasses (50)', 'by Lenskart Polarized, UV Protection Rectangular Sungla...', 'Mirrored Aviator Sunglasses (Free Size)', 'Polarized Wayfarer Sunglasses (Free Size)', 'UV Protection, Gradient Cat-eye Sunglasses (61)', 'UV Protection Wayfarer Sunglasses (53)', 'Polarized, UV Protection Round Sunglasses (50)', 'UV Protection Wayfarer Sunglasses (62)', 'UV Protection Over-sized, Retro Square Sunglasses (61)', 'UV Protection, Mirrored Wayfarer Sunglasses (57)', 'UV Protection, Gradient Sunglass', 'Riding Glasses, UV Protection Clubmaster, Wayfarer Sung...', 'UV Protection Round Sunglasses (Free Size)', 'UV Protection Butterfly Sunglasses (60)', 'UV Protection Rectangular, Retro Square Sunglasses (58)', 'Polarized, Riding Glasses, UV Protection Wayfarer Sungl...', 'UV Protection Wayfarer Sunglasses (Free Size)', 'UV Protection Rectangular Sunglasses (Free Size)', 'UV Protection, Gradient Rectangular Sunglasses (Free Si...', 'UV Protection Sports Sunglasses (65)', 'Night Vision, UV Protection Round Sunglasses (54)', 'UV Protection Retro Square Sunglasses (Free Size)', 'UV Protection Aviator Sunglasses (Free Size)', 'Polarized, UV Protection Retro Square Sunglasses (61)', 'Toughened Glass Lens, UV Protection, Riding Glasses, Ni...', 'by Lenskart Polarized, UV Protection Wayfarer Sunglasse...', 'UV Protection Wayfarer Sunglasses (57)', 'Polarized Rectangular Sunglasses (58)', 'UV Protection, Gradient Rectangular Sunglasses (Free Si...', 'Polarized Aviator Sunglasses (63)', 'Gradient, UV Protection Wayfarer Sunglasses (Free Size)', 'Mirrored, Night Vision, UV Protection Wayfarer, Aviator...', 'Riding Glasses, UV Protection Aviator Sunglasses (57)', 'UV Protection, Polarized Round Sunglasses (47)', 'UV Protection, Mirrored Aviator Sunglasses (58)', 'UV Protection, Riding Glasses, Mirrored Aviator Sunglas...', 'UV Protection Cat-eye Sunglasses (45)', 'Polarized, UV Protection Round Sunglasses (51)', 'Latch Beta Retro Square Sunglass', 'Toughened Glass Lens, UV Protection Wayfarer, Rectangul...', 'UV Protection, Night Vision, Riding Glasses Aviator Sun...', 'UV Protection Wayfarer Sunglasses (53)', 'UV Protection Rectangular Sunglasses (52)', 'by Lenskart Polarized, UV Protection Wayfarer Sunglasse...', 'UV Protection Cat-eye Sunglasses (55)', 'UV Protection Aviator Sunglasses (58)', 'UV Protection Aviator Sunglasses (58)', 'UV Protection, Polarized, Mirrored Rectangular, Retro S...', 'UV Protection Butterfly Sunglasses (60)', 'UV Protection Wayfarer Sunglasses (Free Size)', 'UV Protection Aviator Sunglasses (55)', 'by Lenskart Polarized, UV Protection Wayfarer Sunglasse...', 'UV Protection Aviator Sunglasses (Free Size)', 'UV Protection, Polarized Wayfarer Sunglasses (Free Size...', 'UV Protection Aviator Sunglasses (57)', 'by Lenskart Polarized, UV Protection Round Sunglasses (...', 'UV Protection, Mirrored Aviator Sunglasses (57)', 'UV Protection, Riding Glasses Aviator Sunglasses (57)', 'UV Protection Rectangular Sunglasses (52)', 'UV Protection Wayfarer Sunglasses (Free Size)', 'UV Protection Over-sized Sunglasses (64)', 'UV Protection Round Sunglasses (54)', 'Polarized Wayfarer Sunglasses (55)', 'UV Protection Round Sunglasses (47)', 'UV Protection Round Sunglasses (50)', 'by Lenskart Polarized, UV Protection Aviator Sunglasses...', 'UV Protection Aviator, Wayfarer Sunglasses (Free Size)', 'Polarized, UV Protection Retro Square Sunglasses (55)', 'UV Protection Butterfly Sunglasses (60)', 'Polarized, UV Protection Retro Square Sunglasses (62)', 'UV Protection Aviator Sunglasses (54)', 'UV Protection Rectangular, Retro Square Sunglasses (58)', 'UV Protection Wayfarer Sunglasses (Free Size)', 'UV Protection Retro Square Sunglasses (Free Size)', 'UV Protection Cat-eye Sunglasses (Free Size)', 'Polarized, UV Protection Aviator Sunglasses (55)', 'Gradient, UV Protection Sunglass', 'UV Protection, Gradient Butterfly, Shield Sunglasses (6...', 'UV Protection Round Sunglasses (58)', 'by Lenskart UV Protection Clubmaster Sunglasses (55)', 'UV Protection Rectangular Sunglasses (Free Size)', 'UV Protection Rectangular Sunglasses (55)', 'UV Protection, Night Vision, Riding Glasses Sports Sung...', 'Polarized, UV Protection Wayfarer, Over-sized Sunglasse...', 'UV Protection Aviator Sunglasses (58)', 'UV Protection Aviator Sunglasses (62)', 'UV Protection, Mirrored Aviator Sunglasses (58)', 'Polarized Clubmaster Sunglasses (58)', 'UV Protection, Polarized Over-sized Sunglasses (50)', 'UV Protection Cat-eye Sunglasses (Free Size)', 'UV Protection Oval Sunglasses (54)', 'Toughened Glass Lens, UV Protection Wayfarer, Rectangul...', 'UV Protection Retro Square Sunglasses (Free Size)', 'by Lenskart Polarized, UV Protection Wayfarer Sunglasse...', 'by Lenskart Polarized, UV Protection Round Sunglasses (...', 'Polarized, UV Protection Rectangular Sunglasses (56)', 'by Lenskart Polarized, UV Protection Wayfarer Sunglasse...', 'UV Protection, Polarized, Gradient, Riding Glasses Retr...', 'UV Protection Retro Square Sunglasses (54)', 'Photochromatic Lens, UV Protection Aviator Sunglasses (...', 'UV Protection, Gradient Butterfly Sunglasses (62)', 'Polarized Retro Square Sunglasses (45)', 'by Lenskart UV Protection Clubmaster Sunglasses (55)', 'UV Protection, Riding Glasses, Mirrored Retro Square Su...', 'UV Protection, Gradient Cat-eye Sunglasses (61)', 'UV Protection Sports Sunglasses (62)', 'UV Protection, Mirrored, Night Vision, Riding Glasses S...', 'Polarized, UV Protection Rectangular Sunglasses (55)', 'UV Protection Wayfarer Sunglasses (Free Size)', 'Polarized, UV Protection Retro Square Sunglasses (55)', 'UV Protection Wayfarer Sunglasses (Free Size)', 'Polarized, UV Protection Retro Square Sunglasses (56)', 'by Lenskart Polarized, UV Protection Round Sunglasses (...', 'UV Protection Over-sized, Retro Square Sunglasses (61)', 'by Lenskart Polarized, UV Protection Round Sunglasses (...', 'Toughened Glass Lens, UV Protection Rectangular, Aviato...', 'Polarized Aviator Sunglasses (59)', 'UV Protection Retro Square Sunglasses (Free Size)', 'Polarized, UV Protection Round Sunglasses (51)', 'UV Protection Oval Sunglasses (60)'], 'Price': ['₹873₹1,99956% off\\nFree delivery', '₹661₹1,99966% off\\nFree delivery', '₹1,887₹2,09910% off\\nFree delivery', '₹1,599₹3,99960% off\\nFree delivery', '₹415₹1,70075% off\\nFree delivery', '₹221₹1,29982% off\\nFree delivery', '₹781₹1,99960% off\\nFree delivery', '₹688₹1,99965% off\\nFree delivery', '₹524₹1,99973% off\\nFree delivery', '₹125₹84585% off\\nFree delivery', '₹259₹1,29980% off\\nFree delivery', '₹296₹1,99985% off\\nFree delivery', '₹699₹2,55572% off\\nFree delivery', '₹406₹2,59984% off\\nFree delivery', '₹471₹1,49968% off\\nFree delivery', '₹1,599₹4,99968% off\\nFree delivery', '₹1,099\\nFree delivery', '₹195₹99980% off\\nFree delivery', '₹377₹1,99981% off\\nFree delivery', '₹121₹94587% off\\nFree delivery', '₹238₹99976% off\\nFree delivery', '₹489₹2,25278% off\\nFree delivery', '₹849₹8995% off\\nFree delivery', '₹594₹1,49960% off\\nFree delivery', '₹249₹49950% off\\nFree delivery', '₹663₹1,99966% off\\nFree delivery', '₹879₹2,94970% off\\nFree delivery', '₹1,274₹4,99974% off\\nFree delivery', '₹423₹1,99978% off\\nFree delivery', '₹5,359₹8,79039% off\\nFree delivery', '₹599₹1,09945% off\\nFree delivery', '₹899₹1,99955% off\\nFree delivery', '₹224₹1,29982% off\\nFree delivery', '₹529₹1,99973% off\\nFree delivery', '₹124₹87585% off\\nFree delivery', '₹1,379₹2,70048% off\\nFree delivery', '₹399₹1,12564% off\\nFree delivery', '₹965₹1,99951% off\\nFree delivery', '₹5,299₹10,59049% off\\nFree delivery', '₹745₹3,69979% off\\nFree delivery', '₹129₹75082% off\\nFree delivery', '₹199₹99880% off\\nFree delivery', '₹192₹1,99990% off\\nFree delivery', '₹688₹2,50072% off\\nFree delivery', '₹194₹1,59987% off\\nFree delivery', '₹352₹2,59986% off\\nFree delivery', '₹869₹1,39937% off\\nFree delivery', '₹244₹2,49990% off\\nFree delivery', '₹373₹2,59985% off\\nFree delivery', '₹609₹99939% off\\nFree delivery', '₹216₹1,59986% off\\nFree delivery', '₹636₹1,99968% off\\nFree delivery', '₹599₹99940% off\\nFree delivery', '₹315₹1,29975% off\\nFree delivery', '₹519₹89942% off\\nFree delivery', '₹749₹1,99962% off\\nFree delivery', '₹125₹75083% off\\nFree delivery', '₹311₹1,99984% off\\nFree delivery', '₹399₹1,99980% off\\nFree delivery', '₹284₹1,49981% off\\nFree delivery', '₹373₹2,59985% off\\nFree delivery', '₹306₹2,49587% off\\nFree delivery', '₹539₹89940% off\\nFree delivery', '₹569₹1,99971% off\\nFree delivery', '₹359₹99964% off\\nFree delivery', '₹673₹1,99966% off\\nFree delivery', '₹149₹1,47689% off\\nFree delivery', '₹551₹1,99972% off\\nFree delivery', '₹372₹2,59985% off\\nFree delivery', '₹674₹1,99966% off\\nFree delivery', '₹208₹1,59986% off\\nFree delivery', '₹471₹1,49968% off\\nFree delivery', '₹399₹1,99980% off\\nFree delivery', '₹489₹2,22578% off\\nFree delivery', '₹195₹99980% off\\nFree delivery', '₹471₹1,99976% off\\nFree delivery', '₹259₹1,29980% off\\nFree delivery', '₹399₹2,84485% off\\nFree delivery', '₹4,019₹6,59039% off\\nFree delivery', '₹749₹2,50070% off\\nFree delivery', '₹224₹69967% off\\nFree delivery', '₹199₹1,29884% off\\nFree delivery', '₹225₹78571% off\\nFree delivery', '₹593₹2,40075% off\\nFree delivery', '₹4,199₹6,89039% off\\nFree delivery', '₹5,729₹9,39038% off\\nFree delivery', '₹115₹87586% off\\nFree delivery', '₹764₹2,59970% off\\nFree delivery', '₹869₹1,99956% off\\nFree delivery', '₹179₹59970% off\\nFree delivery', '₹269₹1,59983% off\\nFree delivery', '₹730₹3,69980% off\\nFree delivery', '₹249₹2,59990% off\\nFree delivery', '₹636₹1,99968% off\\nFree delivery', '₹719₹1,99964% off\\nFree delivery', '₹593₹2,40075% off\\nFree delivery', '₹688₹2,50072% off\\nFree delivery', '₹206₹99979% off\\nFree delivery', '₹479₹1,29963% off\\nFree delivery', '₹785₹3,69978% off\\nFree delivery', '₹594₹1,99970% off\\nFree delivery', '₹482₹2,49980% off\\nFree delivery', '₹749₹2,50070% off\\nFree delivery', '₹1,379₹2,70048% off\\nFree delivery', '₹415₹1,70075% off\\nFree delivery', '₹302₹1,24575% off\\nFree delivery', '₹275₹92570% off\\nFree delivery', '₹1,999₹3,59944% off\\nFree delivery', '₹569₹99943% off\\nFree delivery', '₹551₹1,99972% off\\nFree delivery', '₹529₹89941% off\\nFree delivery', '₹2,099₹3,59941% off\\nFree delivery', '₹669₹1,99966% off\\nFree delivery', '₹524₹1,99973% off\\nFree delivery', '₹873₹1,99956% off\\nFree delivery', '₹745₹3,69979% off\\nFree delivery', '₹1,049₹3,49970% off\\nFree delivery', '₹1,418₹2,69947% off\\nFree delivery', '₹870₹1,99956% off\\nFree delivery', '₹598₹2,47575% off\\nFree delivery']}, {'Brand': ['VINCENT CHASE', 'VINCENT CHASE', 'Fastrack', 'Resist', 'AISLIN', 'Elligator', 'VINCENT CHASE', 'VINCENT CHASE', 'ROYAL SON', 'NuVew', 'METRONAUT', 'Singco India', 'PROVOGUE', 'PIRASO', 'ROYAL SON', 'RESIST EYEWEAR', 'Fastrack', 'SUNBEE', 'ROZZETTA CRAFT', 'NuVew', 'SRPM', 'ROZZETTA CRAFT', 'Fastrack', 'ROYAL SON', 'LIZA ANGEL', 'VINCENT CHASE', 'HRX by Hrithik Roshan', 'Royaltail', 'ROZZETTA CRAFT', 'Ray-Ban', 'Fastrack', 'style guru', 'GANSTA', 'VINCENT CHASE', 'NuVew', 'LOUIS KOUROS', 'ROZZETTA CRAFT', 'VINCENT CHASE', 'OAKLEY', 'AISLIN', 'NuVew', 'SRPM', 'PIRASO', 'VINCENT CHASE', 'PIRASO', 'PIRASO', 'Fastrack', 'ARICKS', 'PIRASO', 'Fastrack', 'PIRASO', 'VINCENT CHASE', 'Fastrack', 'SUNBEE', 'Fastrack', 'VINCENT CHASE', 'NuVew', 'GANSTA', 'Rich Club', 'Silver Kartz', 'PIRASO', 'Elligator', 'Fastrack', 'VINCENT CHASE', 'Rich Club', 'VINCENT CHASE', 'epic ink', 'ROYAL SON', 'PIRASO', 'ROYAL SON', 'PIRASO', 'ROYAL SON', 'elegante', 'ROZZETTA CRAFT', 'SUNBEE', 'ROZZETTA CRAFT', 'METRONAUT', 'ROZZETTA CRAFT', 'Ray-Ban', 'VINCENT CHASE', 'LIZA ANGEL', 'kingsunglasses', 'NuVew', 'AISLIN', 'Ray-Ban', 'Ray-Ban', 'NuVew', 'ROYAL SON', 'VINCENT CHASE', 'SUNBEE', 'PIRASO', 'AISLIN', 'PIRASO', 'VINCENT CHASE', 'VINCENT CHASE', 'AISLIN', 'VINCENT CHASE', 'EYELLUSION', 'Rich Club', 'AISLIN', 'ROYAL SON', 'PIRASO', 'VINCENT CHASE', 'LOUIS KOUROS', 'AISLIN', 'NuVew', 'NuVew', 'Eyewearlabs', 'Fastrack', 'ROYAL SON', 'Fastrack', 'Eyewearlabs', 'VINCENT CHASE', 'ROYAL SON', 'VINCENT CHASE', 'AISLIN', 'HRX by Hrithik Roshan', 'HRX by Hrithik Roshan', 'VINCENT CHASE', 'AISLIN'], 'Description': ['Polarized, UV Protection Round Sunglasses (50)', 'by Lenskart Polarized, UV Protection Rectangular Sungla...', 'Mirrored Aviator Sunglasses (Free Size)', 'Polarized Wayfarer Sunglasses (Free Size)', 'UV Protection, Gradient Cat-eye Sunglasses (61)', 'UV Protection Wayfarer Sunglasses (53)', 'Polarized, UV Protection Round Sunglasses (50)', 'UV Protection Wayfarer Sunglasses (62)', 'UV Protection Over-sized, Retro Square Sunglasses (61)', 'UV Protection, Mirrored Wayfarer Sunglasses (57)', 'UV Protection, Gradient Sunglass', 'Riding Glasses, UV Protection Clubmaster, Wayfarer Sung...', 'UV Protection Round Sunglasses (Free Size)', 'UV Protection Butterfly Sunglasses (60)', 'UV Protection Rectangular, Retro Square Sunglasses (58)', 'Polarized, Riding Glasses, UV Protection Wayfarer Sungl...', 'UV Protection Wayfarer Sunglasses (Free Size)', 'UV Protection Rectangular Sunglasses (Free Size)', 'UV Protection, Gradient Rectangular Sunglasses (Free Si...', 'UV Protection Sports Sunglasses (65)', 'Night Vision, UV Protection Round Sunglasses (54)', 'UV Protection Retro Square Sunglasses (Free Size)', 'UV Protection Aviator Sunglasses (Free Size)', 'Polarized, UV Protection Retro Square Sunglasses (61)', 'Toughened Glass Lens, UV Protection, Riding Glasses, Ni...', 'by Lenskart Polarized, UV Protection Wayfarer Sunglasse...', 'UV Protection Wayfarer Sunglasses (57)', 'Polarized Rectangular Sunglasses (58)', 'UV Protection, Gradient Rectangular Sunglasses (Free Si...', 'Polarized Aviator Sunglasses (63)', 'Gradient, UV Protection Wayfarer Sunglasses (Free Size)', 'Mirrored, Night Vision, UV Protection Wayfarer, Aviator...', 'Riding Glasses, UV Protection Aviator Sunglasses (57)', 'UV Protection, Polarized Round Sunglasses (47)', 'UV Protection, Mirrored Aviator Sunglasses (58)', 'UV Protection, Riding Glasses, Mirrored Aviator Sunglas...', 'UV Protection Cat-eye Sunglasses (45)', 'Polarized, UV Protection Round Sunglasses (51)', 'Latch Beta Retro Square Sunglass', 'Toughened Glass Lens, UV Protection Wayfarer, Rectangul...', 'UV Protection, Night Vision, Riding Glasses Aviator Sun...', 'UV Protection Wayfarer Sunglasses (53)', 'UV Protection Rectangular Sunglasses (52)', 'by Lenskart Polarized, UV Protection Wayfarer Sunglasse...', 'UV Protection Cat-eye Sunglasses (55)', 'UV Protection Aviator Sunglasses (58)', 'UV Protection Aviator Sunglasses (58)', 'UV Protection, Polarized, Mirrored Rectangular, Retro S...', 'UV Protection Butterfly Sunglasses (60)', 'UV Protection Wayfarer Sunglasses (Free Size)', 'UV Protection Aviator Sunglasses (55)', 'by Lenskart Polarized, UV Protection Wayfarer Sunglasse...', 'UV Protection Aviator Sunglasses (Free Size)', 'UV Protection, Polarized Wayfarer Sunglasses (Free Size...', 'UV Protection Aviator Sunglasses (57)', 'by Lenskart Polarized, UV Protection Round Sunglasses (...', 'UV Protection, Mirrored Aviator Sunglasses (57)', 'UV Protection, Riding Glasses Aviator Sunglasses (57)', 'UV Protection Rectangular Sunglasses (52)', 'UV Protection Wayfarer Sunglasses (Free Size)', 'UV Protection Over-sized Sunglasses (64)', 'UV Protection Round Sunglasses (54)', 'Polarized Wayfarer Sunglasses (55)', 'UV Protection Round Sunglasses (47)', 'UV Protection Round Sunglasses (50)', 'by Lenskart Polarized, UV Protection Aviator Sunglasses...', 'UV Protection Aviator, Wayfarer Sunglasses (Free Size)', 'Polarized, UV Protection Retro Square Sunglasses (55)', 'UV Protection Butterfly Sunglasses (60)', 'Polarized, UV Protection Retro Square Sunglasses (62)', 'UV Protection Aviator Sunglasses (54)', 'UV Protection Rectangular, Retro Square Sunglasses (58)', 'UV Protection Wayfarer Sunglasses (Free Size)', 'UV Protection Retro Square Sunglasses (Free Size)', 'UV Protection Cat-eye Sunglasses (Free Size)', 'Polarized, UV Protection Aviator Sunglasses (55)', 'Gradient, UV Protection Sunglass', 'UV Protection, Gradient Butterfly, Shield Sunglasses (6...', 'UV Protection Round Sunglasses (58)', 'by Lenskart UV Protection Clubmaster Sunglasses (55)', 'UV Protection Rectangular Sunglasses (Free Size)', 'UV Protection Rectangular Sunglasses (55)', 'UV Protection, Night Vision, Riding Glasses Sports Sung...', 'Polarized, UV Protection Wayfarer, Over-sized Sunglasse...', 'UV Protection Aviator Sunglasses (58)', 'UV Protection Aviator Sunglasses (62)', 'UV Protection, Mirrored Aviator Sunglasses (58)', 'Polarized Clubmaster Sunglasses (58)', 'UV Protection, Polarized Over-sized Sunglasses (50)', 'UV Protection Cat-eye Sunglasses (Free Size)', 'UV Protection Oval Sunglasses (54)', 'Toughened Glass Lens, UV Protection Wayfarer, Rectangul...', 'UV Protection Retro Square Sunglasses (Free Size)', 'by Lenskart Polarized, UV Protection Wayfarer Sunglasse...', 'by Lenskart Polarized, UV Protection Round Sunglasses (...', 'Polarized, UV Protection Rectangular Sunglasses (56)', 'by Lenskart Polarized, UV Protection Wayfarer Sunglasse...', 'UV Protection, Polarized, Gradient, Riding Glasses Retr...', 'UV Protection Retro Square Sunglasses (54)', 'Photochromatic Lens, UV Protection Aviator Sunglasses (...', 'UV Protection, Gradient Butterfly Sunglasses (62)', 'Polarized Retro Square Sunglasses (45)', 'by Lenskart UV Protection Clubmaster Sunglasses (55)', 'UV Protection, Riding Glasses, Mirrored Retro Square Su...', 'UV Protection, Gradient Cat-eye Sunglasses (61)', 'UV Protection Sports Sunglasses (62)', 'UV Protection, Mirrored, Night Vision, Riding Glasses S...', 'Polarized, UV Protection Rectangular Sunglasses (55)', 'UV Protection Wayfarer Sunglasses (Free Size)', 'Polarized, UV Protection Retro Square Sunglasses (55)', 'UV Protection Wayfarer Sunglasses (Free Size)', 'Polarized, UV Protection Retro Square Sunglasses (56)', 'by Lenskart Polarized, UV Protection Round Sunglasses (...', 'UV Protection Over-sized, Retro Square Sunglasses (61)', 'by Lenskart Polarized, UV Protection Round Sunglasses (...', 'Toughened Glass Lens, UV Protection Rectangular, Aviato...', 'Polarized Aviator Sunglasses (59)', 'UV Protection Retro Square Sunglasses (Free Size)', 'Polarized, UV Protection Round Sunglasses (51)', 'UV Protection Oval Sunglasses (60)'], 'Price': ['₹873₹1,99956% off\\nFree delivery', '₹661₹1,99966% off\\nFree delivery', '₹1,887₹2,09910% off\\nFree delivery', '₹1,599₹3,99960% off\\nFree delivery', '₹415₹1,70075% off\\nFree delivery', '₹221₹1,29982% off\\nFree delivery', '₹781₹1,99960% off\\nFree delivery', '₹688₹1,99965% off\\nFree delivery', '₹524₹1,99973% off\\nFree delivery', '₹125₹84585% off\\nFree delivery', '₹259₹1,29980% off\\nFree delivery', '₹296₹1,99985% off\\nFree delivery', '₹699₹2,55572% off\\nFree delivery', '₹406₹2,59984% off\\nFree delivery', '₹471₹1,49968% off\\nFree delivery', '₹1,599₹4,99968% off\\nFree delivery', '₹1,099\\nFree delivery', '₹195₹99980% off\\nFree delivery', '₹377₹1,99981% off\\nFree delivery', '₹121₹94587% off\\nFree delivery', '₹238₹99976% off\\nFree delivery', '₹489₹2,25278% off\\nFree delivery', '₹849₹8995% off\\nFree delivery', '₹594₹1,49960% off\\nFree delivery', '₹249₹49950% off\\nFree delivery', '₹663₹1,99966% off\\nFree delivery', '₹879₹2,94970% off\\nFree delivery', '₹1,274₹4,99974% off\\nFree delivery', '₹423₹1,99978% off\\nFree delivery', '₹5,359₹8,79039% off\\nFree delivery', '₹599₹1,09945% off\\nFree delivery', '₹899₹1,99955% off\\nFree delivery', '₹224₹1,29982% off\\nFree delivery', '₹529₹1,99973% off\\nFree delivery', '₹124₹87585% off\\nFree delivery', '₹1,379₹2,70048% off\\nFree delivery', '₹399₹1,12564% off\\nFree delivery', '₹965₹1,99951% off\\nFree delivery', '₹5,299₹10,59049% off\\nFree delivery', '₹745₹3,69979% off\\nFree delivery', '₹129₹75082% off\\nFree delivery', '₹199₹99880% off\\nFree delivery', '₹192₹1,99990% off\\nFree delivery', '₹688₹2,50072% off\\nFree delivery', '₹194₹1,59987% off\\nFree delivery', '₹352₹2,59986% off\\nFree delivery', '₹869₹1,39937% off\\nFree delivery', '₹244₹2,49990% off\\nFree delivery', '₹373₹2,59985% off\\nFree delivery', '₹609₹99939% off\\nFree delivery', '₹216₹1,59986% off\\nFree delivery', '₹636₹1,99968% off\\nFree delivery', '₹599₹99940% off\\nFree delivery', '₹315₹1,29975% off\\nFree delivery', '₹519₹89942% off\\nFree delivery', '₹749₹1,99962% off\\nFree delivery', '₹125₹75083% off\\nFree delivery', '₹311₹1,99984% off\\nFree delivery', '₹399₹1,99980% off\\nFree delivery', '₹284₹1,49981% off\\nFree delivery', '₹373₹2,59985% off\\nFree delivery', '₹306₹2,49587% off\\nFree delivery', '₹539₹89940% off\\nFree delivery', '₹569₹1,99971% off\\nFree delivery', '₹359₹99964% off\\nFree delivery', '₹673₹1,99966% off\\nFree delivery', '₹149₹1,47689% off\\nFree delivery', '₹551₹1,99972% off\\nFree delivery', '₹372₹2,59985% off\\nFree delivery', '₹674₹1,99966% off\\nFree delivery', '₹208₹1,59986% off\\nFree delivery', '₹471₹1,49968% off\\nFree delivery', '₹399₹1,99980% off\\nFree delivery', '₹489₹2,22578% off\\nFree delivery', '₹195₹99980% off\\nFree delivery', '₹471₹1,99976% off\\nFree delivery', '₹259₹1,29980% off\\nFree delivery', '₹399₹2,84485% off\\nFree delivery', '₹4,019₹6,59039% off\\nFree delivery', '₹749₹2,50070% off\\nFree delivery', '₹224₹69967% off\\nFree delivery', '₹199₹1,29884% off\\nFree delivery', '₹225₹78571% off\\nFree delivery', '₹593₹2,40075% off\\nFree delivery', '₹4,199₹6,89039% off\\nFree delivery', '₹5,729₹9,39038% off\\nFree delivery', '₹115₹87586% off\\nFree delivery', '₹764₹2,59970% off\\nFree delivery', '₹869₹1,99956% off\\nFree delivery', '₹179₹59970% off\\nFree delivery', '₹269₹1,59983% off\\nFree delivery', '₹730₹3,69980% off\\nFree delivery', '₹249₹2,59990% off\\nFree delivery', '₹636₹1,99968% off\\nFree delivery', '₹719₹1,99964% off\\nFree delivery', '₹593₹2,40075% off\\nFree delivery', '₹688₹2,50072% off\\nFree delivery', '₹206₹99979% off\\nFree delivery', '₹479₹1,29963% off\\nFree delivery', '₹785₹3,69978% off\\nFree delivery', '₹594₹1,99970% off\\nFree delivery', '₹482₹2,49980% off\\nFree delivery', '₹749₹2,50070% off\\nFree delivery', '₹1,379₹2,70048% off\\nFree delivery', '₹415₹1,70075% off\\nFree delivery', '₹302₹1,24575% off\\nFree delivery', '₹275₹92570% off\\nFree delivery', '₹1,999₹3,59944% off\\nFree delivery', '₹569₹99943% off\\nFree delivery', '₹551₹1,99972% off\\nFree delivery', '₹529₹89941% off\\nFree delivery', '₹2,099₹3,59941% off\\nFree delivery', '₹669₹1,99966% off\\nFree delivery', '₹524₹1,99973% off\\nFree delivery', '₹873₹1,99956% off\\nFree delivery', '₹745₹3,69979% off\\nFree delivery', '₹1,049₹3,49970% off\\nFree delivery', '₹1,418₹2,69947% off\\nFree delivery', '₹870₹1,99956% off\\nFree delivery', '₹598₹2,47575% off\\nFree delivery']}]\n"
     ]
    }
   ],
   "source": [
    "# Scrapping the data for the first 100 sunglasses\n",
    "sunglasses_data = []\n",
    "Brand=[]  # empty list for the Sunglasses Brand name\n",
    "description=[] # empty list for the sunglasses drscription\n",
    "price=[] # empty list for the sunglasses price\n",
    "\n",
    "current_page=1 # counter for the first page\n",
    "while current_page <= 3: # repeat the process until the third page\n",
    "    listings = driver.find_elements(By.XPATH,'//*[@id=\"container\"]/div/div[3]/div[1]/div[2]') \n",
    "    brand_tags=driver.find_elements(By.CLASS_NAME,'_2WkVRV')\n",
    "    for i in brand_tags[0:40]:\n",
    "        brand=i.text\n",
    "        Brand.append(brand)\n",
    "    \n",
    "    # Scraping job location from the given page\n",
    "    description_tags=driver.find_elements(By.CLASS_NAME,'IRpwTa')\n",
    "    for i in description_tags[0:40]:\n",
    "        desc=i.text\n",
    "        description.append(desc)\n",
    "    \n",
    "    # Scraping Company name from the given page\n",
    "    price_tags=driver.find_elements(By.CLASS_NAME,'_3bPFwb')\n",
    "    for i in price_tags[0:40]:\n",
    "        prices=i.text\n",
    "        price.append(prices)\n",
    "    sunglasses_data.append({'Brand': Brand, 'Description': description, 'Price': price})\n",
    "# Increment the current page counter\n",
    "    current_page += 1\n",
    "    driver.get('https://www.flipkart.com/search?q=sunglasses&page=' + str(current_page))    \n",
    "print(sunglasses_data)\n"
   ]
  },
  {
   "cell_type": "markdown",
   "id": "e98054f1",
   "metadata": {},
   "source": [
    "Q5: Scrape 100 reviews data from flipkart.com for iphone11 phone. You have to go the link: \n",
    "https://www.flipkart.com/apple-iphone-11-black-64-gb/product\u0002reviews/itm4e5041ba101fd?pid=MOBFWQ6BXGJCEYNY&lid=LSTMOBFWQ6BXGJCEYNYZXSHRJ&market\n",
    "place=FLIPKART\n"
   ]
  },
  {
   "cell_type": "code",
   "execution_count": 239,
   "id": "9317e457",
   "metadata": {},
   "outputs": [],
   "source": [
    "# Set up the WebDriver (assuming you have already installed the appropriate driver)\n",
    "driver = webdriver.Chrome()\n",
    "\n",
    "# Navigate to the product reviews page\n",
    "driver.get('https://www.flipkart.com/apple-iphone-11-black-64-gb/product-reviews/itm4e5041ba101fd?pid=MOBFWQ6BXGJCEYNY&lid=LSTMOBFWQ6BXGJCEYNYZXSHRJ&marketplace=FLIPKART')\n",
    "\n"
   ]
  },
  {
   "cell_type": "code",
   "execution_count": 240,
   "id": "34d1b286",
   "metadata": {},
   "outputs": [
    {
     "ename": "NoSuchWindowException",
     "evalue": "Message: no such window: target window already closed\nfrom unknown error: web view not found\n  (Session info: chrome=114.0.5735.91)\nStacktrace:\nBacktrace:\n\tGetHandleVerifier [0x0027A813+48355]\n\t(No symbol) [0x0020C4B1]\n\t(No symbol) [0x00115358]\n\t(No symbol) [0x000FD293]\n\t(No symbol) [0x0015E37B]\n\t(No symbol) [0x0016C473]\n\t(No symbol) [0x0015A536]\n\t(No symbol) [0x001382DC]\n\t(No symbol) [0x001393DD]\n\tGetHandleVerifier [0x004DAABD+2539405]\n\tGetHandleVerifier [0x0051A78F+2800735]\n\tGetHandleVerifier [0x0051456C+2775612]\n\tGetHandleVerifier [0x003051E0+616112]\n\t(No symbol) [0x00215F8C]\n\t(No symbol) [0x00212328]\n\t(No symbol) [0x0021240B]\n\t(No symbol) [0x00204FF7]\n\tBaseThreadInitThunk [0x77567D59+25]\n\tRtlInitializeExceptionChain [0x77C1B74B+107]\n\tRtlClearBits [0x77C1B6CF+191]\n\t(No symbol) [0x00000000]\n",
     "output_type": "error",
     "traceback": [
      "\u001b[1;31m---------------------------------------------------------------------------\u001b[0m",
      "\u001b[1;31mNoSuchWindowException\u001b[0m                     Traceback (most recent call last)",
      "Input \u001b[1;32mIn [240]\u001b[0m, in \u001b[0;36m<cell line: 11>\u001b[1;34m()\u001b[0m\n\u001b[0;32m     10\u001b[0m \u001b[38;5;66;03m# Loop through pages until the desired number of reviews is scraped\u001b[39;00m\n\u001b[0;32m     11\u001b[0m \u001b[38;5;28;01mwhile\u001b[39;00m review_count \u001b[38;5;241m<\u001b[39m \u001b[38;5;241m100\u001b[39m:\n\u001b[0;32m     12\u001b[0m     \u001b[38;5;66;03m# Perform scraping operations on the current page\u001b[39;00m\n\u001b[0;32m     13\u001b[0m     \n\u001b[0;32m     14\u001b[0m     \u001b[38;5;66;03m# Find the review elements on the current page\u001b[39;00m\n\u001b[1;32m---> 15\u001b[0m     review_elements \u001b[38;5;241m=\u001b[39m \u001b[43mdriver\u001b[49m\u001b[38;5;241;43m.\u001b[39;49m\u001b[43mfind_elements\u001b[49m\u001b[43m(\u001b[49m\u001b[43mBy\u001b[49m\u001b[38;5;241;43m.\u001b[39;49m\u001b[43mCLASS_NAME\u001b[49m\u001b[43m,\u001b[49m\u001b[38;5;124;43m'\u001b[39;49m\u001b[38;5;124;43m_1YokD2 _3Mn1Gg col-9-12\u001b[39;49m\u001b[38;5;124;43m'\u001b[39;49m\u001b[43m)\u001b[49m\n\u001b[0;32m     17\u001b[0m     \u001b[38;5;66;03m# Extract the required information from each review element\u001b[39;00m\n\u001b[0;32m     18\u001b[0m     \u001b[38;5;28;01mfor\u001b[39;00m element \u001b[38;5;129;01min\u001b[39;00m review_elements:\n\u001b[0;32m     19\u001b[0m         \u001b[38;5;66;03m# Extract the reviewer's name\u001b[39;00m\n",
      "File \u001b[1;32m~\\anaconda3\\lib\\site-packages\\selenium\\webdriver\\remote\\webdriver.py:861\u001b[0m, in \u001b[0;36mWebDriver.find_elements\u001b[1;34m(self, by, value)\u001b[0m\n\u001b[0;32m    857\u001b[0m     value \u001b[38;5;241m=\u001b[39m \u001b[38;5;124mf\u001b[39m\u001b[38;5;124m'\u001b[39m\u001b[38;5;124m[name=\u001b[39m\u001b[38;5;124m\"\u001b[39m\u001b[38;5;132;01m{\u001b[39;00mvalue\u001b[38;5;132;01m}\u001b[39;00m\u001b[38;5;124m\"\u001b[39m\u001b[38;5;124m]\u001b[39m\u001b[38;5;124m'\u001b[39m\n\u001b[0;32m    859\u001b[0m \u001b[38;5;66;03m# Return empty list if driver returns null\u001b[39;00m\n\u001b[0;32m    860\u001b[0m \u001b[38;5;66;03m# See https://github.com/SeleniumHQ/selenium/issues/4555\u001b[39;00m\n\u001b[1;32m--> 861\u001b[0m \u001b[38;5;28;01mreturn\u001b[39;00m \u001b[38;5;28;43mself\u001b[39;49m\u001b[38;5;241;43m.\u001b[39;49m\u001b[43mexecute\u001b[49m\u001b[43m(\u001b[49m\u001b[43mCommand\u001b[49m\u001b[38;5;241;43m.\u001b[39;49m\u001b[43mFIND_ELEMENTS\u001b[49m\u001b[43m,\u001b[49m\u001b[43m \u001b[49m\u001b[43m{\u001b[49m\u001b[38;5;124;43m\"\u001b[39;49m\u001b[38;5;124;43musing\u001b[39;49m\u001b[38;5;124;43m\"\u001b[39;49m\u001b[43m:\u001b[49m\u001b[43m \u001b[49m\u001b[43mby\u001b[49m\u001b[43m,\u001b[49m\u001b[43m \u001b[49m\u001b[38;5;124;43m\"\u001b[39;49m\u001b[38;5;124;43mvalue\u001b[39;49m\u001b[38;5;124;43m\"\u001b[39;49m\u001b[43m:\u001b[49m\u001b[43m \u001b[49m\u001b[43mvalue\u001b[49m\u001b[43m}\u001b[49m\u001b[43m)\u001b[49m[\u001b[38;5;124m\"\u001b[39m\u001b[38;5;124mvalue\u001b[39m\u001b[38;5;124m\"\u001b[39m] \u001b[38;5;129;01mor\u001b[39;00m []\n",
      "File \u001b[1;32m~\\anaconda3\\lib\\site-packages\\selenium\\webdriver\\remote\\webdriver.py:440\u001b[0m, in \u001b[0;36mWebDriver.execute\u001b[1;34m(self, driver_command, params)\u001b[0m\n\u001b[0;32m    438\u001b[0m response \u001b[38;5;241m=\u001b[39m \u001b[38;5;28mself\u001b[39m\u001b[38;5;241m.\u001b[39mcommand_executor\u001b[38;5;241m.\u001b[39mexecute(driver_command, params)\n\u001b[0;32m    439\u001b[0m \u001b[38;5;28;01mif\u001b[39;00m response:\n\u001b[1;32m--> 440\u001b[0m     \u001b[38;5;28;43mself\u001b[39;49m\u001b[38;5;241;43m.\u001b[39;49m\u001b[43merror_handler\u001b[49m\u001b[38;5;241;43m.\u001b[39;49m\u001b[43mcheck_response\u001b[49m\u001b[43m(\u001b[49m\u001b[43mresponse\u001b[49m\u001b[43m)\u001b[49m\n\u001b[0;32m    441\u001b[0m     response[\u001b[38;5;124m\"\u001b[39m\u001b[38;5;124mvalue\u001b[39m\u001b[38;5;124m\"\u001b[39m] \u001b[38;5;241m=\u001b[39m \u001b[38;5;28mself\u001b[39m\u001b[38;5;241m.\u001b[39m_unwrap_value(response\u001b[38;5;241m.\u001b[39mget(\u001b[38;5;124m\"\u001b[39m\u001b[38;5;124mvalue\u001b[39m\u001b[38;5;124m\"\u001b[39m, \u001b[38;5;28;01mNone\u001b[39;00m))\n\u001b[0;32m    442\u001b[0m     \u001b[38;5;28;01mreturn\u001b[39;00m response\n",
      "File \u001b[1;32m~\\anaconda3\\lib\\site-packages\\selenium\\webdriver\\remote\\errorhandler.py:245\u001b[0m, in \u001b[0;36mErrorHandler.check_response\u001b[1;34m(self, response)\u001b[0m\n\u001b[0;32m    243\u001b[0m         alert_text \u001b[38;5;241m=\u001b[39m value[\u001b[38;5;124m\"\u001b[39m\u001b[38;5;124malert\u001b[39m\u001b[38;5;124m\"\u001b[39m]\u001b[38;5;241m.\u001b[39mget(\u001b[38;5;124m\"\u001b[39m\u001b[38;5;124mtext\u001b[39m\u001b[38;5;124m\"\u001b[39m)\n\u001b[0;32m    244\u001b[0m     \u001b[38;5;28;01mraise\u001b[39;00m exception_class(message, screen, stacktrace, alert_text)  \u001b[38;5;66;03m# type: ignore[call-arg]  # mypy is not smart enough here\u001b[39;00m\n\u001b[1;32m--> 245\u001b[0m \u001b[38;5;28;01mraise\u001b[39;00m exception_class(message, screen, stacktrace)\n",
      "\u001b[1;31mNoSuchWindowException\u001b[0m: Message: no such window: target window already closed\nfrom unknown error: web view not found\n  (Session info: chrome=114.0.5735.91)\nStacktrace:\nBacktrace:\n\tGetHandleVerifier [0x0027A813+48355]\n\t(No symbol) [0x0020C4B1]\n\t(No symbol) [0x00115358]\n\t(No symbol) [0x000FD293]\n\t(No symbol) [0x0015E37B]\n\t(No symbol) [0x0016C473]\n\t(No symbol) [0x0015A536]\n\t(No symbol) [0x001382DC]\n\t(No symbol) [0x001393DD]\n\tGetHandleVerifier [0x004DAABD+2539405]\n\tGetHandleVerifier [0x0051A78F+2800735]\n\tGetHandleVerifier [0x0051456C+2775612]\n\tGetHandleVerifier [0x003051E0+616112]\n\t(No symbol) [0x00215F8C]\n\t(No symbol) [0x00212328]\n\t(No symbol) [0x0021240B]\n\t(No symbol) [0x00204FF7]\n\tBaseThreadInitThunk [0x77567D59+25]\n\tRtlInitializeExceptionChain [0x77C1B74B+107]\n\tRtlClearBits [0x77C1B6CF+191]\n\t(No symbol) [0x00000000]\n"
     ]
    }
   ],
   "source": [
    "# Wait for the page to load\n",
    "time.sleep(2)\n",
    "\n",
    "# Variable to store the scraped reviews data\n",
    "reviews_data = []\n",
    "\n",
    "# Variable to keep track of the current review count\n",
    "review_count = 0\n",
    "\n",
    "# Loop through pages until the desired number of reviews is scraped\n",
    "while review_count < 100:\n",
    "    # Perform scraping operations on the current page\n",
    "    \n",
    "    # Find the review elements on the current page\n",
    "    review_elements = driver.find_elements(By.CLASS_NAME,'_1YokD2 _3Mn1Gg col-9-12')\n",
    "    \n",
    "    # Extract the required information from each review element\n",
    "    for element in review_elements:\n",
    "        # Extract the reviewer's name\n",
    "        name_element = element.find_element(By.CLASS_NAME,'_2sc7ZR _2V5EHH')\n",
    "        name = name_element.text\n",
    "        \n",
    "        # Extract the review rating\n",
    "        rating_element = element.find_element(By.CLASS_NAME,'class=\"_3LWZlK _1BLPMq\"')\n",
    "        rating = rating_element.text\n",
    "        \n",
    "        # Extract the review content\n",
    "        content_element = element.find_element(By.CLASS_NAME,'t-ZTKy')\n",
    "        content = content_element.text\n",
    "        \n",
    "        # Store the scraped review data as a dictionary\n",
    "        review_data = {\n",
    "            'Name': name,\n",
    "            'Rating': rating,\n",
    "            'Content': content\n",
    "        }\n",
    "        \n",
    "        # Append the review data to the reviews_data list\n",
    "        reviews_data.append(review_data)\n",
    "        \n",
    "        # Increment the review count\n",
    "        review_count += 1\n",
    "        \n",
    "        # Check if the desired number of reviews is reached\n",
    "        if review_count >= 100:\n",
    "            break\n",
    "    \n",
    "    # Check if the desired number of reviews is reached\n",
    "    if review_count >= 100:\n",
    "        break\n",
    "    #driver.implicitly_wait(10)\n",
    "    # Delete all cookies\n",
    "    #driver.delete_all_cookies()\n",
    "    # Find the element that triggers navigation to the next page\n",
    "    #next_button = driver.find_element(By.CLASS_NAME,'_1LKTO3')\n",
    "    \n",
    "    # Click the next button to move to the next page\n",
    "    #next_button.click()\n",
    "    \n",
    "    # Wait for the page to load\n",
    "    time.sleep(2)\n",
    "\n",
    "# Close the WebDriver\n",
    "driver.quit()\n",
    "\n",
    "# Print the scraped reviews data\n",
    "for data in reviews_data:\n",
    "    print(data)\n"
   ]
  },
  {
   "cell_type": "markdown",
   "id": "72f4f440",
   "metadata": {},
   "source": [
    "Q6 :Scrape data for first 100 sneakers you find when you visit flipkart.com and search for “sneakers” in the \n",
    "search field.\n",
    "You have to scrape 3 attributes of each sneaker:\n",
    "1. Brand\n",
    "2. ProductDescription\n",
    "3. Price\n",
    "As shown in the below image, you have to scrape the above attributes."
   ]
  },
  {
   "cell_type": "code",
   "execution_count": 241,
   "id": "ae45a9b5",
   "metadata": {},
   "outputs": [],
   "source": [
    "from selenium import webdriver\n",
    "import time\n",
    "\n",
    "# Set up Selenium WebDriver\n",
    "driver = webdriver.Chrome('path_to_chromedriver')  # Replace with the path to your chromedriver executable\n",
    "\n",
    "# Navigate to Flipkart sunglasses page\n",
    "driver.get('https://www.flipkart.com/')"
   ]
  },
  {
   "cell_type": "code",
   "execution_count": 242,
   "id": "2b2ab9d7",
   "metadata": {},
   "outputs": [],
   "source": [
    "# Wait for the page to load and show results\n",
    "time.sleep(2)\n",
    "driver.implicitly_wait(20)\n",
    " # Entering designation as required in the question\n",
    "designation=driver.find_element(By.CLASS_NAME,\"_3704LK\")\n",
    "designation.send_keys(\"sneakers\") # L0Z3Pu\n",
    "\n",
    "driver.implicitly_wait(20)\n",
    "# Delete all cookies\n",
    "driver.delete_all_cookies()\n",
    "search=driver.find_element(By.CLASS_NAME,\"L0Z3Pu\")\n",
    "search.click() # Click the search button"
   ]
  },
  {
   "cell_type": "code",
   "execution_count": 243,
   "id": "be864624",
   "metadata": {},
   "outputs": [
    {
     "name": "stdout",
     "output_type": "stream",
     "text": [
      "[{'Brand': ['BIRDE', 'aadi', 'HIGHLANDER', 'aadi', 'asian', 'World Wear Footwear', 'World Wear Footwear', 'BIRDE', 'aadi', 'Kraasa', 'Shozie', 'BIRDE', 'aadi', 'BRUTON', 'World Wear Footwear', 'BRUTON', 'PUMA', 'World Wear Footwear', 'Magnolia', 'BRUTON', 'aadi', 'BRUTON', 'asian', 'Sparx', 'KILLER', 'WHITE WALKERS', 'PUMA', 'aadi', 'BRUTON', 'BIRDE', 'lejano', 'Labbin', 'PUMA', 'WHITE WALKERS', 'kardam&sons', 'PUMA', 'BIRDE', 'K- FOOTLANCE', \"K' Footlance\", 'BIRDE', 'SFR', 'BIRDE', 'asian', 'BRUTON', 'U.S. POLO ASSN.', 'Sparx', 'RapidBox', 'BIRDE', 'PUMA', 'PUMA', 'BRUTON', 'Xtoon', 'HRX by Hrithik Roshan', 'Shozie', 'BRUTON', 'SFR', 'BIRDE', 'BRUTON', 'PUMA', 'HRX by Hrithik Roshan', 'kardam&sons', 'BRUTON', 'asian', 'PUMA', 'HOTSTYLE', 'PUMA', 'BRUTON', 'aadi', 'Brainer', 'HIGHLANDER', 'RapidBox', 'kardam&sons', 'HRX by Hrithik Roshan', 'HIGHLANDER', 'BRUTON', 'BIRDE', 'ASTEROID', 'kardam&sons', 'asian', 'K- FOOTLANCE', 'SFR', 'Footox', 'Deals4you', 'aadi', 'BIRDE', 'Magnolia', 'kardam&sons', 'BRUTON', 'PUMA', 'Skechers', 'RODDICK SHOES', 'Footox', 'asian', 'PUMA', 'LIBERTY', 'HRX by Hrithik Roshan', 'kardam&sons', 'Zixer', 'PUMA', 'PUMA', 'RapidBox', 'City Soles', 'PUMA', 'Lee Won', 'BRUTON', 'BRUTON', 'Footox', 'WHITE WALKERS', 'BERSACHE', 'PUMA', 'WHITE WALKERS', 'asian', 'HIGHLANDER', 'PUMA', 'World Wear Footwear', 'kardam&sons', 'Footox', 'kardam&sons', 'Magnolia', 'BIRDE'], 'Description': ['Combo Pack of 2 Casual Shoes Sneakers For Men', 'Synthetic Leather |Lightweight|Comfort|Summer|Trendy|Wa...', 'Sneakers For Men', 'Sneakers For Men', 'asian Thunder-01 White Color Change Sneakers,Casuals,Lo...', 'Latest Exclusive Affordable Collection of Trendy & Styl...', 'Latest Exclusive Affordable Collection of Trendy & Styl...', 'Combo Pack Of 2 Casual Shoes Sneakers For Men', 'Lightweight,Comfort,Summer,Trendy,Walking,Outdoor,Styli...', 'Sneakers For Women', 'Sneakers For Women', 'Premium Casual Shoes for Men Sneakers For Men', 'Lightweight,Comfort,Summer,Trendy,Walking,Outdoor,Styli...', 'Lattest Sneakers Shoe Sneakers For Men', 'Exclusive Affordable Collection of Trendy & Stylish Cas...', 'Modern Trendy Shoes Sneakers For Men', 'Player Sneakers For Men', 'Latest Exclusive Affordable Collection of Trendy & Styl...', 'Modern Trendy Sneakers boot Sneakers Sneakers For Men', 'Combo Pack Of 2 Casual Shoes Sneakers For Men', 'Mesh |Lightweight|Comfort|Summer|Trendy|Walking|Outdoor...', 'Combo Pack Of 2 Casual Shoes Sneakers For Men Sneakers ...', 'WATERPROOF-05cFULLBLACK Sneakers For Men', 'SM-734 Sneakers For Men', 'Sneakers For Men', 'Stylish & Trending Outdoor Walking Comfortable Sneakers...', 'Troy MU Sneakers For Men', 'Mesh |Lightweight|Comfort|Summer|Trendy|Walking|Outdoor...', 'Combo Pack Of 4 Casual Shoes Loafer Shoes Sneakers For ...', 'Combo Pack Of 2 Casual Shoes Sneakers For Men', 'Sneakers For Men', 'Sneakers For Men', 'Hustle V2 Sneakers For Men', 'Stylish & Trending Outdoor Walking Comfortable Sneakers...', 'kardam&sons luxury fashionable Stylish Light Weight Sne...', 'Hustle V2 Sneakers For Men', 'Combo Pack of 2 Casual Shoe Sneakers For Men', 'Sneakers For Men', 'Fashion and Stylish Soft Ultralight Lace Up Sneakers Ca...', 'Combo Pack of 2 Sports Sneakers For Men', 'Mid-Top Combo Pack of 02 Pairs Lace-ups Trainer Shoes S...', 'Combo Pack Of 2 Casual Shoes Sneakers For Men', 'Thunder-01 White Canvas, Sneakers For Men', 'Lattest Sneakers Shoe Sneakers For Men', 'CLARKIN Sneakers For Men', 'Men White Sneakers Sneakers For Men', 'Sneakers For Men', 'Premium White Casual Shoes Sneakers For Men Sneakers Fo...', 'Zod Runner V3 Sneakers For Men', 'Buzz Sneakers For Men', '2 Combo Sneaker Shoes Sneakers For Men', \"White casual, gym,training & Running sneakers for men's...\", 'Men Street Athleisure Shoe Sneakers For Men', 'Sneakers For Women', 'Combo Pack Of 4 Casual Shoes Loafer Shoes Sneakers For ...', '2006 Trenddy Fashion Sporty Casuals Sneakers Running Sh...', 'Combo Pack of 2 Casual Shoes Sneakers For Men', 'Men Combo Pack of 2 Casual & Sneaker Shoes (Loafer Shoe...', 'Ferrari Neo Cat Mid Sneakers For Men', 'Sneakers For Men', 'Fashionable Canvas Casual Partywear Outdoor Sneakers wh...', 'Combo Pack Of 2 Casual Shoes Sneakers For Men', \"Newton-01 Men's Lightweight Running Shoes Sneakers For ...\", 'Player Running Shoes For Men', 'Combo Pack Of 2 Sneakers For Men', 'Buzz Sneakers For Men', 'Men Combo Pack of 2 Sports Shoes & Casual Sneakers For ...', 'Mesh |Lightweight|Comfort|Summer|Trendy|Walking|Outdoor...', 'Sneakers For Men', 'Sneakers For Men', 'Sneakers For Men', 'luxuryfashion fashionable casual sneaker shoes white Sn...', 'Sneakers For Men', 'Sneakers For Men', 'Combo Pack Of 2 Casual Shoes Sneakers For Men', 'Combo Pack of 2 Sports Sneakers For Men', \"Original Luxury Branded Fashionable Men's Casual Walkin...\", 'kardam&sons luxury fashionable Stylish Light Weight Sne...', 'SM-162 Black Walking ,Training,Sneakers,Loafers,Canvas,...', 'Sneakers For Men', '2003-NAAVY-8 Sneakers For Men', 'Sneaker for Mens | Casual Shoes | Men Shoes Sneakers Fo...', 'Sneakers For Women', 'Mesh |Lightweight|Comfort|Summer|Trendy|Walking|Outdoor...', 'Combo Pack of 2 Sports Sneakers For Men', 'Modern Trendy Sneakers boot Sneakers Sneakers For Men', 'Fashionable Canvas Casual Partywear Outdoor Sneakers wh...', 'Combo_Pack_Of 2 Casual Shoes Sneakers For Men', 'Hustle V2 Sneakers For Men', 'SUMMITS - BRISBANE Sneakers For Men', 'Fashion Outdoor Canvas Casual Light Weight Lace-up Even...', 'Sneaker for Mens | Casual Shoes | Men Shoes Sneakers Fo...', 'PRIDE White Sneakers,Casuals,Walking,Loafers,Stylish Sn...', 'Zod Runner V3 Sneakers For Men', 'Gliders RIDER-E by liberty Sneakers For Men', 'Sneakers For Men', 'Canvas Casual Partywear Outdoor Shoes For Boys Sneakers...', 'Exclusive Rap & Dance Shoes For Boys Sneakers For Men S...', 'RS-Z Reinvention Sneakers For Men', 'Buzz Sneakers For Men', 'Sneakers For Men', 'Sneakers Long Shoes Sneakers For Men', 'Raptor Sneakers For Men', 'Sneakers For Men', 'Combo Pack Of 2 Casual Shoes Sneakers For Men', 'Combo Pack Of 2 Casual Shoes Sneakers For Men', 'Sneaker for Mens | Casual Shoes | Men Shoes Sneakers Fo...', 'Stylish & Trending Lifestyle Casual Sneakers For Men', 'Bersache Lightweight Color Changing Casual,Sneaker Shoe...', 'Corode Sneakers For Men', 'Stylish & Trending Lifestyle Casual Sneakers For Men', 'Trendy-21 White Color Change Sneakers,Casuals,Loafers S...', 'Sneakers For Men', 'Hustle V2 Sneakers For Men', 'Exclusive Affordable Collection of Trendy & Stylish Cas...', 'Fashionable Canvas Casual Partywear Outdoor Sneakers wh...', \"Men's Shoes | Casual Shoes | Sports Shoes Sneakers For ...\", 'kardam&sons luxury fashionable Stylish Light Weight Sne...', 'Modern Trendy Sneakers boot Sneakers Sneakers For Men', 'Premium White Sneakers For women Sneakers For Women'], 'Price': ['₹479₹1,99876% off\\nFree delivery', '₹249₹1,99987% off\\nFree delivery', '₹599₹1,19850% off\\nFree delivery', '₹349₹1,99982% off\\nFree delivery', '₹714₹1,69957% off\\nFree delivery', '₹249₹1,99987% off\\nFree delivery', '₹399₹1,99980% off\\nFree delivery', '₹499₹99950% off\\nFree delivery', '₹249₹1,99987% off\\nFree delivery', '₹299₹99970% off\\nFree delivery', '₹439₹99956% off\\nFree delivery', '₹399₹99960% off\\nFree delivery', '₹299₹1,99985% off\\nFree delivery', '₹229₹1,29982% off\\nFree delivery', '₹249₹1,49083% off\\nFree delivery', '₹229₹1,29982% off\\nFree delivery', '₹1,074₹4,29975% off\\nFree delivery', '₹369₹1,99981% off\\nFree delivery', '₹398₹1,29969% off\\nFree delivery', '₹399₹2,49984% off\\nFree delivery', '₹499₹1,99975% off\\nFree delivery', '₹399₹2,49984% off\\nFree delivery', '₹569₹99943% off\\nFree delivery', '₹679₹84920% off\\nFree delivery', '₹569₹2,09972% off\\nFree delivery', '₹399₹1,49973% off\\nFree delivery', '₹1,304₹3,99967% off\\nFree delivery', '₹399₹1,99980% off\\nFree delivery', '₹399₹3,49988% off\\nFree delivery', '₹599₹99940% off\\nFree delivery', '₹369₹1,49975% off\\nFree delivery', '₹399₹99960% off\\nFree delivery', '₹1,499₹3,99962% off\\nFree delivery', '₹399₹1,49973% off\\nFree delivery', '₹429₹1,89977% off\\nFree delivery', '₹1,499₹3,99962% off\\nFree delivery', '₹649₹99834% off\\nFree delivery', '₹299₹99970% off\\nFree delivery', '₹299₹99970% off\\nFree delivery', '₹499₹1,49866% off\\nFree delivery', '₹379₹1,99881% off\\nFree delivery', '₹499₹99950% off\\nFree delivery', '₹749₹1,69955% off\\nFree delivery', '₹249₹1,29980% off\\nFree delivery', '₹1,259₹2,99958% off\\nFree delivery', '₹719₹89920% off\\nFree delivery', '₹549₹99945% off\\nFree delivery', '₹429₹1,49971% off\\nFree delivery', '₹1,099₹3,99972% off\\nFree delivery', '₹1,124₹4,49975% off\\nFree delivery', '₹399₹2,49984% off\\nFree delivery', '₹499₹99950% off\\nFree delivery', '₹1,224₹4,89975% off\\nFree delivery', '₹439₹99956% off\\nFree delivery', '₹399₹3,49988% off\\nFree delivery', '₹279₹71560% off\\nFree delivery', '₹579₹1,99871% off\\nFree delivery', '₹369₹2,49985% off\\nFree delivery', '₹3,296₹8,99963% off\\nFree delivery', '₹1,274₹4,89973% off\\nFree delivery', '₹339₹1,29973% off\\nFree delivery', '₹399₹2,49984% off\\nFree delivery', '₹499₹1,29961% off\\nFree delivery', '₹1,074₹4,29975% off\\nFree delivery', '₹429₹1,99878% off\\nFree delivery', '₹1,149₹4,49974% off\\nFree delivery', '₹369₹2,49985% off\\nFree delivery', '₹399₹1,99980% off\\nFree delivery', '₹299₹99970% off\\nFree delivery', '₹597₹1,99070% off\\nFree delivery', '₹549₹99945% off\\nFree delivery', '₹359₹1,99982% off\\nFree delivery', '₹1,224₹4,89975% off\\nFree delivery', '₹597₹1,99070% off\\nFree delivery', '₹399₹2,49984% off\\nFree delivery', '₹499₹1,49866% off\\nFree delivery', '₹599₹1,99970% off\\nFree delivery', '₹441₹1,99977% off\\nFree delivery', '₹499₹69928% off\\nFree delivery', '₹299₹99970% off\\nFree delivery', '₹369₹99963% off\\nFree delivery', '₹499₹99950% off\\nFree delivery', '₹409₹1,99979% off\\nFree delivery', '₹349₹99965% off\\nFree delivery', '₹499₹1,49866% off\\nFree delivery', '₹349₹1,29973% off\\nFree delivery', '₹359₹1,29972% off\\nFree delivery', '₹399₹2,49984% off\\nFree delivery', '₹1,499₹3,99962% off\\nFree delivery', '₹1,891₹4,29956% off\\nFree delivery', '₹449₹99955% off\\nFree delivery', '₹399₹99960% off\\nFree delivery', '₹474₹99952% off\\nFree delivery', '₹1,299₹3,99967% off\\nFree delivery', '₹725₹2,19967% off\\nFree delivery', '₹974₹3,89975% off\\nFree delivery', '₹339₹1,99983% off', '₹745₹1,69956% off\\nFree delivery', '₹4,056₹9,99959% off\\nFree delivery', '₹1,149₹4,49974% off\\nFree delivery', '₹549₹99945% off\\nFree delivery', '₹719₹99928% off', '₹1,668₹4,29961% off\\nFree delivery', '₹249₹99975% off\\nFree delivery', '₹399₹2,49984% off\\nFree delivery', '₹399₹2,49984% off\\nFree delivery', '₹499₹99950% off\\nFree delivery', '₹479₹1,49968% off\\nFree delivery', '₹479₹4,05188% off\\nFree delivery', '₹1,359₹3,99966% off\\nFree delivery', '₹479₹1,49968% off\\nFree delivery', '₹699₹1,49953% off\\nFree delivery', '₹569₹1,89870% off\\nFree delivery', '₹1,499₹3,99962% off\\nFree delivery', '₹249₹1,49083% off\\nFree delivery', '₹404₹1,29968% off\\nFree delivery', '₹399₹99960% off\\nFree delivery', '₹449₹1,99977% off\\nFree delivery', '₹398₹1,29969% off\\nFree delivery', '₹299₹99970% off\\nFree delivery']}, {'Brand': ['BIRDE', 'aadi', 'HIGHLANDER', 'aadi', 'asian', 'World Wear Footwear', 'World Wear Footwear', 'BIRDE', 'aadi', 'Kraasa', 'Shozie', 'BIRDE', 'aadi', 'BRUTON', 'World Wear Footwear', 'BRUTON', 'PUMA', 'World Wear Footwear', 'Magnolia', 'BRUTON', 'aadi', 'BRUTON', 'asian', 'Sparx', 'KILLER', 'WHITE WALKERS', 'PUMA', 'aadi', 'BRUTON', 'BIRDE', 'lejano', 'Labbin', 'PUMA', 'WHITE WALKERS', 'kardam&sons', 'PUMA', 'BIRDE', 'K- FOOTLANCE', \"K' Footlance\", 'BIRDE', 'SFR', 'BIRDE', 'asian', 'BRUTON', 'U.S. POLO ASSN.', 'Sparx', 'RapidBox', 'BIRDE', 'PUMA', 'PUMA', 'BRUTON', 'Xtoon', 'HRX by Hrithik Roshan', 'Shozie', 'BRUTON', 'SFR', 'BIRDE', 'BRUTON', 'PUMA', 'HRX by Hrithik Roshan', 'kardam&sons', 'BRUTON', 'asian', 'PUMA', 'HOTSTYLE', 'PUMA', 'BRUTON', 'aadi', 'Brainer', 'HIGHLANDER', 'RapidBox', 'kardam&sons', 'HRX by Hrithik Roshan', 'HIGHLANDER', 'BRUTON', 'BIRDE', 'ASTEROID', 'kardam&sons', 'asian', 'K- FOOTLANCE', 'SFR', 'Footox', 'Deals4you', 'aadi', 'BIRDE', 'Magnolia', 'kardam&sons', 'BRUTON', 'PUMA', 'Skechers', 'RODDICK SHOES', 'Footox', 'asian', 'PUMA', 'LIBERTY', 'HRX by Hrithik Roshan', 'kardam&sons', 'Zixer', 'PUMA', 'PUMA', 'RapidBox', 'City Soles', 'PUMA', 'Lee Won', 'BRUTON', 'BRUTON', 'Footox', 'WHITE WALKERS', 'BERSACHE', 'PUMA', 'WHITE WALKERS', 'asian', 'HIGHLANDER', 'PUMA', 'World Wear Footwear', 'kardam&sons', 'Footox', 'kardam&sons', 'Magnolia', 'BIRDE'], 'Description': ['Combo Pack of 2 Casual Shoes Sneakers For Men', 'Synthetic Leather |Lightweight|Comfort|Summer|Trendy|Wa...', 'Sneakers For Men', 'Sneakers For Men', 'asian Thunder-01 White Color Change Sneakers,Casuals,Lo...', 'Latest Exclusive Affordable Collection of Trendy & Styl...', 'Latest Exclusive Affordable Collection of Trendy & Styl...', 'Combo Pack Of 2 Casual Shoes Sneakers For Men', 'Lightweight,Comfort,Summer,Trendy,Walking,Outdoor,Styli...', 'Sneakers For Women', 'Sneakers For Women', 'Premium Casual Shoes for Men Sneakers For Men', 'Lightweight,Comfort,Summer,Trendy,Walking,Outdoor,Styli...', 'Lattest Sneakers Shoe Sneakers For Men', 'Exclusive Affordable Collection of Trendy & Stylish Cas...', 'Modern Trendy Shoes Sneakers For Men', 'Player Sneakers For Men', 'Latest Exclusive Affordable Collection of Trendy & Styl...', 'Modern Trendy Sneakers boot Sneakers Sneakers For Men', 'Combo Pack Of 2 Casual Shoes Sneakers For Men', 'Mesh |Lightweight|Comfort|Summer|Trendy|Walking|Outdoor...', 'Combo Pack Of 2 Casual Shoes Sneakers For Men Sneakers ...', 'WATERPROOF-05cFULLBLACK Sneakers For Men', 'SM-734 Sneakers For Men', 'Sneakers For Men', 'Stylish & Trending Outdoor Walking Comfortable Sneakers...', 'Troy MU Sneakers For Men', 'Mesh |Lightweight|Comfort|Summer|Trendy|Walking|Outdoor...', 'Combo Pack Of 4 Casual Shoes Loafer Shoes Sneakers For ...', 'Combo Pack Of 2 Casual Shoes Sneakers For Men', 'Sneakers For Men', 'Sneakers For Men', 'Hustle V2 Sneakers For Men', 'Stylish & Trending Outdoor Walking Comfortable Sneakers...', 'kardam&sons luxury fashionable Stylish Light Weight Sne...', 'Hustle V2 Sneakers For Men', 'Combo Pack of 2 Casual Shoe Sneakers For Men', 'Sneakers For Men', 'Fashion and Stylish Soft Ultralight Lace Up Sneakers Ca...', 'Combo Pack of 2 Sports Sneakers For Men', 'Mid-Top Combo Pack of 02 Pairs Lace-ups Trainer Shoes S...', 'Combo Pack Of 2 Casual Shoes Sneakers For Men', 'Thunder-01 White Canvas, Sneakers For Men', 'Lattest Sneakers Shoe Sneakers For Men', 'CLARKIN Sneakers For Men', 'Men White Sneakers Sneakers For Men', 'Sneakers For Men', 'Premium White Casual Shoes Sneakers For Men Sneakers Fo...', 'Zod Runner V3 Sneakers For Men', 'Buzz Sneakers For Men', '2 Combo Sneaker Shoes Sneakers For Men', \"White casual, gym,training & Running sneakers for men's...\", 'Men Street Athleisure Shoe Sneakers For Men', 'Sneakers For Women', 'Combo Pack Of 4 Casual Shoes Loafer Shoes Sneakers For ...', '2006 Trenddy Fashion Sporty Casuals Sneakers Running Sh...', 'Combo Pack of 2 Casual Shoes Sneakers For Men', 'Men Combo Pack of 2 Casual & Sneaker Shoes (Loafer Shoe...', 'Ferrari Neo Cat Mid Sneakers For Men', 'Sneakers For Men', 'Fashionable Canvas Casual Partywear Outdoor Sneakers wh...', 'Combo Pack Of 2 Casual Shoes Sneakers For Men', \"Newton-01 Men's Lightweight Running Shoes Sneakers For ...\", 'Player Running Shoes For Men', 'Combo Pack Of 2 Sneakers For Men', 'Buzz Sneakers For Men', 'Men Combo Pack of 2 Sports Shoes & Casual Sneakers For ...', 'Mesh |Lightweight|Comfort|Summer|Trendy|Walking|Outdoor...', 'Sneakers For Men', 'Sneakers For Men', 'Sneakers For Men', 'luxuryfashion fashionable casual sneaker shoes white Sn...', 'Sneakers For Men', 'Sneakers For Men', 'Combo Pack Of 2 Casual Shoes Sneakers For Men', 'Combo Pack of 2 Sports Sneakers For Men', \"Original Luxury Branded Fashionable Men's Casual Walkin...\", 'kardam&sons luxury fashionable Stylish Light Weight Sne...', 'SM-162 Black Walking ,Training,Sneakers,Loafers,Canvas,...', 'Sneakers For Men', '2003-NAAVY-8 Sneakers For Men', 'Sneaker for Mens | Casual Shoes | Men Shoes Sneakers Fo...', 'Sneakers For Women', 'Mesh |Lightweight|Comfort|Summer|Trendy|Walking|Outdoor...', 'Combo Pack of 2 Sports Sneakers For Men', 'Modern Trendy Sneakers boot Sneakers Sneakers For Men', 'Fashionable Canvas Casual Partywear Outdoor Sneakers wh...', 'Combo_Pack_Of 2 Casual Shoes Sneakers For Men', 'Hustle V2 Sneakers For Men', 'SUMMITS - BRISBANE Sneakers For Men', 'Fashion Outdoor Canvas Casual Light Weight Lace-up Even...', 'Sneaker for Mens | Casual Shoes | Men Shoes Sneakers Fo...', 'PRIDE White Sneakers,Casuals,Walking,Loafers,Stylish Sn...', 'Zod Runner V3 Sneakers For Men', 'Gliders RIDER-E by liberty Sneakers For Men', 'Sneakers For Men', 'Canvas Casual Partywear Outdoor Shoes For Boys Sneakers...', 'Exclusive Rap & Dance Shoes For Boys Sneakers For Men S...', 'RS-Z Reinvention Sneakers For Men', 'Buzz Sneakers For Men', 'Sneakers For Men', 'Sneakers Long Shoes Sneakers For Men', 'Raptor Sneakers For Men', 'Sneakers For Men', 'Combo Pack Of 2 Casual Shoes Sneakers For Men', 'Combo Pack Of 2 Casual Shoes Sneakers For Men', 'Sneaker for Mens | Casual Shoes | Men Shoes Sneakers Fo...', 'Stylish & Trending Lifestyle Casual Sneakers For Men', 'Bersache Lightweight Color Changing Casual,Sneaker Shoe...', 'Corode Sneakers For Men', 'Stylish & Trending Lifestyle Casual Sneakers For Men', 'Trendy-21 White Color Change Sneakers,Casuals,Loafers S...', 'Sneakers For Men', 'Hustle V2 Sneakers For Men', 'Exclusive Affordable Collection of Trendy & Stylish Cas...', 'Fashionable Canvas Casual Partywear Outdoor Sneakers wh...', \"Men's Shoes | Casual Shoes | Sports Shoes Sneakers For ...\", 'kardam&sons luxury fashionable Stylish Light Weight Sne...', 'Modern Trendy Sneakers boot Sneakers Sneakers For Men', 'Premium White Sneakers For women Sneakers For Women'], 'Price': ['₹479₹1,99876% off\\nFree delivery', '₹249₹1,99987% off\\nFree delivery', '₹599₹1,19850% off\\nFree delivery', '₹349₹1,99982% off\\nFree delivery', '₹714₹1,69957% off\\nFree delivery', '₹249₹1,99987% off\\nFree delivery', '₹399₹1,99980% off\\nFree delivery', '₹499₹99950% off\\nFree delivery', '₹249₹1,99987% off\\nFree delivery', '₹299₹99970% off\\nFree delivery', '₹439₹99956% off\\nFree delivery', '₹399₹99960% off\\nFree delivery', '₹299₹1,99985% off\\nFree delivery', '₹229₹1,29982% off\\nFree delivery', '₹249₹1,49083% off\\nFree delivery', '₹229₹1,29982% off\\nFree delivery', '₹1,074₹4,29975% off\\nFree delivery', '₹369₹1,99981% off\\nFree delivery', '₹398₹1,29969% off\\nFree delivery', '₹399₹2,49984% off\\nFree delivery', '₹499₹1,99975% off\\nFree delivery', '₹399₹2,49984% off\\nFree delivery', '₹569₹99943% off\\nFree delivery', '₹679₹84920% off\\nFree delivery', '₹569₹2,09972% off\\nFree delivery', '₹399₹1,49973% off\\nFree delivery', '₹1,304₹3,99967% off\\nFree delivery', '₹399₹1,99980% off\\nFree delivery', '₹399₹3,49988% off\\nFree delivery', '₹599₹99940% off\\nFree delivery', '₹369₹1,49975% off\\nFree delivery', '₹399₹99960% off\\nFree delivery', '₹1,499₹3,99962% off\\nFree delivery', '₹399₹1,49973% off\\nFree delivery', '₹429₹1,89977% off\\nFree delivery', '₹1,499₹3,99962% off\\nFree delivery', '₹649₹99834% off\\nFree delivery', '₹299₹99970% off\\nFree delivery', '₹299₹99970% off\\nFree delivery', '₹499₹1,49866% off\\nFree delivery', '₹379₹1,99881% off\\nFree delivery', '₹499₹99950% off\\nFree delivery', '₹749₹1,69955% off\\nFree delivery', '₹249₹1,29980% off\\nFree delivery', '₹1,259₹2,99958% off\\nFree delivery', '₹719₹89920% off\\nFree delivery', '₹549₹99945% off\\nFree delivery', '₹429₹1,49971% off\\nFree delivery', '₹1,099₹3,99972% off\\nFree delivery', '₹1,124₹4,49975% off\\nFree delivery', '₹399₹2,49984% off\\nFree delivery', '₹499₹99950% off\\nFree delivery', '₹1,224₹4,89975% off\\nFree delivery', '₹439₹99956% off\\nFree delivery', '₹399₹3,49988% off\\nFree delivery', '₹279₹71560% off\\nFree delivery', '₹579₹1,99871% off\\nFree delivery', '₹369₹2,49985% off\\nFree delivery', '₹3,296₹8,99963% off\\nFree delivery', '₹1,274₹4,89973% off\\nFree delivery', '₹339₹1,29973% off\\nFree delivery', '₹399₹2,49984% off\\nFree delivery', '₹499₹1,29961% off\\nFree delivery', '₹1,074₹4,29975% off\\nFree delivery', '₹429₹1,99878% off\\nFree delivery', '₹1,149₹4,49974% off\\nFree delivery', '₹369₹2,49985% off\\nFree delivery', '₹399₹1,99980% off\\nFree delivery', '₹299₹99970% off\\nFree delivery', '₹597₹1,99070% off\\nFree delivery', '₹549₹99945% off\\nFree delivery', '₹359₹1,99982% off\\nFree delivery', '₹1,224₹4,89975% off\\nFree delivery', '₹597₹1,99070% off\\nFree delivery', '₹399₹2,49984% off\\nFree delivery', '₹499₹1,49866% off\\nFree delivery', '₹599₹1,99970% off\\nFree delivery', '₹441₹1,99977% off\\nFree delivery', '₹499₹69928% off\\nFree delivery', '₹299₹99970% off\\nFree delivery', '₹369₹99963% off\\nFree delivery', '₹499₹99950% off\\nFree delivery', '₹409₹1,99979% off\\nFree delivery', '₹349₹99965% off\\nFree delivery', '₹499₹1,49866% off\\nFree delivery', '₹349₹1,29973% off\\nFree delivery', '₹359₹1,29972% off\\nFree delivery', '₹399₹2,49984% off\\nFree delivery', '₹1,499₹3,99962% off\\nFree delivery', '₹1,891₹4,29956% off\\nFree delivery', '₹449₹99955% off\\nFree delivery', '₹399₹99960% off\\nFree delivery', '₹474₹99952% off\\nFree delivery', '₹1,299₹3,99967% off\\nFree delivery', '₹725₹2,19967% off\\nFree delivery', '₹974₹3,89975% off\\nFree delivery', '₹339₹1,99983% off', '₹745₹1,69956% off\\nFree delivery', '₹4,056₹9,99959% off\\nFree delivery', '₹1,149₹4,49974% off\\nFree delivery', '₹549₹99945% off\\nFree delivery', '₹719₹99928% off', '₹1,668₹4,29961% off\\nFree delivery', '₹249₹99975% off\\nFree delivery', '₹399₹2,49984% off\\nFree delivery', '₹399₹2,49984% off\\nFree delivery', '₹499₹99950% off\\nFree delivery', '₹479₹1,49968% off\\nFree delivery', '₹479₹4,05188% off\\nFree delivery', '₹1,359₹3,99966% off\\nFree delivery', '₹479₹1,49968% off\\nFree delivery', '₹699₹1,49953% off\\nFree delivery', '₹569₹1,89870% off\\nFree delivery', '₹1,499₹3,99962% off\\nFree delivery', '₹249₹1,49083% off\\nFree delivery', '₹404₹1,29968% off\\nFree delivery', '₹399₹99960% off\\nFree delivery', '₹449₹1,99977% off\\nFree delivery', '₹398₹1,29969% off\\nFree delivery', '₹299₹99970% off\\nFree delivery']}, {'Brand': ['BIRDE', 'aadi', 'HIGHLANDER', 'aadi', 'asian', 'World Wear Footwear', 'World Wear Footwear', 'BIRDE', 'aadi', 'Kraasa', 'Shozie', 'BIRDE', 'aadi', 'BRUTON', 'World Wear Footwear', 'BRUTON', 'PUMA', 'World Wear Footwear', 'Magnolia', 'BRUTON', 'aadi', 'BRUTON', 'asian', 'Sparx', 'KILLER', 'WHITE WALKERS', 'PUMA', 'aadi', 'BRUTON', 'BIRDE', 'lejano', 'Labbin', 'PUMA', 'WHITE WALKERS', 'kardam&sons', 'PUMA', 'BIRDE', 'K- FOOTLANCE', \"K' Footlance\", 'BIRDE', 'SFR', 'BIRDE', 'asian', 'BRUTON', 'U.S. POLO ASSN.', 'Sparx', 'RapidBox', 'BIRDE', 'PUMA', 'PUMA', 'BRUTON', 'Xtoon', 'HRX by Hrithik Roshan', 'Shozie', 'BRUTON', 'SFR', 'BIRDE', 'BRUTON', 'PUMA', 'HRX by Hrithik Roshan', 'kardam&sons', 'BRUTON', 'asian', 'PUMA', 'HOTSTYLE', 'PUMA', 'BRUTON', 'aadi', 'Brainer', 'HIGHLANDER', 'RapidBox', 'kardam&sons', 'HRX by Hrithik Roshan', 'HIGHLANDER', 'BRUTON', 'BIRDE', 'ASTEROID', 'kardam&sons', 'asian', 'K- FOOTLANCE', 'SFR', 'Footox', 'Deals4you', 'aadi', 'BIRDE', 'Magnolia', 'kardam&sons', 'BRUTON', 'PUMA', 'Skechers', 'RODDICK SHOES', 'Footox', 'asian', 'PUMA', 'LIBERTY', 'HRX by Hrithik Roshan', 'kardam&sons', 'Zixer', 'PUMA', 'PUMA', 'RapidBox', 'City Soles', 'PUMA', 'Lee Won', 'BRUTON', 'BRUTON', 'Footox', 'WHITE WALKERS', 'BERSACHE', 'PUMA', 'WHITE WALKERS', 'asian', 'HIGHLANDER', 'PUMA', 'World Wear Footwear', 'kardam&sons', 'Footox', 'kardam&sons', 'Magnolia', 'BIRDE'], 'Description': ['Combo Pack of 2 Casual Shoes Sneakers For Men', 'Synthetic Leather |Lightweight|Comfort|Summer|Trendy|Wa...', 'Sneakers For Men', 'Sneakers For Men', 'asian Thunder-01 White Color Change Sneakers,Casuals,Lo...', 'Latest Exclusive Affordable Collection of Trendy & Styl...', 'Latest Exclusive Affordable Collection of Trendy & Styl...', 'Combo Pack Of 2 Casual Shoes Sneakers For Men', 'Lightweight,Comfort,Summer,Trendy,Walking,Outdoor,Styli...', 'Sneakers For Women', 'Sneakers For Women', 'Premium Casual Shoes for Men Sneakers For Men', 'Lightweight,Comfort,Summer,Trendy,Walking,Outdoor,Styli...', 'Lattest Sneakers Shoe Sneakers For Men', 'Exclusive Affordable Collection of Trendy & Stylish Cas...', 'Modern Trendy Shoes Sneakers For Men', 'Player Sneakers For Men', 'Latest Exclusive Affordable Collection of Trendy & Styl...', 'Modern Trendy Sneakers boot Sneakers Sneakers For Men', 'Combo Pack Of 2 Casual Shoes Sneakers For Men', 'Mesh |Lightweight|Comfort|Summer|Trendy|Walking|Outdoor...', 'Combo Pack Of 2 Casual Shoes Sneakers For Men Sneakers ...', 'WATERPROOF-05cFULLBLACK Sneakers For Men', 'SM-734 Sneakers For Men', 'Sneakers For Men', 'Stylish & Trending Outdoor Walking Comfortable Sneakers...', 'Troy MU Sneakers For Men', 'Mesh |Lightweight|Comfort|Summer|Trendy|Walking|Outdoor...', 'Combo Pack Of 4 Casual Shoes Loafer Shoes Sneakers For ...', 'Combo Pack Of 2 Casual Shoes Sneakers For Men', 'Sneakers For Men', 'Sneakers For Men', 'Hustle V2 Sneakers For Men', 'Stylish & Trending Outdoor Walking Comfortable Sneakers...', 'kardam&sons luxury fashionable Stylish Light Weight Sne...', 'Hustle V2 Sneakers For Men', 'Combo Pack of 2 Casual Shoe Sneakers For Men', 'Sneakers For Men', 'Fashion and Stylish Soft Ultralight Lace Up Sneakers Ca...', 'Combo Pack of 2 Sports Sneakers For Men', 'Mid-Top Combo Pack of 02 Pairs Lace-ups Trainer Shoes S...', 'Combo Pack Of 2 Casual Shoes Sneakers For Men', 'Thunder-01 White Canvas, Sneakers For Men', 'Lattest Sneakers Shoe Sneakers For Men', 'CLARKIN Sneakers For Men', 'Men White Sneakers Sneakers For Men', 'Sneakers For Men', 'Premium White Casual Shoes Sneakers For Men Sneakers Fo...', 'Zod Runner V3 Sneakers For Men', 'Buzz Sneakers For Men', '2 Combo Sneaker Shoes Sneakers For Men', \"White casual, gym,training & Running sneakers for men's...\", 'Men Street Athleisure Shoe Sneakers For Men', 'Sneakers For Women', 'Combo Pack Of 4 Casual Shoes Loafer Shoes Sneakers For ...', '2006 Trenddy Fashion Sporty Casuals Sneakers Running Sh...', 'Combo Pack of 2 Casual Shoes Sneakers For Men', 'Men Combo Pack of 2 Casual & Sneaker Shoes (Loafer Shoe...', 'Ferrari Neo Cat Mid Sneakers For Men', 'Sneakers For Men', 'Fashionable Canvas Casual Partywear Outdoor Sneakers wh...', 'Combo Pack Of 2 Casual Shoes Sneakers For Men', \"Newton-01 Men's Lightweight Running Shoes Sneakers For ...\", 'Player Running Shoes For Men', 'Combo Pack Of 2 Sneakers For Men', 'Buzz Sneakers For Men', 'Men Combo Pack of 2 Sports Shoes & Casual Sneakers For ...', 'Mesh |Lightweight|Comfort|Summer|Trendy|Walking|Outdoor...', 'Sneakers For Men', 'Sneakers For Men', 'Sneakers For Men', 'luxuryfashion fashionable casual sneaker shoes white Sn...', 'Sneakers For Men', 'Sneakers For Men', 'Combo Pack Of 2 Casual Shoes Sneakers For Men', 'Combo Pack of 2 Sports Sneakers For Men', \"Original Luxury Branded Fashionable Men's Casual Walkin...\", 'kardam&sons luxury fashionable Stylish Light Weight Sne...', 'SM-162 Black Walking ,Training,Sneakers,Loafers,Canvas,...', 'Sneakers For Men', '2003-NAAVY-8 Sneakers For Men', 'Sneaker for Mens | Casual Shoes | Men Shoes Sneakers Fo...', 'Sneakers For Women', 'Mesh |Lightweight|Comfort|Summer|Trendy|Walking|Outdoor...', 'Combo Pack of 2 Sports Sneakers For Men', 'Modern Trendy Sneakers boot Sneakers Sneakers For Men', 'Fashionable Canvas Casual Partywear Outdoor Sneakers wh...', 'Combo_Pack_Of 2 Casual Shoes Sneakers For Men', 'Hustle V2 Sneakers For Men', 'SUMMITS - BRISBANE Sneakers For Men', 'Fashion Outdoor Canvas Casual Light Weight Lace-up Even...', 'Sneaker for Mens | Casual Shoes | Men Shoes Sneakers Fo...', 'PRIDE White Sneakers,Casuals,Walking,Loafers,Stylish Sn...', 'Zod Runner V3 Sneakers For Men', 'Gliders RIDER-E by liberty Sneakers For Men', 'Sneakers For Men', 'Canvas Casual Partywear Outdoor Shoes For Boys Sneakers...', 'Exclusive Rap & Dance Shoes For Boys Sneakers For Men S...', 'RS-Z Reinvention Sneakers For Men', 'Buzz Sneakers For Men', 'Sneakers For Men', 'Sneakers Long Shoes Sneakers For Men', 'Raptor Sneakers For Men', 'Sneakers For Men', 'Combo Pack Of 2 Casual Shoes Sneakers For Men', 'Combo Pack Of 2 Casual Shoes Sneakers For Men', 'Sneaker for Mens | Casual Shoes | Men Shoes Sneakers Fo...', 'Stylish & Trending Lifestyle Casual Sneakers For Men', 'Bersache Lightweight Color Changing Casual,Sneaker Shoe...', 'Corode Sneakers For Men', 'Stylish & Trending Lifestyle Casual Sneakers For Men', 'Trendy-21 White Color Change Sneakers,Casuals,Loafers S...', 'Sneakers For Men', 'Hustle V2 Sneakers For Men', 'Exclusive Affordable Collection of Trendy & Stylish Cas...', 'Fashionable Canvas Casual Partywear Outdoor Sneakers wh...', \"Men's Shoes | Casual Shoes | Sports Shoes Sneakers For ...\", 'kardam&sons luxury fashionable Stylish Light Weight Sne...', 'Modern Trendy Sneakers boot Sneakers Sneakers For Men', 'Premium White Sneakers For women Sneakers For Women'], 'Price': ['₹479₹1,99876% off\\nFree delivery', '₹249₹1,99987% off\\nFree delivery', '₹599₹1,19850% off\\nFree delivery', '₹349₹1,99982% off\\nFree delivery', '₹714₹1,69957% off\\nFree delivery', '₹249₹1,99987% off\\nFree delivery', '₹399₹1,99980% off\\nFree delivery', '₹499₹99950% off\\nFree delivery', '₹249₹1,99987% off\\nFree delivery', '₹299₹99970% off\\nFree delivery', '₹439₹99956% off\\nFree delivery', '₹399₹99960% off\\nFree delivery', '₹299₹1,99985% off\\nFree delivery', '₹229₹1,29982% off\\nFree delivery', '₹249₹1,49083% off\\nFree delivery', '₹229₹1,29982% off\\nFree delivery', '₹1,074₹4,29975% off\\nFree delivery', '₹369₹1,99981% off\\nFree delivery', '₹398₹1,29969% off\\nFree delivery', '₹399₹2,49984% off\\nFree delivery', '₹499₹1,99975% off\\nFree delivery', '₹399₹2,49984% off\\nFree delivery', '₹569₹99943% off\\nFree delivery', '₹679₹84920% off\\nFree delivery', '₹569₹2,09972% off\\nFree delivery', '₹399₹1,49973% off\\nFree delivery', '₹1,304₹3,99967% off\\nFree delivery', '₹399₹1,99980% off\\nFree delivery', '₹399₹3,49988% off\\nFree delivery', '₹599₹99940% off\\nFree delivery', '₹369₹1,49975% off\\nFree delivery', '₹399₹99960% off\\nFree delivery', '₹1,499₹3,99962% off\\nFree delivery', '₹399₹1,49973% off\\nFree delivery', '₹429₹1,89977% off\\nFree delivery', '₹1,499₹3,99962% off\\nFree delivery', '₹649₹99834% off\\nFree delivery', '₹299₹99970% off\\nFree delivery', '₹299₹99970% off\\nFree delivery', '₹499₹1,49866% off\\nFree delivery', '₹379₹1,99881% off\\nFree delivery', '₹499₹99950% off\\nFree delivery', '₹749₹1,69955% off\\nFree delivery', '₹249₹1,29980% off\\nFree delivery', '₹1,259₹2,99958% off\\nFree delivery', '₹719₹89920% off\\nFree delivery', '₹549₹99945% off\\nFree delivery', '₹429₹1,49971% off\\nFree delivery', '₹1,099₹3,99972% off\\nFree delivery', '₹1,124₹4,49975% off\\nFree delivery', '₹399₹2,49984% off\\nFree delivery', '₹499₹99950% off\\nFree delivery', '₹1,224₹4,89975% off\\nFree delivery', '₹439₹99956% off\\nFree delivery', '₹399₹3,49988% off\\nFree delivery', '₹279₹71560% off\\nFree delivery', '₹579₹1,99871% off\\nFree delivery', '₹369₹2,49985% off\\nFree delivery', '₹3,296₹8,99963% off\\nFree delivery', '₹1,274₹4,89973% off\\nFree delivery', '₹339₹1,29973% off\\nFree delivery', '₹399₹2,49984% off\\nFree delivery', '₹499₹1,29961% off\\nFree delivery', '₹1,074₹4,29975% off\\nFree delivery', '₹429₹1,99878% off\\nFree delivery', '₹1,149₹4,49974% off\\nFree delivery', '₹369₹2,49985% off\\nFree delivery', '₹399₹1,99980% off\\nFree delivery', '₹299₹99970% off\\nFree delivery', '₹597₹1,99070% off\\nFree delivery', '₹549₹99945% off\\nFree delivery', '₹359₹1,99982% off\\nFree delivery', '₹1,224₹4,89975% off\\nFree delivery', '₹597₹1,99070% off\\nFree delivery', '₹399₹2,49984% off\\nFree delivery', '₹499₹1,49866% off\\nFree delivery', '₹599₹1,99970% off\\nFree delivery', '₹441₹1,99977% off\\nFree delivery', '₹499₹69928% off\\nFree delivery', '₹299₹99970% off\\nFree delivery', '₹369₹99963% off\\nFree delivery', '₹499₹99950% off\\nFree delivery', '₹409₹1,99979% off\\nFree delivery', '₹349₹99965% off\\nFree delivery', '₹499₹1,49866% off\\nFree delivery', '₹349₹1,29973% off\\nFree delivery', '₹359₹1,29972% off\\nFree delivery', '₹399₹2,49984% off\\nFree delivery', '₹1,499₹3,99962% off\\nFree delivery', '₹1,891₹4,29956% off\\nFree delivery', '₹449₹99955% off\\nFree delivery', '₹399₹99960% off\\nFree delivery', '₹474₹99952% off\\nFree delivery', '₹1,299₹3,99967% off\\nFree delivery', '₹725₹2,19967% off\\nFree delivery', '₹974₹3,89975% off\\nFree delivery', '₹339₹1,99983% off', '₹745₹1,69956% off\\nFree delivery', '₹4,056₹9,99959% off\\nFree delivery', '₹1,149₹4,49974% off\\nFree delivery', '₹549₹99945% off\\nFree delivery', '₹719₹99928% off', '₹1,668₹4,29961% off\\nFree delivery', '₹249₹99975% off\\nFree delivery', '₹399₹2,49984% off\\nFree delivery', '₹399₹2,49984% off\\nFree delivery', '₹499₹99950% off\\nFree delivery', '₹479₹1,49968% off\\nFree delivery', '₹479₹4,05188% off\\nFree delivery', '₹1,359₹3,99966% off\\nFree delivery', '₹479₹1,49968% off\\nFree delivery', '₹699₹1,49953% off\\nFree delivery', '₹569₹1,89870% off\\nFree delivery', '₹1,499₹3,99962% off\\nFree delivery', '₹249₹1,49083% off\\nFree delivery', '₹404₹1,29968% off\\nFree delivery', '₹399₹99960% off\\nFree delivery', '₹449₹1,99977% off\\nFree delivery', '₹398₹1,29969% off\\nFree delivery', '₹299₹99970% off\\nFree delivery']}]\n"
     ]
    }
   ],
   "source": [
    "# Scrapping the data for the first 100 sunglasses\n",
    "sneakers_data = []\n",
    "Brand=[]  # empty list for the Sunglasses Brand name\n",
    "description=[] # empty list for the sunglasses drscription\n",
    "price=[] # empty list for the sunglasses price\n",
    "\n",
    "current_page=1 # counter for the first page\n",
    "while current_page <= 3: # repeat the process until the third page\n",
    "    listings = driver.find_elements(By.XPATH,'//*[@id=\"container\"]/div/div[3]/div[1]/div[2]') \n",
    "    brand_tags=driver.find_elements(By.CLASS_NAME,'_2WkVRV')\n",
    "    for i in brand_tags[0:40]:\n",
    "        brand=i.text\n",
    "        Brand.append(brand)\n",
    "    \n",
    "    # Scraping job location from the given page\n",
    "    description_tags=driver.find_elements(By.CLASS_NAME,'IRpwTa')\n",
    "    for i in description_tags[0:40]:\n",
    "        desc=i.text\n",
    "        description.append(desc)\n",
    "    \n",
    "    # Scraping Company name from the given page\n",
    "    price_tags=driver.find_elements(By.CLASS_NAME,'_3bPFwb')\n",
    "    for i in price_tags[0:40]:\n",
    "        prices=i.text\n",
    "        price.append(prices)\n",
    "    sneakers_data.append({'Brand': Brand, 'Description': description, 'Price': price})\n",
    "# Increment the current page counter\n",
    "    current_page += 1\n",
    "    driver.get('https://www.flipkart.com/search?q=sneakers&page=' + str(current_page))    \n",
    "print(sneakers_data)"
   ]
  },
  {
   "cell_type": "markdown",
   "id": "48497aed",
   "metadata": {},
   "source": [
    "Q7: Go to webpage https://www.amazon.in/ Enter “Laptop” in the search field and then click the search icon. Then \n",
    "set CPU Type filter to “Intel Core i7” as shown in the below image:  After setting the filters scrape first 10 laptops data. You have to scrape 3 attributes for each laptop:\n",
    "1. Title\n",
    "2. Ratings\n",
    "3. Price"
   ]
  },
  {
   "cell_type": "code",
   "execution_count": 244,
   "id": "7f89901b",
   "metadata": {},
   "outputs": [],
   "source": [
    "# Set up the WebDriver (assuming you have already installed the appropriate driver)\n",
    "driver = webdriver.Chrome()\n",
    "\n",
    "# Navigate to Amazon.in\n",
    "driver.get('https://www.amazon.in/')"
   ]
  },
  {
   "cell_type": "code",
   "execution_count": 245,
   "id": "ad8b5ece",
   "metadata": {},
   "outputs": [],
   "source": [
    "# Find the search input field and enter \"laptop\"\n",
    "search_input = driver.find_element(By.ID,'twotabsearchtextbox')\n",
    "search_input.send_keys('laptop')\n",
    "\n",
    "# Find and click the search button\n",
    "search_button = driver.find_element(By.ID,'nav-search-submit-button')\n",
    "search_button.click()"
   ]
  },
  {
   "cell_type": "code",
   "execution_count": 246,
   "id": "ee04618c",
   "metadata": {},
   "outputs": [
    {
     "data": {
      "text/plain": [
       "<selenium.webdriver.remote.webelement.WebElement (session=\"0e5e1e4869f38fadd246dd9357c858fc\", element=\"2508A1D0A939D0511128B4D8470B5280_element_71\")>"
      ]
     },
     "execution_count": 246,
     "metadata": {},
     "output_type": "execute_result"
    }
   ],
   "source": [
    "# Find the filter options and click on \"Intel Core i7\"\n",
    "filter_option = driver.find_element(By.ID,'p_n_feature_thirteen_browse-bin/12598163031')\n",
    "filter_option.click()\n",
    "\n",
    "# Wait for the filtered results to load\n",
    "wait = WebDriverWait(driver, 10)\n",
    "wait.until(EC.presence_of_element_located((By.ID, 'search')))\n"
   ]
  },
  {
   "cell_type": "code",
   "execution_count": 247,
   "id": "469f48d5",
   "metadata": {},
   "outputs": [
    {
     "name": "stdout",
     "output_type": "stream",
     "text": [
      "[]\n"
     ]
    }
   ],
   "source": [
    "#a-section a-spacing-none s-result-item s-flex-full-width s-border-bottom-none s-widget s-widget-spacing-large\n",
    "# Scrapping the data for the first 10 jobs\n",
    "\n",
    "laptop_title=[]  # empty list for the job titles\n",
    "laptop_ratings=[] # empty list for the job location\n",
    "laptop_price=[] # empty list for the company name\n",
    "combined=[]\n",
    "\n",
    "# Scraping job title from the given page\n",
    "title_tags=driver.find_elements(By.CLASS_NAME,'a-size-medium a-color-base a-text-normal')\n",
    "for i in title_tags[0:10]:\n",
    "    title=i.text\n",
    "    laptop_title.append(title)\n",
    "    \n",
    "# Scraping job location from the given page\n",
    "rating_tags=driver.find_elements(By.CLASS_NAME,'a-icon a-icon-star-small a-star-small-4 aok-align-bottom')\n",
    "for i in rating_tags[0:10]:\n",
    "    rating=i.text\n",
    "    laptop_ratings.append(rating)\n",
    "    \n",
    "# Scraping Company name from the given page\n",
    "price_tags=driver.find_elements(By.CLASS_NAME,'a-price-whole')\n",
    "for i in price_tags[0:10]:\n",
    "    price=i.text\n",
    "    laptop_price.append(price)\n",
    "combined=laptop_title+laptop_ratings+laptop_price\n",
    "print(laptop_title)"
   ]
  },
  {
   "cell_type": "code",
   "execution_count": null,
   "id": "ebc4e0d7",
   "metadata": {},
   "outputs": [],
   "source": []
  },
  {
   "cell_type": "markdown",
   "id": "1c066c49",
   "metadata": {},
   "source": [
    "Q8 Write a python program to scrape data for Top 1000 Quotes of All Time.\n",
    "The above task will be done in following steps:\n",
    "1. First get the webpagehttps://www.azquotes.com/\n",
    "2. Click on TopQuotes\n",
    "3. Than scrap a) Quote b) Author c) Type Of Quote"
   ]
  },
  {
   "cell_type": "code",
   "execution_count": 251,
   "id": "9b96791b",
   "metadata": {},
   "outputs": [],
   "source": [
    "# Set up the WebDriver (assuming you have already installed the appropriate driver)\n",
    "driver = webdriver.Chrome()\n",
    "\n",
    "# Step 1: Get the webpage https://www.azquotes.com/\n",
    "driver.get('https://www.azquotes.com/')\n",
    "\n",
    "# Wait for the page to load\n",
    "time.sleep(2)"
   ]
  },
  {
   "cell_type": "code",
   "execution_count": 252,
   "id": "283ee23e",
   "metadata": {},
   "outputs": [],
   "source": [
    "# Step 2: Click on Top Quotes\n",
    "top_quotes_link = driver.find_element(By.XPATH,'//*[@id=\"menu\"]/div/div[3]/ul/li[5]/a')\n",
    "top_quotes_link.click()\n",
    "\n",
    "# Wait for the page to load\n",
    "time.sleep(2)\n"
   ]
  },
  {
   "cell_type": "code",
   "execution_count": 253,
   "id": "a29795ba",
   "metadata": {},
   "outputs": [
    {
     "ename": "ElementNotInteractableException",
     "evalue": "Message: element not interactable\n  (Session info: chrome=114.0.5735.91)\nStacktrace:\nBacktrace:\n\tGetHandleVerifier [0x0027A813+48355]\n\t(No symbol) [0x0020C4B1]\n\t(No symbol) [0x00115220]\n\t(No symbol) [0x00141846]\n\t(No symbol) [0x00139F5C]\n\t(No symbol) [0x0015A73C]\n\t(No symbol) [0x00139A36]\n\t(No symbol) [0x0015AA94]\n\t(No symbol) [0x0016C922]\n\t(No symbol) [0x0015A536]\n\t(No symbol) [0x001382DC]\n\t(No symbol) [0x001393DD]\n\tGetHandleVerifier [0x004DAABD+2539405]\n\tGetHandleVerifier [0x0051A78F+2800735]\n\tGetHandleVerifier [0x0051456C+2775612]\n\tGetHandleVerifier [0x003051E0+616112]\n\t(No symbol) [0x00215F8C]\n\t(No symbol) [0x00212328]\n\t(No symbol) [0x0021240B]\n\t(No symbol) [0x00204FF7]\n\tBaseThreadInitThunk [0x77567D59+25]\n\tRtlInitializeExceptionChain [0x77C1B74B+107]\n\tRtlClearBits [0x77C1B6CF+191]\n\t(No symbol) [0x00000000]\n",
     "output_type": "error",
     "traceback": [
      "\u001b[1;31m---------------------------------------------------------------------------\u001b[0m",
      "\u001b[1;31mElementNotInteractableException\u001b[0m           Traceback (most recent call last)",
      "Input \u001b[1;32mIn [253]\u001b[0m, in \u001b[0;36m<cell line: 6>\u001b[1;34m()\u001b[0m\n\u001b[0;32m     46\u001b[0m next_button \u001b[38;5;241m=\u001b[39m driver\u001b[38;5;241m.\u001b[39mfind_element(By\u001b[38;5;241m.\u001b[39mCLASS_NAME,\u001b[38;5;124m'\u001b[39m\u001b[38;5;124mnext\u001b[39m\u001b[38;5;124m'\u001b[39m)\n\u001b[0;32m     48\u001b[0m \u001b[38;5;66;03m# Click the next page button to move to the next page\u001b[39;00m\n\u001b[1;32m---> 49\u001b[0m \u001b[43mnext_button\u001b[49m\u001b[38;5;241;43m.\u001b[39;49m\u001b[43mclick\u001b[49m\u001b[43m(\u001b[49m\u001b[43m)\u001b[49m\n\u001b[0;32m     51\u001b[0m \u001b[38;5;66;03m# Wait for the page to load\u001b[39;00m\n\u001b[0;32m     52\u001b[0m time\u001b[38;5;241m.\u001b[39msleep(\u001b[38;5;241m2\u001b[39m)\n",
      "File \u001b[1;32m~\\anaconda3\\lib\\site-packages\\selenium\\webdriver\\remote\\webelement.py:94\u001b[0m, in \u001b[0;36mWebElement.click\u001b[1;34m(self)\u001b[0m\n\u001b[0;32m     92\u001b[0m \u001b[38;5;28;01mdef\u001b[39;00m \u001b[38;5;21mclick\u001b[39m(\u001b[38;5;28mself\u001b[39m) \u001b[38;5;241m-\u001b[39m\u001b[38;5;241m>\u001b[39m \u001b[38;5;28;01mNone\u001b[39;00m:\n\u001b[0;32m     93\u001b[0m     \u001b[38;5;124;03m\"\"\"Clicks the element.\"\"\"\u001b[39;00m\n\u001b[1;32m---> 94\u001b[0m     \u001b[38;5;28;43mself\u001b[39;49m\u001b[38;5;241;43m.\u001b[39;49m\u001b[43m_execute\u001b[49m\u001b[43m(\u001b[49m\u001b[43mCommand\u001b[49m\u001b[38;5;241;43m.\u001b[39;49m\u001b[43mCLICK_ELEMENT\u001b[49m\u001b[43m)\u001b[49m\n",
      "File \u001b[1;32m~\\anaconda3\\lib\\site-packages\\selenium\\webdriver\\remote\\webelement.py:403\u001b[0m, in \u001b[0;36mWebElement._execute\u001b[1;34m(self, command, params)\u001b[0m\n\u001b[0;32m    401\u001b[0m     params \u001b[38;5;241m=\u001b[39m {}\n\u001b[0;32m    402\u001b[0m params[\u001b[38;5;124m\"\u001b[39m\u001b[38;5;124mid\u001b[39m\u001b[38;5;124m\"\u001b[39m] \u001b[38;5;241m=\u001b[39m \u001b[38;5;28mself\u001b[39m\u001b[38;5;241m.\u001b[39m_id\n\u001b[1;32m--> 403\u001b[0m \u001b[38;5;28;01mreturn\u001b[39;00m \u001b[38;5;28;43mself\u001b[39;49m\u001b[38;5;241;43m.\u001b[39;49m\u001b[43m_parent\u001b[49m\u001b[38;5;241;43m.\u001b[39;49m\u001b[43mexecute\u001b[49m\u001b[43m(\u001b[49m\u001b[43mcommand\u001b[49m\u001b[43m,\u001b[49m\u001b[43m \u001b[49m\u001b[43mparams\u001b[49m\u001b[43m)\u001b[49m\n",
      "File \u001b[1;32m~\\anaconda3\\lib\\site-packages\\selenium\\webdriver\\remote\\webdriver.py:440\u001b[0m, in \u001b[0;36mWebDriver.execute\u001b[1;34m(self, driver_command, params)\u001b[0m\n\u001b[0;32m    438\u001b[0m response \u001b[38;5;241m=\u001b[39m \u001b[38;5;28mself\u001b[39m\u001b[38;5;241m.\u001b[39mcommand_executor\u001b[38;5;241m.\u001b[39mexecute(driver_command, params)\n\u001b[0;32m    439\u001b[0m \u001b[38;5;28;01mif\u001b[39;00m response:\n\u001b[1;32m--> 440\u001b[0m     \u001b[38;5;28;43mself\u001b[39;49m\u001b[38;5;241;43m.\u001b[39;49m\u001b[43merror_handler\u001b[49m\u001b[38;5;241;43m.\u001b[39;49m\u001b[43mcheck_response\u001b[49m\u001b[43m(\u001b[49m\u001b[43mresponse\u001b[49m\u001b[43m)\u001b[49m\n\u001b[0;32m    441\u001b[0m     response[\u001b[38;5;124m\"\u001b[39m\u001b[38;5;124mvalue\u001b[39m\u001b[38;5;124m\"\u001b[39m] \u001b[38;5;241m=\u001b[39m \u001b[38;5;28mself\u001b[39m\u001b[38;5;241m.\u001b[39m_unwrap_value(response\u001b[38;5;241m.\u001b[39mget(\u001b[38;5;124m\"\u001b[39m\u001b[38;5;124mvalue\u001b[39m\u001b[38;5;124m\"\u001b[39m, \u001b[38;5;28;01mNone\u001b[39;00m))\n\u001b[0;32m    442\u001b[0m     \u001b[38;5;28;01mreturn\u001b[39;00m response\n",
      "File \u001b[1;32m~\\anaconda3\\lib\\site-packages\\selenium\\webdriver\\remote\\errorhandler.py:245\u001b[0m, in \u001b[0;36mErrorHandler.check_response\u001b[1;34m(self, response)\u001b[0m\n\u001b[0;32m    243\u001b[0m         alert_text \u001b[38;5;241m=\u001b[39m value[\u001b[38;5;124m\"\u001b[39m\u001b[38;5;124malert\u001b[39m\u001b[38;5;124m\"\u001b[39m]\u001b[38;5;241m.\u001b[39mget(\u001b[38;5;124m\"\u001b[39m\u001b[38;5;124mtext\u001b[39m\u001b[38;5;124m\"\u001b[39m)\n\u001b[0;32m    244\u001b[0m     \u001b[38;5;28;01mraise\u001b[39;00m exception_class(message, screen, stacktrace, alert_text)  \u001b[38;5;66;03m# type: ignore[call-arg]  # mypy is not smart enough here\u001b[39;00m\n\u001b[1;32m--> 245\u001b[0m \u001b[38;5;28;01mraise\u001b[39;00m exception_class(message, screen, stacktrace)\n",
      "\u001b[1;31mElementNotInteractableException\u001b[0m: Message: element not interactable\n  (Session info: chrome=114.0.5735.91)\nStacktrace:\nBacktrace:\n\tGetHandleVerifier [0x0027A813+48355]\n\t(No symbol) [0x0020C4B1]\n\t(No symbol) [0x00115220]\n\t(No symbol) [0x00141846]\n\t(No symbol) [0x00139F5C]\n\t(No symbol) [0x0015A73C]\n\t(No symbol) [0x00139A36]\n\t(No symbol) [0x0015AA94]\n\t(No symbol) [0x0016C922]\n\t(No symbol) [0x0015A536]\n\t(No symbol) [0x001382DC]\n\t(No symbol) [0x001393DD]\n\tGetHandleVerifier [0x004DAABD+2539405]\n\tGetHandleVerifier [0x0051A78F+2800735]\n\tGetHandleVerifier [0x0051456C+2775612]\n\tGetHandleVerifier [0x003051E0+616112]\n\t(No symbol) [0x00215F8C]\n\t(No symbol) [0x00212328]\n\t(No symbol) [0x0021240B]\n\t(No symbol) [0x00204FF7]\n\tBaseThreadInitThunk [0x77567D59+25]\n\tRtlInitializeExceptionChain [0x77C1B74B+107]\n\tRtlClearBits [0x77C1B6CF+191]\n\t(No symbol) [0x00000000]\n"
     ]
    }
   ],
   "source": [
    "# Variable to store the scraped data\n",
    "scraped_data = []\n",
    "\n",
    "# Step 3: Scrape Quote, Author, and Type of Quote for each quote\n",
    "quote_count = 0\n",
    "while quote_count < 1000:\n",
    "    # Find the elements containing the quotes\n",
    "    quote_elements = driver.find_elements(By.CLASS_NAME,'list-quotes')\n",
    "    \n",
    "    # Extract the required information from each quote element\n",
    "    for element in quote_elements:\n",
    "        # Extract the Quote\n",
    "        quote = element.find_element(By.CLASS_NAME,'title')\n",
    "        quote_text = quote.text\n",
    "        \n",
    "        # Extract the Author\n",
    "        author =element.find_element(By.CLASS_NAME,'author')\n",
    "        author_name = author.text\n",
    "        \n",
    "        # Extract the Type of Quote\n",
    "        quote_type = element.find_element(By.CLASS_NAME,'tags')\n",
    "        quote_type_text = quote_type.text\n",
    "        \n",
    "        # Store the scraped data as a dictionary\n",
    "        data = {\n",
    "            'Quote': quote_text,\n",
    "            'Author': author_name,\n",
    "            'Type of Quote': quote_type_text\n",
    "        }\n",
    "        \n",
    "        # Append the data to the scraped_data list\n",
    "        scraped_data.append(data)\n",
    "        \n",
    "        # Increment the quote count\n",
    "        quote_count += 1\n",
    "        \n",
    "        # Check if the desired number of quotes is reached\n",
    "        if quote_count >= 1000:\n",
    "            break\n",
    "    \n",
    "    # Check if the desired number of quotes is reached\n",
    "    if quote_count >= 1000:\n",
    "        break\n",
    "    \n",
    "    # Find the next page button\n",
    "    next_button = driver.find_element(By.CLASS_NAME,'next')\n",
    "    \n",
    "    # Click the next page button to move to the next page\n",
    "    next_button.click()\n",
    "    \n",
    "    # Wait for the page to load\n",
    "    time.sleep(2)\n",
    "\n",
    "# Close the WebDriver\n",
    "driver.quit()\n",
    "\n",
    "# Print the scraped data\n",
    "for data in scraped_data:\n",
    "    print(data)\n"
   ]
  },
  {
   "cell_type": "markdown",
   "id": "acaeed54",
   "metadata": {},
   "source": [
    " Q9: Write a python program to display list of respected former Prime Ministers of India(i.e. Name, Born-Dead, \n",
    "Term of office, Remarks) from https://www.jagranjosh.com/.\n",
    "This task will be done in following steps:\n",
    "1. First get the webpagehttps://www.jagranjosh.com/\n",
    "2. Then You have to click on the GK option\n",
    "3. Then click on the List of all Prime Ministers of India\n",
    "4. Then scrap the mentioned data and make theDataFrame"
   ]
  },
  {
   "cell_type": "code",
   "execution_count": 262,
   "id": "aaad8d6f",
   "metadata": {},
   "outputs": [],
   "source": [
    "# Step 1: Get the webpage https://www.jagranjosh.com/\n",
    "\n",
    "# Set up the WebDriver (assuming you have already installed the appropriate driver)\n",
    "driver = webdriver.Chrome()\n",
    "\n",
    "driver.get('https://www.jagranjosh.com/')"
   ]
  },
  {
   "cell_type": "code",
   "execution_count": 263,
   "id": "72e3e778",
   "metadata": {},
   "outputs": [],
   "source": [
    "# Step 2: Click on the List to click on GK\n",
    "prime_ministers_link = driver.find_element(By.XPATH,'//*[@id=\"1540978020504\"]/div[1]/header/div[3]/ul/li[3]/a')\n",
    "prime_ministers_link.click()\n",
    "\n",
    "# Wait for the page to load\n",
    "driver.implicitly_wait(2)"
   ]
  },
  {
   "cell_type": "code",
   "execution_count": 266,
   "id": "4c56080f",
   "metadata": {},
   "outputs": [],
   "source": [
    "# Step 3: Click on the List to click on GK\n",
    "ministers_links = driver.find_element(By.XPATH,'//*[@id=\"popluarGK\"]/ul/li[2]/a')\n",
    "ministers_links.click()\n",
    "\n",
    "# Wait for the page to load\n",
    "driver.implicitly_wait(2)"
   ]
  },
  {
   "cell_type": "code",
   "execution_count": 267,
   "id": "2986ad4c",
   "metadata": {},
   "outputs": [
    {
     "name": "stdout",
     "output_type": "stream",
     "text": [
      "   Name                    Born-Dead Term of Office  \\\n",
      "0    1.            Jawahar Lal Nehru    (1889–1964)   \n",
      "1    2.    Gulzarilal Nanda (Acting)    (1898-1998)   \n",
      "2    3.          Lal Bahadur Shastri    (1904–1966)   \n",
      "3   4.   Gulzari Lal Nanda  (Acting)    (1898-1998)   \n",
      "4    5.                Indira Gandhi    (1917–1984)   \n",
      "5    6.                Morarji Desai    (1896–1995)   \n",
      "6    7.                 Charan Singh    (1902–1987)   \n",
      "7    8.                Indira Gandhi    (1917–1984)   \n",
      "8    9.                 Rajiv Gandhi    (1944–1991)   \n",
      "9   10.                  V. P. Singh    (1931–2008)   \n",
      "10  11.              Chandra Shekhar    (1927–2007)   \n",
      "11  12.          P. V. Narasimha Rao    (1921–2004)   \n",
      "12  13.         Atal Bihari Vajpayee   (1924- 2018)   \n",
      "13  14.             H. D. Deve Gowda    (born 1933)   \n",
      "14  15.           Inder Kumar Gujral    (1919–2012)   \n",
      "15  16.         Atal Bihari Vajpayee    (1924-2018)   \n",
      "16  17.               Manmohan Singh    (born 1932)   \n",
      "17  18.                Narendra Modi    (born 1950)   \n",
      "18  19.                Narendra Modi    (born 1950)   \n",
      "\n",
      "                                              Remarks  \n",
      "0   15 August 1947 to 27 May 1964\\n16 years, 286 days  \n",
      "1                27 May 1964 to 9 June 1964,\\n13 days  \n",
      "2    9 June 1964 to 11 January 1966\\n1 year, 216 days  \n",
      "3         11 January 1966 to 24 January 1966\\n13 days  \n",
      "4   24 January 1966 to 24 March 1977\\n11 years, 59...  \n",
      "5   24 March 1977 to  28 July 1979 \\n2 year, 126 days  \n",
      "6           28 July 1979 to 14 January 1980\\n170 days  \n",
      "7   14 January 1980 to 31 October 1984\\n4 years, 2...  \n",
      "8   31 October 1984 to 2 December 1989\\n5 years, 3...  \n",
      "9       2 December 1989 to 10 November 1990\\n343 days  \n",
      "10         10 November 1990 to 21 June 1991\\n223 days  \n",
      "11     21 June 1991 to 16 May 1996\\n4 years, 330 days  \n",
      "12                16 May 1996 to 1 June 1996\\n16 days  \n",
      "13             1 June 1996 to 21 April 1997\\n324 days  \n",
      "14          21 April 1997 to 19 March 1998 \\n332 days  \n",
      "15    19 March 1998 to 22 May 2004 \\n6 years, 64 days  \n",
      "16    22 May 2004 to 26 May 2014   \\n10 years, 4 days  \n",
      "17                                 26 May 2014 - 2019  \n",
      "18                             30 May 2019- Incumbent  \n"
     ]
    }
   ],
   "source": [
    "# Step 4: Scrape the data and create a DataFrame\n",
    "data = []\n",
    "table = driver.find_element(By.XPATH,'//*[@id=\"itemdiv\"]/div[4]/span/div[3]/table')\n",
    "rows = table.find_elements(By.XPATH,'.//tr')\n",
    "\n",
    "for row in rows[1:]:\n",
    "    cells = row.find_elements(By.XPATH,'.//td')\n",
    "    name = cells[0].text\n",
    "    born_dead = cells[1].text\n",
    "    term_of_office = cells[2].text\n",
    "    remarks = cells[3].text\n",
    "    data.append([name, born_dead, term_of_office, remarks])\n",
    "\n",
    "# Create a DataFrame\n",
    "df = pd.DataFrame(data, columns=['Name', 'Born-Dead', 'Term of Office', 'Remarks'])\n",
    "print(df)"
   ]
  },
  {
   "cell_type": "markdown",
   "id": "e0833680",
   "metadata": {},
   "source": [
    "Q10: Write a python program to display list of 50 Most expensive cars in the world (i.e. \n",
    "Car name and Price) from https://www.motor1.com/\n",
    "This task will be done in following steps:\n",
    "1. First get the webpagehttps://www.motor1.com/\n",
    "2. Then You have to type in the search bar ’50 most expensive cars’\n",
    "3. Then click on 50 most expensive carsin the world..\n",
    "4. Then scrap the mentioned data and make the dataframe"
   ]
  },
  {
   "cell_type": "code",
   "execution_count": 270,
   "id": "bbdd2ee7",
   "metadata": {},
   "outputs": [],
   "source": [
    "# Step 1: Get the webpage https://www.jagranjosh.com/\n",
    "\n",
    "# Set up the WebDriver (assuming you have already installed the appropriate driver)\n",
    "driver = webdriver.Chrome()\n",
    "\n",
    "driver.get('https://www.motor1.com/')"
   ]
  },
  {
   "cell_type": "code",
   "execution_count": 271,
   "id": "3adae781",
   "metadata": {},
   "outputs": [],
   "source": [
    "# Wait for the page to load and show results\n",
    "time.sleep(2)\n",
    "driver.implicitly_wait(20)\n",
    " # Entering designation as required in the question\n",
    "designation=driver.find_element(By.ID,\"search_input\")\n",
    "designation.send_keys(\"50 most expensive cars\") # L0Z3Pu\n",
    "\n"
   ]
  },
  {
   "cell_type": "code",
   "execution_count": 273,
   "id": "e8067a0f",
   "metadata": {},
   "outputs": [],
   "source": [
    "driver.implicitly_wait(20)\n",
    "# Delete all cookies\n",
    "driver.delete_all_cookies()\n",
    "search=driver.find_element(By.CLASS_NAME,\"m1-search-form-button-wrapper\")\n",
    "search.click() # Click the search button"
   ]
  },
  {
   "cell_type": "code",
   "execution_count": 274,
   "id": "2d2a4f18",
   "metadata": {},
   "outputs": [],
   "source": [
    "# text-box\n",
    "# Step 3: Click on the List of most expensive cars\n",
    "expensive_car_links = driver.find_element(By.XPATH,'//*[@id=\"page_index_articles_search\"]/div[9]/div/div[1]/div/div/div[2]/div/div[1]')\n",
    "expensive_car_links.click()"
   ]
  },
  {
   "cell_type": "code",
   "execution_count": 275,
   "id": "ab3ddf79",
   "metadata": {},
   "outputs": [
    {
     "name": "stdout",
     "output_type": "stream",
     "text": [
      "        Car Name                Price\n",
      "0  De Tomaso P72  Price: $1.4 Million\n"
     ]
    }
   ],
   "source": [
    "data = []\n",
    "cars = driver.find_elements(By.CLASS_NAME,'subheader')\n",
    "prices = driver.find_elements(By.XPATH,'//*[@id=\"article_box\"]/div[1]/div[2]/div[1]/p[6]/strong')\n",
    "#prices=driver.find_elements(By.XPATH,'lazyload')\n",
    "for car, price in zip(cars, prices):\n",
    "    car_name = car.text\n",
    "    car_price = price.text\n",
    "    data.append([car_name, car_price])\n",
    "# Create a DataFrame\n",
    "df = pd.DataFrame(data, columns=['Car Name', 'Price'])\n",
    "print(df)"
   ]
  },
  {
   "cell_type": "code",
   "execution_count": null,
   "id": "a519dba8",
   "metadata": {},
   "outputs": [],
   "source": []
  }
 ],
 "metadata": {
  "kernelspec": {
   "display_name": "Python 3 (ipykernel)",
   "language": "python",
   "name": "python3"
  },
  "language_info": {
   "codemirror_mode": {
    "name": "ipython",
    "version": 3
   },
   "file_extension": ".py",
   "mimetype": "text/x-python",
   "name": "python",
   "nbconvert_exporter": "python",
   "pygments_lexer": "ipython3",
   "version": "3.9.12"
  }
 },
 "nbformat": 4,
 "nbformat_minor": 5
}
